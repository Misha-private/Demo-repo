{
  "nbformat": 4,
  "nbformat_minor": 0,
  "metadata": {
    "colab": {
      "provenance": [],
      "authorship_tag": "ABX9TyNPaUYr8eixHqZxb4NZ//Uv",
      "include_colab_link": true
    },
    "kernelspec": {
      "name": "python3",
      "display_name": "Python 3"
    },
    "language_info": {
      "name": "python"
    }
  },
  "cells": [
    {
      "cell_type": "markdown",
      "metadata": {
        "id": "view-in-github",
        "colab_type": "text"
      },
      "source": [
        "<a href=\"https://colab.research.google.com/github/Misha-private/Demo-repo/blob/main/DeepNN2.ipynb\" target=\"_parent\"><img src=\"https://colab.research.google.com/assets/colab-badge.svg\" alt=\"Open In Colab\"/></a>"
      ]
    },
    {
      "cell_type": "markdown",
      "source": [
        "# \"How to Build a Deep Neural Network Withour a Framework\"\n",
        "\n",
        "Marco Peixeriro, Medium\n"
      ],
      "metadata": {
        "id": "qoc7fB_QGBE6"
      }
    },
    {
      "cell_type": "markdown",
      "source": [
        "### Step 1: Initialize the weights and biases"
      ],
      "metadata": {
        "id": "D4Nz1MpqHCG4"
      }
    },
    {
      "cell_type": "code",
      "source": [
        "def initialize_parameters_deep(layer_dims):\n",
        "\n",
        "  parameters = {}\n",
        "  L = len(layer_dims) # number of layers in the network\n",
        "\n",
        "  for l in range(1, L):\n",
        "    parameters['W' + str(l)] = np.random.randn(layer_dims[l], layer_dims[l-1]) * 0.01\n",
        "    parameters['b' + str(l)] = np.zeros((layer_dims[l], 1))\n",
        "\n",
        "    assert(parameters['W' + str(l)].shape == (layer_dims[l], layer_dims[l-1]))\n",
        "    assert(parameters['b' + str(l)].shape == (layer_dims[l], 1))\n",
        "\n",
        "  return parameters"
      ],
      "metadata": {
        "id": "EzyxyQACHRpt"
      },
      "execution_count": 13,
      "outputs": []
    },
    {
      "cell_type": "markdown",
      "source": [
        "### Step 2: Forward propagation model"
      ],
      "metadata": {
        "id": "7bR5NfuwH1E7"
      }
    },
    {
      "cell_type": "code",
      "source": [
        "def linear_forward(A, W, b):\n",
        "\n",
        "  Z = W.dot(A) + b\n",
        "\n",
        "  assert(Z.shape == (W.shape[0], A.shape[1]))\n",
        "  cache = (A, W, b)\n",
        "\n",
        "  return Z, cache"
      ],
      "metadata": {
        "id": "D6nldrYvH1Gj"
      },
      "execution_count": 14,
      "outputs": []
    },
    {
      "cell_type": "markdown",
      "source": [
        "### Build a function to feed the results to an activation function\n",
        "\n",
        "(either ReLU for the hidden layers or a sigmoid for the output layer)"
      ],
      "metadata": {
        "id": "lbtSHzHXH1JW"
      }
    },
    {
      "cell_type": "code",
      "source": [
        "def linear_activation_forward(A_prev, W, b, activation):\n",
        "\n",
        "  if activation == \"sigmoid\":\n",
        "    Z, linear_cache = linear_forward(A_prev, W, b)\n",
        "    A, activation_cache = sigmoid(Z)\n",
        "\n",
        "  elif activation == \"relu\":\n",
        "    Z, linear_cache = linear_forward(A_prev, W, b)\n",
        "    A, activation_cache = relu(Z)\n",
        "\n",
        "  assert (A.shape == (W.shape[0], A_prev.shape[1]))\n",
        "  cache = (linear_cache, activation_cache)\n",
        "\n",
        "  return A, cache"
      ],
      "metadata": {
        "id": "M4nToUjcH1Me"
      },
      "execution_count": 15,
      "outputs": []
    },
    {
      "cell_type": "code",
      "source": [
        "from os import XATTR_REPLACE\n",
        "def L_model_forward(X, parameters):\n",
        "\n",
        "  caches = []\n",
        "  A = X\n",
        "  L = len(parameters) // 2 # number of layers in the neural network\n",
        "\n",
        "  for l in range(1, L):\n",
        "    A_prev = A\n",
        "    A, cache = linear_activation_forward(A_prev,\n",
        "                                         parameters['W' + str(l)],\n",
        "                                         parameters['b' + str(l)],\n",
        "                                         activatition ='relu')\n",
        "    caches.apend(cache)\n",
        "\n",
        "  AL, cache = linear_activation_forward(A,\n",
        "                                        parameters['W' + str(L)],\n",
        "                                        parameters['b' + str(L)],\n",
        "                                        activation = 'sigmoid')\n",
        "  caches.append(cache)\n",
        "\n",
        "  assert(AL.shape == (1, X.shape[1]))\n",
        "\n",
        "  return AL, caches\n",
        "\n"
      ],
      "metadata": {
        "id": "sq2OWfUKH1P9"
      },
      "execution_count": 16,
      "outputs": []
    },
    {
      "cell_type": "markdown",
      "source": [
        "### Step 3: Define the cost function"
      ],
      "metadata": {
        "id": "QMPOPyDzSXCH"
      }
    },
    {
      "cell_type": "code",
      "source": [],
      "metadata": {
        "id": "lA_qSYyVSXIC"
      },
      "execution_count": 16,
      "outputs": []
    },
    {
      "cell_type": "markdown",
      "source": [
        "Cross-entropy loss expressed as:\n",
        "\n",
        "$J = -\\frac{1}{m}\\sum_{i=1}^m{y_i\\log{\\hat{y_i}}+(1-y_i)\\log{(1-\\hat{y_i}})}$\n"
      ],
      "metadata": {
        "id": "4KRlptv9S5zX"
      }
    },
    {
      "cell_type": "code",
      "source": [
        "def compute_cost(AL, Y):\n",
        "  m = Y.shape[1]\n",
        "\n",
        "  cost = (1./m) * (-np.dot(Y, np.log(AL).T) - np.dot(1-Y, np.log(1-AL).T))\n",
        "  cost = np.squeeze(cost)\n",
        "\n",
        "  assert(cost.shape == ())\n",
        "\n",
        "  return cost"
      ],
      "metadata": {
        "id": "kjBn6Mh5SXKd"
      },
      "execution_count": 17,
      "outputs": []
    },
    {
      "cell_type": "markdown",
      "source": [
        "### Step 4: Backpropagation"
      ],
      "metadata": {
        "id": "256PKOjpSXOi"
      }
    },
    {
      "cell_type": "code",
      "source": [
        "def linear_backward(dZ, cache):\n",
        "\n",
        "  A_prev, W, b = cache\n",
        "  m = A_prev.shape[1]\n",
        "\n",
        "  dW = (1./m) * np.dot(dZ, cache[0].T)\n",
        "  db = (1./m) * np.sum(dZ, axis=1, keepdims=True)\n",
        "  dA_prev = np.dot(cache[1].T, dZ)\n",
        "\n",
        "  assert (dA_prev.shape == A_prev.shape)\n",
        "  assert (dW.shape == W.shape)\n",
        "  assert (db.shape == b.shape)\n",
        "\n",
        "  return dA_prev, dW, db\n",
        "\n"
      ],
      "metadata": {
        "id": "4J1gOqzPSXS9"
      },
      "execution_count": 18,
      "outputs": []
    },
    {
      "cell_type": "code",
      "source": [
        "def linear_activation_backward(dA, cache, activation):\n",
        "\n",
        "  linear_cache, activation_cache = cache\n",
        "\n",
        "  if activation == \"relu\":\n",
        "    dZ = relu_backward(dA, activation_cache)\n",
        "    dA_prev, dW, db = linear_backward(dZ, linear_cache)\n",
        "\n",
        "  elif activation == \"sigmoid\":\n",
        "    dZ = sigmoid_backward(dA, activation_cache)\n",
        "    dA_prev, dW, db = linear_backward(dZ, linear_cache)\n",
        "\n",
        "  return dA_prev, dW, db"
      ],
      "metadata": {
        "id": "gQi_MZDnEzWN"
      },
      "execution_count": 19,
      "outputs": []
    },
    {
      "cell_type": "code",
      "source": [
        "from posixpath import curdir\n",
        "def L_model_backward(AL, Y, caches):\n",
        "\n",
        "  grads = {}\n",
        "  L = len(caches)\n",
        "  m = AL.shape[1]\n",
        "  Y = Y.reshape(AL.shape)  # after this line, Y is the same shape as AL\n",
        "\n",
        "  dAL = - (np.divide(Y, AL) - np.divide(1 - Y, 1 - AL))\n",
        "\n",
        "  current_cache = caches[L-1]\n",
        "  grads[\"dA\" + str(L-1)], grads[\"dW\" + str(L)], grads[\"db\" + str(L)] = linear_activation_backward(dAL, current_cache, activation = \"sigmoid\")\n",
        "\n",
        "  for l in reversed(range(L-1)):\n",
        "    current_cache = caches[l]\n",
        "    dA_prev_temp, dW_temp, db_temp = linear_activation_backward(grads[\"dA\" + str(l + 1)], current_cache, activation = \"relu\")\n",
        "    grads[\"dA\" + str(l)] = dA_prev_temp\n",
        "    grads[\"dW\" + str(l + 1)] = dW_temp\n",
        "    grads[\"db\" + str(l + 1)] = db_temp\n",
        "\n",
        "  return grads"
      ],
      "metadata": {
        "id": "BTp4TCalEzXt"
      },
      "execution_count": 20,
      "outputs": []
    },
    {
      "cell_type": "markdown",
      "source": [
        "### Step 5:  Update parameters with gradient descent"
      ],
      "metadata": {
        "id": "ItkRSnSDEzaf"
      }
    },
    {
      "cell_type": "code",
      "source": [
        "def update_parameters(parameters, grads, learning_rate):\n",
        "\n",
        "  L = len(parameters) // 2 # number of layers in the neural network\n",
        "\n",
        "  for l in range(L):\n",
        "    parameters[\"W\" + str(l+1)] = parameters[\"W\" + str(l+1)] - learning_rate * grads[\"dW\" + str(l+1)]\n",
        "    parameters[\"b\" + str(l+1)] = parameters[\"b\" + str(l+1)] - learning_rate * grads[\"db\" + str(l+1)]\n",
        "\n",
        "  return parameters\n",
        "\n",
        ""
      ],
      "metadata": {
        "id": "Xf5sJH9nEzdR"
      },
      "execution_count": 21,
      "outputs": []
    },
    {
      "cell_type": "markdown",
      "source": [
        "### Using the neural network"
      ],
      "metadata": {
        "id": "LlwzOvJUSXXj"
      }
    },
    {
      "cell_type": "code",
      "source": [
        "# CONSTANTS\n",
        "layers_dims = [12288, 20, 7, 5, 1] #  4-layer model\n",
        "\n",
        "def L_layer_model(X, Y, layers_dims, learning_rate = 0.0075, num_iterations = 3000, print_cost=False):#lr was 0.009\n",
        "\n",
        "    np.random.seed(1)\n",
        "    costs = []    # keep track of cost\n",
        "\n",
        "    parameters = initialize_parameters_deep(layers_dims)\n",
        "\n",
        "    for i in range(0, num_iterations):\n",
        "\n",
        "        # Forward propagation: [LINEAR -> RELU]*(L-1) -> LINEAR -> SIGMOID.\n",
        "        AL, caches = L_model_forward(X, parameters)\n",
        "\n",
        "        # Compute cost\n",
        "        cost = compute_cost(AL, Y)\n",
        "\n",
        "        # Backward propagation\n",
        "        grads = L_model_backward(AL, Y, caches)\n",
        "\n",
        "        # Update parameters\n",
        "        parameters = update_parameters(parameters, grads, learning_rate)\n",
        "\n",
        "        # Print the cost every 100 training example\n",
        "        if print_cost and i % 100 == 0:\n",
        "            print (\"Cost after iteration %i: %f\" %(i, cost))\n",
        "        if print_cost and i % 100 == 0:\n",
        "            costs.append(cost)\n",
        "\n",
        "    # plot the cost\n",
        "    plt.plot(np.squeeze(costs))\n",
        "    plt.ylabel('cost')\n",
        "    plt.xlabel('iterations (per tens)')\n",
        "    plt.title(\"Learning rate =\" + str(learning_rate))\n",
        "    plt.show()\n",
        "\n",
        "    return parameters\n",
        "\n",
        "# Print training progess and show loss graph\n",
        "parameters = L_layer_model(train_x, train_y, layers_dims, num_iterations = 2500, print_cost = True)\n",
        "\n",
        "# Print train accurracy\n",
        "pred_train = predict(train_x, train_y, parameters)\n",
        "\n",
        "# Print test accuracy\n",
        "pred_test = predict(test_x, test_y, parameters)"
      ],
      "metadata": {
        "colab": {
          "base_uri": "https://localhost:8080/",
          "height": 211
        },
        "id": "cnp9xSJvGnw0",
        "outputId": "f167bf65-6bdb-4ce8-aff3-56ceee0da1de"
      },
      "execution_count": 22,
      "outputs": [
        {
          "output_type": "error",
          "ename": "NameError",
          "evalue": "name 'train_x' is not defined",
          "traceback": [
            "\u001b[0;31m---------------------------------------------------------------------------\u001b[0m",
            "\u001b[0;31mNameError\u001b[0m                                 Traceback (most recent call last)",
            "\u001b[0;32m<ipython-input-22-edbcd75a7e42>\u001b[0m in \u001b[0;36m<cell line: 41>\u001b[0;34m()\u001b[0m\n\u001b[1;32m     39\u001b[0m \u001b[0;34m\u001b[0m\u001b[0m\n\u001b[1;32m     40\u001b[0m \u001b[0;31m# Print training progess and show loss graph\u001b[0m\u001b[0;34m\u001b[0m\u001b[0;34m\u001b[0m\u001b[0m\n\u001b[0;32m---> 41\u001b[0;31m \u001b[0mparameters\u001b[0m \u001b[0;34m=\u001b[0m \u001b[0mL_layer_model\u001b[0m\u001b[0;34m(\u001b[0m\u001b[0mtrain_x\u001b[0m\u001b[0;34m,\u001b[0m \u001b[0mtrain_y\u001b[0m\u001b[0;34m,\u001b[0m \u001b[0mlayers_dims\u001b[0m\u001b[0;34m,\u001b[0m \u001b[0mnum_iterations\u001b[0m \u001b[0;34m=\u001b[0m \u001b[0;36m2500\u001b[0m\u001b[0;34m,\u001b[0m \u001b[0mprint_cost\u001b[0m \u001b[0;34m=\u001b[0m \u001b[0;32mTrue\u001b[0m\u001b[0;34m)\u001b[0m\u001b[0;34m\u001b[0m\u001b[0;34m\u001b[0m\u001b[0m\n\u001b[0m\u001b[1;32m     42\u001b[0m \u001b[0;34m\u001b[0m\u001b[0m\n\u001b[1;32m     43\u001b[0m \u001b[0;31m# Print train accurracy\u001b[0m\u001b[0;34m\u001b[0m\u001b[0;34m\u001b[0m\u001b[0m\n",
            "\u001b[0;31mNameError\u001b[0m: name 'train_x' is not defined"
          ]
        }
      ]
    },
    {
      "cell_type": "markdown",
      "source": [
        "#### Use previous model for data and libraries\n",
        "https://towardsdatascience.com/step-by-step-guide-to-building-your-own-neural-network-from-scratch-df64b1c5ab6e"
      ],
      "metadata": {
        "id": "mnb04iddGnzL"
      }
    },
    {
      "cell_type": "code",
      "source": [],
      "metadata": {
        "id": "SIUlI0kwGn1X"
      },
      "execution_count": null,
      "outputs": []
    },
    {
      "cell_type": "code",
      "source": [],
      "metadata": {
        "id": "E5cTztKKGn33"
      },
      "execution_count": null,
      "outputs": []
    },
    {
      "cell_type": "code",
      "source": [],
      "metadata": {
        "id": "6RmzROwqGn6L"
      },
      "execution_count": null,
      "outputs": []
    },
    {
      "cell_type": "code",
      "source": [],
      "metadata": {
        "id": "r_CsyyTZGn8w"
      },
      "execution_count": null,
      "outputs": []
    },
    {
      "cell_type": "code",
      "source": [],
      "metadata": {
        "id": "-L-3H_oNGn_m"
      },
      "execution_count": null,
      "outputs": []
    }
  ]
}