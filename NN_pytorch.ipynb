{
  "nbformat": 4,
  "nbformat_minor": 0,
  "metadata": {
    "colab": {
      "provenance": [],
      "machine_shape": "hm",
      "authorship_tag": "ABX9TyPod/jFV7AEaW/rlL7FfKcp",
      "include_colab_link": true
    },
    "kernelspec": {
      "name": "python3",
      "display_name": "Python 3"
    },
    "language_info": {
      "name": "python"
    }
  },
  "cells": [
    {
      "cell_type": "markdown",
      "metadata": {
        "id": "view-in-github",
        "colab_type": "text"
      },
      "source": [
        "<a href=\"https://colab.research.google.com/github/Misha-private/Demo-repo/blob/main/NN_pytorch.ipynb\" target=\"_parent\"><img src=\"https://colab.research.google.com/assets/colab-badge.svg\" alt=\"Open In Colab\"/></a>"
      ]
    },
    {
      "cell_type": "code",
      "source": [
        "# Neural Networks from scratch with Pytorch and Google Colab, Afrahysin"
      ],
      "metadata": {
        "id": "waLBDi7zGVfK"
      },
      "execution_count": null,
      "outputs": []
    },
    {
      "cell_type": "code",
      "execution_count": 1,
      "metadata": {
        "id": "4CKZe_bd1nIA"
      },
      "outputs": [],
      "source": [
        "import torch\n",
        "import torch.nn as nn\n",
        "import torch.optim as optim\n",
        "import matplotlib.pyplot as plt\n",
        "import numpy as np\n"
      ]
    },
    {
      "cell_type": "markdown",
      "source": [
        "Data"
      ],
      "metadata": {
        "id": "_DGY50us2cAn"
      }
    },
    {
      "cell_type": "code",
      "source": [
        "X = torch.tensor(([\n",
        "    [30,8], # Temperature and sunny days for City A\n",
        "    [25, 5], # Temperature and sunny days for City B\n",
        "    [28,6], # Temperature and sunny days for City C\n",
        "    [32,10], # Temperature and sunny days for City D\n",
        "]), dtype = torch.float)\n",
        "\n",
        "y = torch.tensor(([200], [150], [180], [200]), dtype=torch.float) # Ice cream sales for each city\n",
        "\n",
        "xPredicted = torch.tensor(([27,7]), dtype=torch.float)"
      ],
      "metadata": {
        "id": "rTUgQVql2dIT"
      },
      "execution_count": 2,
      "outputs": []
    },
    {
      "cell_type": "code",
      "source": [
        "print(X.shape)\n",
        "print(y.shape)"
      ],
      "metadata": {
        "colab": {
          "base_uri": "https://localhost:8080/"
        },
        "id": "uTECF6fP3zBH",
        "outputId": "53b16d18-a59d-49d4-e856-8f05c3116399"
      },
      "execution_count": 3,
      "outputs": [
        {
          "output_type": "stream",
          "name": "stdout",
          "text": [
            "torch.Size([4, 2])\n",
            "torch.Size([4, 1])\n"
          ]
        }
      ]
    },
    {
      "cell_type": "markdown",
      "source": [
        "Scaling\n",
        "(torch.max returns both values and indices)"
      ],
      "metadata": {
        "id": "qES2wU3j4L1d"
      }
    },
    {
      "cell_type": "code",
      "source": [
        "X_max,_ = torch.max(X, 0)\n",
        "xPredicted_max,_ = torch.max(xPredicted,0)\n",
        "\n",
        "X = torch.div(X, X_max)\n",
        "xPredicted = torch.div(xPredicted, xPredicted_max)\n",
        "y = y / 100\n",
        "print(y)\n",
        "print(X)"
      ],
      "metadata": {
        "colab": {
          "base_uri": "https://localhost:8080/"
        },
        "id": "KafIZ0Z84SBH",
        "outputId": "f28e7686-859e-48fc-840c-748429251f1c"
      },
      "execution_count": 4,
      "outputs": [
        {
          "output_type": "stream",
          "name": "stdout",
          "text": [
            "tensor([[2.0000],\n",
            "        [1.5000],\n",
            "        [1.8000],\n",
            "        [2.0000]])\n",
            "tensor([[0.9375, 0.8000],\n",
            "        [0.7812, 0.5000],\n",
            "        [0.8750, 0.6000],\n",
            "        [1.0000, 1.0000]])\n"
          ]
        }
      ]
    },
    {
      "cell_type": "code",
      "source": [],
      "metadata": {
        "id": "_sfNESUPGQ2L"
      },
      "execution_count": null,
      "outputs": []
    },
    {
      "cell_type": "markdown",
      "source": [
        "Visualize"
      ],
      "metadata": {
        "id": "4aKcufEM4L0E"
      }
    },
    {
      "cell_type": "code",
      "source": [
        "plt.figure(figsize=(10,6))\n",
        "\n",
        "plt.scatter(X[:,0], y, label='Temperature', alpha=0.7)\n",
        "plt.scatter(X[:,1], y, label='Sunny Days', alpha=0.7)\n",
        "\n",
        "plt.title('Ice Crean Sales Data')\n",
        "plt.xlabel('Temperature')\n",
        "plt.ylabel('Sunny Days')\n",
        "plt.legend()\n",
        "plt.show()"
      ],
      "metadata": {
        "colab": {
          "base_uri": "https://localhost:8080/",
          "height": 564
        },
        "id": "K4f-q1G43zCa",
        "outputId": "4575c12e-6e06-4f74-fd86-e57ce4e849f7"
      },
      "execution_count": 5,
      "outputs": [
        {
          "output_type": "display_data",
          "data": {
            "text/plain": [
              "<Figure size 1000x600 with 1 Axes>"
            ],
            "image/png": "[encoded data removed]"
          },
          "metadata": {}
        }
      ]
    },
    {
      "cell_type": "code",
      "source": [],
      "metadata": {
        "id": "T60vwfs_3zEw"
      },
      "execution_count": 5,
      "outputs": []
    },
    {
      "cell_type": "code",
      "source": [
        "import torch.nn as nn\n",
        "import torch.optim as optim\n",
        "import torch.nn as nn\n",
        "import torch.optim as optim\n",
        "\n",
        "class Neural_Network(nn.Module):\n",
        "    def __init__(self, ):\n",
        "        super(Neural_Network, self).__init__()\n",
        "        # parameters\n",
        "        # TODO: parameters can be parameterized instead of declaring them here\n",
        "        self.inputSize = 2\n",
        "        self.outputSize = 1\n",
        "        self.hiddenSize = 4\n",
        "\n",
        "        # weights\n",
        "        self.W1 = nn.Parameter(torch.randn(self.inputSize, self.hiddenSize))\n",
        "        self.W2 = nn.Parameter(torch.randn(self.hiddenSize, self.outputSize))\n",
        "\n",
        "    def forward(self, X):\n",
        "        self.z = torch.matmul(X, self.W1)  # 3 X 3 \".dot\" does not broadcast in PyTorch\n",
        "        self.z2 = torch.relu(self.z)  # ReLU activation function\n",
        "        self.z3 = torch.matmul(self.z2, self.W2)\n",
        "        o = self.z3\n",
        "        return o\n",
        "\n",
        "    def backward(self, X, y, o, optimizer):\n",
        "        # calculate loss\n",
        "        loss = torch.mean((y - o)**2)\n",
        "\n",
        "        # backward pass\n",
        "        optimizer.zero_grad()\n",
        "        loss.backward()\n",
        "        optimizer.step()\n",
        "\n",
        "        return loss\n",
        "\n",
        "    def train(self, X, y, epochs=100, learning_rate=0.01):\n",
        "        optimizer = optim.SGD(self.parameters(), lr=learning_rate)\n",
        "\n",
        "        for epoch in range(epochs):\n",
        "            # forward pass\n",
        "            o = self.forward(X)\n",
        "\n",
        "            # backward pass\n",
        "            loss = self.backward(X, y, o, optimizer)\n",
        "\n",
        "            # Optionally, you can print the loss for each epoch if needed\n",
        "            print(f\"Epoch {epoch + 1}/{epochs}, Loss: {loss.item()}\")\n",
        "\n",
        "    def predict(self, X):\n",
        "        print(\"Predicted data based on trained weights: \")\n",
        "        print(\"Input (scaled): \\n\" + str(X))\n",
        "        print(\"Output: \\n\" + str(self.forward(X)))"
      ],
      "metadata": {
        "id": "hR31xwnR3zHX"
      },
      "execution_count": 6,
      "outputs": []
    },
    {
      "cell_type": "code",
      "source": [
        "# Assuming you have X and u defined\n",
        "model = Neural_Network()\n",
        "model.train(X, y, epochs=100, learning_rate=0.01)"
      ],
      "metadata": {
        "colab": {
          "base_uri": "https://localhost:8080/"
        },
        "id": "iWIbqbig3zKC",
        "outputId": "ca0e2b9f-5cd3-4df6-8b67-2aff2efb96d3"
      },
      "execution_count": 7,
      "outputs": [
        {
          "output_type": "stream",
          "name": "stdout",
          "text": [
            "Epoch 1/100, Loss: 1.6535109281539917\n",
            "Epoch 2/100, Loss: 1.5027896165847778\n",
            "Epoch 3/100, Loss: 1.3612723350524902\n",
            "Epoch 4/100, Loss: 1.2287808656692505\n",
            "Epoch 5/100, Loss: 1.1051688194274902\n",
            "Epoch 6/100, Loss: 0.9902958273887634\n",
            "Epoch 7/100, Loss: 0.8840062022209167\n",
            "Epoch 8/100, Loss: 0.7861150503158569\n",
            "Epoch 9/100, Loss: 0.6963984966278076\n",
            "Epoch 10/100, Loss: 0.6145880818367004\n",
            "Epoch 11/100, Loss: 0.5403711795806885\n",
            "Epoch 12/100, Loss: 0.47339239716529846\n",
            "Epoch 13/100, Loss: 0.4132595658302307\n",
            "Epoch 14/100, Loss: 0.3595507740974426\n",
            "Epoch 15/100, Loss: 0.3118226230144501\n",
            "Epoch 16/100, Loss: 0.2696189284324646\n",
            "Epoch 17/100, Loss: 0.23247961699962616\n",
            "Epoch 18/100, Loss: 0.19994863867759705\n",
            "Epoch 19/100, Loss: 0.17158125340938568\n",
            "Epoch 20/100, Loss: 0.1469501405954361\n",
            "Epoch 21/100, Loss: 0.12564997375011444\n",
            "Epoch 22/100, Loss: 0.10730135440826416\n",
            "Epoch 23/100, Loss: 0.091552734375\n",
            "Epoch 24/100, Loss: 0.07808206230401993\n",
            "Epoch 25/100, Loss: 0.0665968805551529\n",
            "Epoch 26/100, Loss: 0.05683407932519913\n",
            "Epoch 27/100, Loss: 0.048558589071035385\n",
            "Epoch 28/100, Loss: 0.04156219959259033\n",
            "Epoch 29/100, Loss: 0.03566152974963188\n",
            "Epoch 30/100, Loss: 0.030696233734488487\n",
            "Epoch 31/100, Loss: 0.026526669040322304\n",
            "Epoch 32/100, Loss: 0.02303205616772175\n",
            "Epoch 33/100, Loss: 0.020108330994844437\n",
            "Epoch 34/100, Loss: 0.017666179686784744\n",
            "Epoch 35/100, Loss: 0.01562931016087532\n",
            "Epoch 36/100, Loss: 0.013932793401181698\n",
            "Epoch 37/100, Loss: 0.012521526776254177\n",
            "Epoch 38/100, Loss: 0.011348864994943142\n",
            "Epoch 39/100, Loss: 0.010375509969890118\n",
            "Epoch 40/100, Loss: 0.009568316861987114\n",
            "Epoch 41/100, Loss: 0.008899523876607418\n",
            "Epoch 42/100, Loss: 0.008345792070031166\n",
            "Epoch 43/100, Loss: 0.007887639105319977\n",
            "Epoch 44/100, Loss: 0.007508818060159683\n",
            "Epoch 45/100, Loss: 0.007195765618234873\n",
            "Epoch 46/100, Loss: 0.006937157828360796\n",
            "Epoch 47/100, Loss: 0.006723637226969004\n",
            "Epoch 48/100, Loss: 0.006547391414642334\n",
            "Epoch 49/100, Loss: 0.006401946768164635\n",
            "Epoch 50/100, Loss: 0.006281939335167408\n",
            "Epoch 51/100, Loss: 0.006182943470776081\n",
            "Epoch 52/100, Loss: 0.0061012799851596355\n",
            "Epoch 53/100, Loss: 0.006033901125192642\n",
            "Epoch 54/100, Loss: 0.005978312809020281\n",
            "Epoch 55/100, Loss: 0.00593244843184948\n",
            "Epoch 56/100, Loss: 0.005894562695175409\n",
            "Epoch 57/100, Loss: 0.005863276310265064\n",
            "Epoch 58/100, Loss: 0.005837401375174522\n",
            "Epoch 59/100, Loss: 0.005815988406538963\n",
            "Epoch 60/100, Loss: 0.0057982634752988815\n",
            "Epoch 61/100, Loss: 0.005783564411103725\n",
            "Epoch 62/100, Loss: 0.005771349649876356\n",
            "Epoch 63/100, Loss: 0.0057611605152487755\n",
            "Epoch 64/100, Loss: 0.005752671975642443\n",
            "Epoch 65/100, Loss: 0.005745571106672287\n",
            "Epoch 66/100, Loss: 0.005739595741033554\n",
            "Epoch 67/100, Loss: 0.005734549369663\n",
            "Epoch 68/100, Loss: 0.00573028065264225\n",
            "Epoch 69/100, Loss: 0.005726648960262537\n",
            "Epoch 70/100, Loss: 0.005723515059798956\n",
            "Epoch 71/100, Loss: 0.005720844957977533\n",
            "Epoch 72/100, Loss: 0.005718500353395939\n",
            "Epoch 73/100, Loss: 0.0057164449244737625\n",
            "Epoch 74/100, Loss: 0.005714636296033859\n",
            "Epoch 75/100, Loss: 0.0057130055502057076\n",
            "Epoch 76/100, Loss: 0.005711538717150688\n",
            "Epoch 77/100, Loss: 0.005710207857191563\n",
            "Epoch 78/100, Loss: 0.005708995275199413\n",
            "Epoch 79/100, Loss: 0.005707852076739073\n",
            "Epoch 80/100, Loss: 0.005706788506358862\n",
            "Epoch 81/100, Loss: 0.005705783609300852\n",
            "Epoch 82/100, Loss: 0.005704839713871479\n",
            "Epoch 83/100, Loss: 0.005703930743038654\n",
            "Epoch 84/100, Loss: 0.00570304598659277\n",
            "Epoch 85/100, Loss: 0.005702203139662743\n",
            "Epoch 86/100, Loss: 0.005701365880668163\n",
            "Epoch 87/100, Loss: 0.005700572393834591\n",
            "Epoch 88/100, Loss: 0.005699767731130123\n",
            "Epoch 89/100, Loss: 0.005698986351490021\n",
            "Epoch 90/100, Loss: 0.005698216147720814\n",
            "Epoch 91/100, Loss: 0.00569746270775795\n",
            "Epoch 92/100, Loss: 0.005696715321391821\n",
            "Epoch 93/100, Loss: 0.0056959595531225204\n",
            "Epoch 94/100, Loss: 0.005695200525224209\n",
            "Epoch 95/100, Loss: 0.005694478750228882\n",
            "Epoch 96/100, Loss: 0.005693728104233742\n",
            "Epoch 97/100, Loss: 0.00569301238283515\n",
            "Epoch 98/100, Loss: 0.0056922780349850655\n",
            "Epoch 99/100, Loss: 0.0056915441527962685\n",
            "Epoch 100/100, Loss: 0.005690809339284897\n"
          ]
        }
      ]
    },
    {
      "cell_type": "code",
      "source": [
        "xtest = torch.tensor(([27, 7]), dtype=torch.float)\n",
        "model.predict(xtest)"
      ],
      "metadata": {
        "colab": {
          "base_uri": "https://localhost:8080/"
        },
        "id": "WbXHNpb53zMn",
        "outputId": "1dfc2cd5-34fd-4ee3-ccd7-86c96fd9a614"
      },
      "execution_count": 8,
      "outputs": [
        {
          "output_type": "stream",
          "name": "stdout",
          "text": [
            "Predicted data based on trained weights: \n",
            "Input (scaled): \n",
            "tensor([27.,  7.])\n",
            "Output: \n",
            "tensor([49.0652], grad_fn=<SqueezeBackward4>)\n"
          ]
        }
      ]
    },
    {
      "cell_type": "code",
      "source": [],
      "metadata": {
        "id": "bvpQEdqb3zPY"
      },
      "execution_count": 7,
      "outputs": []
    },
    {
      "cell_type": "code",
      "source": [],
      "metadata": {
        "id": "bpbzO16O3zSO"
      },
      "execution_count": 7,
      "outputs": []
    }
  ]
}