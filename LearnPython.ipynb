{
  "cells": [
    {
      "cell_type": "markdown",
      "metadata": {
        "id": "view-in-github",
        "colab_type": "text"
      },
      "source": [
        "<a href=\"https://colab.research.google.com/github/Misha-private/Demo-repo/blob/main/LearnPython.ipynb\" target=\"_parent\"><img src=\"https://colab.research.google.com/assets/colab-badge.svg\" alt=\"Open In Colab\"/></a>"
      ]
    },
    {
      "cell_type": "code",
      "execution_count": null,
      "metadata": {
        "colab": {
          "base_uri": "https://localhost:8080/"
        },
        "id": "5RLJzmnU4im1",
        "outputId": "1b265e69-8de7-4363-8679-0e442a82bbae"
      },
      "outputs": [
        {
          "name": "stdout",
          "output_type": "stream",
          "text": [
            "<class 'str'>\n",
            "<class 'int'>\n",
            "<class 'float'>\n"
          ]
        },
        {
          "data": {
            "text/plain": [
              "str"
            ]
          },
          "execution_count": 4,
          "metadata": {},
          "output_type": "execute_result"
        }
      ],
      "source": [
        "Ime = \"Monty\"\n",
        "n = 105\n",
        "x = 203.65\n",
        "print(type(Ime))\n",
        "print(type(n))\n",
        "print(type(x))\n",
        "type(Ime)"
      ]
    },
    {
      "cell_type": "markdown",
      "metadata": {
        "id": "oKbLGJ3v-IDL"
      },
      "source": [
        "# Modulus"
      ]
    },
    {
      "cell_type": "code",
      "execution_count": null,
      "metadata": {
        "colab": {
          "base_uri": "https://localhost:8080/"
        },
        "id": "BHc60t4k-Mzn",
        "outputId": "62c93374-1b98-473b-e1d6-a287dc9eabf8"
      },
      "outputs": [
        {
          "name": "stdout",
          "output_type": "stream",
          "text": [
            "a mod b = 1\n",
            "a mod c = 2\n"
          ]
        }
      ],
      "source": [
        "a = 10\n",
        "b = 3\n",
        "c = 4\n",
        "print(f\"a mod b = {a % b}\")\n",
        "print(f\"a mod c = {a % c}\")"
      ]
    },
    {
      "cell_type": "markdown",
      "metadata": {
        "id": "F8-iwQ6B-Nqj"
      },
      "source": [
        "# Floor division"
      ]
    },
    {
      "cell_type": "code",
      "execution_count": null,
      "metadata": {
        "colab": {
          "base_uri": "https://localhost:8080/"
        },
        "id": "Ij4gmeDk-NtX",
        "outputId": "d648fc0a-58f4-412d-a115-e53bf18870b9"
      },
      "outputs": [
        {
          "data": {
            "text/plain": [
              "(3, 3.3333333333333335)"
            ]
          },
          "execution_count": 8,
          "metadata": {},
          "output_type": "execute_result"
        }
      ],
      "source": [
        "a // b, a/b"
      ]
    },
    {
      "cell_type": "markdown",
      "metadata": {
        "id": "ws2za53f-Nv-"
      },
      "source": [
        "## Builtin functions"
      ]
    },
    {
      "cell_type": "code",
      "execution_count": null,
      "metadata": {
        "colab": {
          "base_uri": "https://localhost:8080/"
        },
        "id": "QEm1LiKL-Nyl",
        "outputId": "ea41f91c-4250-45a1-da6a-e5faf5f1c139"
      },
      "outputs": [
        {
          "name": "stdout",
          "output_type": "stream",
          "text": [
            "1\n",
            "7\n",
            "10\n",
            "10\n"
          ]
        }
      ],
      "source": [
        "print(min(1, 4, 5, 7))\n",
        "print(max(1, 4, 5, 7))\n",
        "print(abs(-10))\n",
        "print(abs(10))"
      ]
    },
    {
      "cell_type": "code",
      "execution_count": null,
      "metadata": {
        "colab": {
          "base_uri": "https://localhost:8080/"
        },
        "id": "uwIsfwTk-N08",
        "outputId": "ae6d6c36-eddb-4d18-be31-7370f9c332a4"
      },
      "outputs": [
        {
          "name": "stdout",
          "output_type": "stream",
          "text": [
            "10.0\n",
            "7\n",
            "315\n",
            "3.14\n"
          ]
        }
      ],
      "source": [
        "print(float(10))\n",
        "print(int(7.6))\n",
        "print(int('314') + 1)\n",
        "print(float('3.14'))\n"
      ]
    },
    {
      "cell_type": "markdown",
      "metadata": {
        "id": "6dwB9hBSLv2P"
      },
      "source": [
        "# Help"
      ]
    },
    {
      "cell_type": "code",
      "execution_count": null,
      "metadata": {
        "colab": {
          "base_uri": "https://localhost:8080/"
        },
        "id": "KYw3uoeACajF",
        "outputId": "27a51af9-cb9c-4dce-f2fc-c6f81f2b85b9"
      },
      "outputs": [
        {
          "name": "stdout",
          "output_type": "stream",
          "text": [
            "Help on built-in function round in module builtins:\n",
            "\n",
            "round(number, ndigits=None)\n",
            "    Round a number to a given precision in decimal digits.\n",
            "    \n",
            "    The return value is an integer if ndigits is omitted or None.  Otherwise\n",
            "    the return value has the same type as the number.  ndigits may be negative.\n",
            "\n"
          ]
        }
      ],
      "source": [
        "help(round)"
      ]
    },
    {
      "cell_type": "code",
      "execution_count": null,
      "metadata": {
        "colab": {
          "base_uri": "https://localhost:8080/"
        },
        "id": "5NbYWEfZCbR2",
        "outputId": "cfd2ec6f-e5bd-4aa7-b21c-9881ed17ce5d"
      },
      "outputs": [
        {
          "data": {
            "text/plain": [
              "1.46"
            ]
          },
          "execution_count": 5,
          "metadata": {},
          "output_type": "execute_result"
        }
      ],
      "source": [
        "round(1.4572, 2)"
      ]
    },
    {
      "cell_type": "code",
      "execution_count": null,
      "metadata": {
        "colab": {
          "base_uri": "https://localhost:8080/"
        },
        "id": "0TCw-N7oCZwt",
        "outputId": "63c7cad3-aebb-4968-afbf-6d2e0ceffc33"
      },
      "outputs": [
        {
          "data": {
            "text/plain": [
              "-2"
            ]
          },
          "execution_count": 6,
          "metadata": {},
          "output_type": "execute_result"
        }
      ],
      "source": [
        "round(-2.01)"
      ]
    },
    {
      "cell_type": "code",
      "execution_count": null,
      "metadata": {
        "colab": {
          "base_uri": "https://localhost:8080/"
        },
        "id": "qc5ZaXb4KcYi",
        "outputId": "c6aa5478-fc47-47ce-8c92-cce388de701a"
      },
      "outputs": [
        {
          "data": {
            "text/plain": [
              "-2.1"
            ]
          },
          "execution_count": 7,
          "metadata": {},
          "output_type": "execute_result"
        }
      ],
      "source": [
        "round(-2.111,1  )"
      ]
    },
    {
      "cell_type": "code",
      "execution_count": null,
      "metadata": {
        "colab": {
          "base_uri": "https://localhost:8080/"
        },
        "id": "-OilUX9yKjWB",
        "outputId": "8e82898e-ef11-4608-d109-63322e4e58cb"
      },
      "outputs": [
        {
          "data": {
            "text/plain": [
              "-2.46"
            ]
          },
          "execution_count": 8,
          "metadata": {},
          "output_type": "execute_result"
        }
      ],
      "source": [
        "round(-2.456,2)"
      ]
    },
    {
      "cell_type": "code",
      "execution_count": null,
      "metadata": {
        "colab": {
          "base_uri": "https://localhost:8080/"
        },
        "id": "NN-POi-1KcbI",
        "outputId": "13c27f49-4a1d-4953-fa5f-56a6f3494162"
      },
      "outputs": [
        {
          "name": "stdout",
          "output_type": "stream",
          "text": [
            "Help on built-in function print in module builtins:\n",
            "\n",
            "print(...)\n",
            "    print(value, ..., sep=' ', end='\\n', file=sys.stdout, flush=False)\n",
            "    \n",
            "    Prints the values to a stream, or to sys.stdout by default.\n",
            "    Optional keyword arguments:\n",
            "    file:  a file-like object (stream); defaults to the current sys.stdout.\n",
            "    sep:   string inserted between values, default a space.\n",
            "    end:   string appended after the last value, default a newline.\n",
            "    flush: whether to forcibly flush the stream.\n",
            "\n"
          ]
        }
      ],
      "source": [
        "help(print)"
      ]
    },
    {
      "cell_type": "code",
      "execution_count": null,
      "metadata": {
        "colab": {
          "base_uri": "https://localhost:8080/"
        },
        "id": "4LmLoPOLKcdu",
        "outputId": "193c9e12-409e-4394-e464-c80c0465a659"
      },
      "outputs": [
        {
          "name": "stdout",
          "output_type": "stream",
          "text": [
            "2.1-3.2-4.3\n"
          ]
        }
      ],
      "source": [
        "print(2.1, 3.2, 4.3, sep='-')"
      ]
    },
    {
      "cell_type": "markdown",
      "metadata": {
        "id": "nqZ-RqNUKcgV"
      },
      "source": [
        "# Defining Functions"
      ]
    },
    {
      "cell_type": "code",
      "execution_count": null,
      "metadata": {
        "colab": {
          "base_uri": "https://localhost:8080/"
        },
        "id": "iwvusu5GMA8_",
        "outputId": "64df5d46-cd66-434d-8372-71be5713078d"
      },
      "outputs": [
        {
          "name": "stdout",
          "output_type": "stream",
          "text": [
            "9 0 1\n"
          ]
        }
      ],
      "source": [
        "def least_diffference(a, b, c):\n",
        "  diff1 = abs(a - b)\n",
        "  diff2 = abs(a - c)\n",
        "  diff3 = abs(b - c)\n",
        "  return min(diff1, diff2, diff3)\n",
        "\n",
        "print(\n",
        "    least_diffference(1, 10, 100),\n",
        "    least_diffference(1, 10, 10),\n",
        "    least_diffference(5, 6, 7),   # Python allows trailing commas in argument lists!\n",
        ")"
      ]
    },
    {
      "cell_type": "code",
      "execution_count": null,
      "metadata": {
        "colab": {
          "base_uri": "https://localhost:8080/"
        },
        "id": "ecNl9QRXP8T_",
        "outputId": "575a7a89-da32-47f4-b991-f3d5e40ee613"
      },
      "outputs": [
        {
          "name": "stdout",
          "output_type": "stream",
          "text": [
            "Help on function least_diffference in module __main__:\n",
            "\n",
            "least_diffference(a, b, c)\n",
            "\n"
          ]
        }
      ],
      "source": [
        "help(least_diffference)"
      ]
    },
    {
      "cell_type": "markdown",
      "metadata": {
        "id": "PBzhSwpWP9rq"
      },
      "source": [
        "# I can supply a description in the *docstring*"
      ]
    },
    {
      "cell_type": "code",
      "execution_count": null,
      "metadata": {
        "id": "VZn1Aon9QbKe"
      },
      "outputs": [],
      "source": [
        "def least_difference(a, b, c):\n",
        "    \"\"\"Return the smallest difference between any two numbers\n",
        "    among a, b and c.\n",
        "\n",
        "    >>> least_difference(1, 5, -5)\n",
        "    4\n",
        "    \"\"\"\n",
        "    diff1 = abs(a - b)\n",
        "    diff2 = abs(b - c)\n",
        "    diff3 = abs(a - c)\n",
        "    return min(diff1, diff2, diff3)"
      ]
    },
    {
      "cell_type": "code",
      "execution_count": null,
      "metadata": {
        "colab": {
          "base_uri": "https://localhost:8080/"
        },
        "id": "nAlUsltTQlHp",
        "outputId": "d23fc72a-3377-4d4b-f3e1-e43e08ce0919"
      },
      "outputs": [
        {
          "name": "stdout",
          "output_type": "stream",
          "text": [
            "Help on function least_difference in module __main__:\n",
            "\n",
            "least_difference(a, b, c)\n",
            "    Return the smallest difference between any two numbers\n",
            "    among a, b and c.\n",
            "    \n",
            "    >>> least_difference(1, 5, -5)\n",
            "    4\n",
            "\n"
          ]
        }
      ],
      "source": [
        "help(least_difference)"
      ]
    },
    {
      "cell_type": "markdown",
      "metadata": {
        "id": "gvN4aThCQlIw"
      },
      "source": [
        "# Functions that don't return"
      ]
    },
    {
      "cell_type": "code",
      "execution_count": null,
      "metadata": {
        "colab": {
          "base_uri": "https://localhost:8080/"
        },
        "id": "JbLnPUL8RdEy",
        "outputId": "0bec1b2d-eb7d-424f-a5df-710c2d0e492c"
      },
      "outputs": [
        {
          "name": "stdout",
          "output_type": "stream",
          "text": [
            "spam\n",
            "spam\n"
          ]
        }
      ],
      "source": [
        "def print_twice(message):\n",
        "    print(message)\n",
        "    print(message)\n",
        "\n",
        "\n",
        "print_twice('spam')"
      ]
    },
    {
      "cell_type": "markdown",
      "metadata": {
        "id": "drJ_2oEPRdGy"
      },
      "source": [
        "# Adding optional arguments with default values"
      ]
    },
    {
      "cell_type": "code",
      "execution_count": null,
      "metadata": {
        "colab": {
          "base_uri": "https://localhost:8080/"
        },
        "id": "cgZGW60yRdJJ",
        "outputId": "f43082dd-4d81-4904-b8bf-d2675a5df5c0"
      },
      "outputs": [
        {
          "name": "stdout",
          "output_type": "stream",
          "text": [
            "Hello World!\n",
            "Hello Monty!\n",
            "Hello Monty Python!\n"
          ]
        }
      ],
      "source": [
        "def greet(who=\"World\"):\n",
        "    print(f\"Hello {who}!\")\n",
        "\n",
        "greet()\n",
        "greet(\"Monty\")\n",
        "greet(\"Monty Python\")"
      ]
    },
    {
      "cell_type": "markdown",
      "metadata": {
        "id": "JxF4aQZ9RdLe"
      },
      "source": [
        "# Functions appliead to functions"
      ]
    },
    {
      "cell_type": "code",
      "execution_count": null,
      "metadata": {
        "colab": {
          "base_uri": "https://localhost:8080/"
        },
        "id": "qs-AiWcjRdOn",
        "outputId": "c5800507-9b5e-4008-82be-dfa074750eb5"
      },
      "outputs": [
        {
          "name": "stdout",
          "output_type": "stream",
          "text": [
            "10\n",
            "50\n"
          ]
        }
      ],
      "source": [
        "def mult_by_five(x):\n",
        "    return x * 5\n",
        "\n",
        "def call(fn, arg):\n",
        "  \"\"\"Call function fn with argument arg.\"\"\"\n",
        "  return fn(arg)\n",
        "\n",
        "def squared_call(fn, arg):\n",
        "  \"\"\"Call fn on the result of calling fn on arg.\"\"\"\n",
        "  return fn(fn(arg))\n",
        "\n",
        "print(\n",
        "    call(mult_by_five, 2),\n",
        "    squared_call(mult_by_five, 2),\n",
        "    sep='\\n',\n",
        ")"
      ]
    },
    {
      "cell_type": "code",
      "execution_count": null,
      "metadata": {
        "colab": {
          "base_uri": "https://localhost:8080/"
        },
        "id": "1DdStR4URdVt",
        "outputId": "bb82bdc5-744b-4b4e-8d08-c3ed2baccbdb"
      },
      "outputs": [
        {
          "name": "stdout",
          "output_type": "stream",
          "text": [
            "2\n",
            "42\n"
          ]
        }
      ],
      "source": [
        "def fun(x):\n",
        "    return x*(x +1 )\n",
        "\n",
        "def fun2(fn, arg):\n",
        "    return fn(fn(arg))\n",
        "\n",
        "print(fun(1))\n",
        "print(fun2(fun, 2))"
      ]
    },
    {
      "cell_type": "code",
      "execution_count": null,
      "metadata": {
        "colab": {
          "base_uri": "https://localhost:8080/"
        },
        "id": "uj7wb9VnRdhb",
        "outputId": "ef26ad20-e703-44df-f0e3-5ea77c635c6e"
      },
      "outputs": [
        {
          "name": "stdout",
          "output_type": "stream",
          "text": [
            "Which name is biggest?\n",
            "100\n",
            "Which name has the biggest modulus?\n",
            "14\n"
          ]
        }
      ],
      "source": [
        "# Calling function from function and using optional 'key' argument\n",
        "def mod_5(x):\n",
        "    return x % 5\n",
        "\n",
        "print(\n",
        "    \"Which name is biggest?\",\n",
        "    max(100, 51, 14),\n",
        "    'Which name has the biggest modulus?',\n",
        "    max(100, 51, 14, key=mod_5),\n",
        "    sep = \"\\n\",\n",
        ")"
      ]
    },
    {
      "cell_type": "code",
      "execution_count": null,
      "metadata": {
        "colab": {
          "base_uri": "https://localhost:8080/"
        },
        "id": "Jt7_e1tPpFUQ",
        "outputId": "c38c0239-6e7f-4800-e760-392f23b29cfa"
      },
      "outputs": [
        {
          "data": {
            "text/plain": [
              "3.14"
            ]
          },
          "execution_count": 42,
          "metadata": {},
          "output_type": "execute_result"
        }
      ],
      "source": [
        "def round_two_places(x):\n",
        "    return round(x, 2)\n",
        "\n",
        "round_two_places(3.14159)"
      ]
    },
    {
      "cell_type": "code",
      "execution_count": null,
      "metadata": {
        "colab": {
          "base_uri": "https://localhost:8080/"
        },
        "id": "klFGj5m8t5DK",
        "outputId": "4ba8c829-d935-404b-fe2b-d6021f9c98de"
      },
      "outputs": [
        {
          "name": "stdout",
          "output_type": "stream",
          "text": [
            "Help on built-in function round in module builtins:\n",
            "\n",
            "round(number, ndigits=None)\n",
            "    Round a number to a given precision in decimal digits.\n",
            "    \n",
            "    The return value is an integer if ndigits is omitted or None.  Otherwise\n",
            "    the return value has the same type as the number.  ndigits may be negative.\n",
            "\n"
          ]
        }
      ],
      "source": [
        "help (round)"
      ]
    },
    {
      "cell_type": "code",
      "execution_count": null,
      "metadata": {
        "colab": {
          "base_uri": "https://localhost:8080/"
        },
        "id": "EFr2zQCnwCvK",
        "outputId": "ead061f5-6fba-4b87-d6a3-01585b730f69"
      },
      "outputs": [
        {
          "name": "stdout",
          "output_type": "stream",
          "text": [
            "1100.0\n",
            "1100.0\n",
            "1000.0\n",
            "0.0\n"
          ]
        }
      ],
      "source": [
        "print(round(1104.4572, -1))\n",
        "print(round(1104.4572, -2))\n",
        "print(round(1104.4572, -3))\n",
        "print(round(1104.4572, -4))"
      ]
    },
    {
      "cell_type": "markdown",
      "metadata": {
        "id": "FJDvTKJuweq3"
      },
      "source": [
        " ndigits=-1 rounds to the nearest 10, ndigits=-2 rounds to the nearest 100 and so on."
      ]
    },
    {
      "cell_type": "code",
      "execution_count": null,
      "metadata": {
        "colab": {
          "base_uri": "https://localhost:8080/"
        },
        "id": "n1Rldv4fwCxr",
        "outputId": "39eed2bb-f467-4141-9960-4363b649aabb"
      },
      "outputs": [
        {
          "name": "stdout",
          "output_type": "stream",
          "text": [
            "1100.0\n",
            "1170.0\n"
          ]
        }
      ],
      "source": [
        "print(round(1104.4572, -1))\n",
        "print(round(1174.4572, -1))"
      ]
    },
    {
      "cell_type": "code",
      "execution_count": null,
      "metadata": {
        "colab": {
          "base_uri": "https://localhost:8080/"
        },
        "id": "WuY1j5_BwC0B",
        "outputId": "14959f05-14d3-4198-fef6-62af1a30b2b1"
      },
      "outputs": [
        {
          "data": {
            "text/plain": [
              "10.0"
            ]
          },
          "execution_count": 29,
          "metadata": {},
          "output_type": "execute_result"
        }
      ],
      "source": [
        "round_two_places(9.9999)"
      ]
    },
    {
      "cell_type": "code",
      "execution_count": null,
      "metadata": {
        "colab": {
          "base_uri": "https://localhost:8080/"
        },
        "id": "MuMM0HjswC2o",
        "outputId": "c4624709-6bc5-49cb-eb27-8047955af535"
      },
      "outputs": [
        {
          "data": {
            "text/plain": [
              "3.79"
            ]
          },
          "execution_count": 41,
          "metadata": {},
          "output_type": "execute_result"
        }
      ],
      "source": [
        "round(9.9999,3)\n",
        "round(3.789654, 2)"
      ]
    },
    {
      "cell_type": "markdown",
      "metadata": {
        "id": "qvdfi2eWwC4_"
      },
      "source": [
        "# Booleans and Conditionals"
      ]
    },
    {
      "cell_type": "code",
      "execution_count": null,
      "metadata": {
        "id": "1gq1rqTdwC7k",
        "colab": {
          "base_uri": "https://localhost:8080/"
        },
        "outputId": "f4b07c33-d4ea-4337-cf3a-8a570915d4b9"
      },
      "outputs": [
        {
          "output_type": "stream",
          "name": "stdout",
          "text": [
            "True\n",
            "<class 'bool'>\n"
          ]
        }
      ],
      "source": [
        "x = True\n",
        "print(x)\n",
        "print(type(x))\n"
      ]
    },
    {
      "cell_type": "markdown",
      "source": [
        "# Comparison operations\n",
        "\n",
        "a == b , a equal to b\n",
        "\n",
        "a > b  , a greater than b\n",
        "\n",
        "a >= b , a greater or equal to b\n",
        "\n",
        "a != b , a not equal to b\n",
        "\n",
        "a < b  ,  a less than b\n",
        "\n",
        "a <= b ,  a less or equal to b\n"
      ],
      "metadata": {
        "id": "oosc_1fRwC-b"
      }
    },
    {
      "cell_type": "code",
      "execution_count": null,
      "metadata": {
        "colab": {
          "base_uri": "https://localhost:8080/"
        },
        "id": "x4yOk3xDwDBC",
        "outputId": "f6c5409d-d9b0-40bb-a66b-901e29c95d16"
      },
      "outputs": [
        {
          "output_type": "stream",
          "name": "stdout",
          "text": [
            "Can a 19-year-old run for president? False\n",
            "Can a 45-year-old run for president? True\n"
          ]
        }
      ],
      "source": [
        "def can_run_for_president(age):\n",
        "    \"\"\"Can someone of the given age run for president in the US?\"\"\"\n",
        "    # The US Constitution says you must be at least 35 years old\n",
        "    return age >= 35\n",
        "\n",
        "print(\"Can a 19-year-old run for president?\", can_run_for_president(19))\n",
        "print(\"Can a 45-year-old run for president?\", can_run_for_president(45))"
      ]
    },
    {
      "cell_type": "code",
      "execution_count": null,
      "metadata": {
        "id": "hAkUZ_bvwDDp",
        "colab": {
          "base_uri": "https://localhost:8080/"
        },
        "outputId": "22e97e05-ed2b-4c7b-8927-f2bbd0302d0e"
      },
      "outputs": [
        {
          "output_type": "execute_result",
          "data": {
            "text/plain": [
              "True"
            ]
          },
          "metadata": {},
          "execution_count": 5
        }
      ],
      "source": [
        "3. == 3.0"
      ]
    },
    {
      "cell_type": "code",
      "source": [
        "'3' == 3"
      ],
      "metadata": {
        "colab": {
          "base_uri": "https://localhost:8080/"
        },
        "id": "V64Njk11LEif",
        "outputId": "f4b15998-0937-47e1-8e9c-2c4a91e94a04"
      },
      "execution_count": null,
      "outputs": [
        {
          "output_type": "execute_result",
          "data": {
            "text/plain": [
              "False"
            ]
          },
          "metadata": {},
          "execution_count": 6
        }
      ]
    },
    {
      "cell_type": "code",
      "source": [
        "def is_odd(n):\n",
        "    return n % 2 == 1\n",
        "\n",
        "print(is_odd(1))\n",
        "print(is_odd(2))"
      ],
      "metadata": {
        "colab": {
          "base_uri": "https://localhost:8080/"
        },
        "id": "ph1-YaFoLElB",
        "outputId": "5933e218-651e-4572-d688-7712f2c32915"
      },
      "execution_count": null,
      "outputs": [
        {
          "output_type": "stream",
          "name": "stdout",
          "text": [
            "True\n",
            "False\n"
          ]
        }
      ]
    },
    {
      "cell_type": "markdown",
      "source": [
        "# and, or, and not"
      ],
      "metadata": {
        "id": "s5vg0tMmLgCq"
      }
    },
    {
      "cell_type": "code",
      "source": [
        "def can_run_for_president(age, born_cirizen):\n",
        "    \"\"\"Can someone of the given age and born in the US run for president?\"\"\"\n",
        "    return age >= 35 and born_cirizen\n",
        "\n",
        "print(\"Can a 19-year-old run for president?\", can_run_for_president(19, True))\n",
        "print(\"Can a 45-year-old run for president?\", can_run_for_president(45, False))"
      ],
      "metadata": {
        "colab": {
          "base_uri": "https://localhost:8080/"
        },
        "id": "giOUVp42LgE6",
        "outputId": "a5b43cc4-4473-4b0d-8e7e-b4223d7f53d3"
      },
      "execution_count": null,
      "outputs": [
        {
          "output_type": "stream",
          "name": "stdout",
          "text": [
            "Can a 19-year-old run for president? False\n",
            "Can a 45-year-old run for president? False\n"
          ]
        }
      ]
    },
    {
      "cell_type": "code",
      "source": [
        "True or True and False # and has larger precedance than or"
      ],
      "metadata": {
        "colab": {
          "base_uri": "https://localhost:8080/"
        },
        "id": "eb9Yo_sgLgHQ",
        "outputId": "5db5ce70-3936-4345-f12e-4c12403eb53a"
      },
      "execution_count": null,
      "outputs": [
        {
          "output_type": "execute_result",
          "data": {
            "text/plain": [
              "True"
            ]
          },
          "metadata": {},
          "execution_count": 12
        }
      ]
    },
    {
      "cell_type": "code",
      "source": [
        "(True or True) and False"
      ],
      "metadata": {
        "colab": {
          "base_uri": "https://localhost:8080/"
        },
        "id": "QtoPBSd8LgJ3",
        "outputId": "18cc8fd4-3a78-4af8-fa4e-3ab1edd274af"
      },
      "execution_count": null,
      "outputs": [
        {
          "output_type": "execute_result",
          "data": {
            "text/plain": [
              "False"
            ]
          },
          "metadata": {},
          "execution_count": 13
        }
      ]
    },
    {
      "cell_type": "markdown",
      "source": [
        "# Conditionals"
      ],
      "metadata": {
        "id": "aWzC2UreLgMu"
      }
    },
    {
      "cell_type": "code",
      "source": [
        "def inspect(x):\n",
        "  if x == 0:\n",
        "    print(x, 'is zero')\n",
        "  elif x > 0:\n",
        "    print(x, 'is positive')\n",
        "  elif x < 0:\n",
        "    print(x, 'is negative')\n",
        "  else:\n",
        "    print(x, 'is not a number')\n",
        "\n",
        "inspect(0)\n",
        "inspect(1)\n",
        "inspect(-1)\n",
        "#inspect('spam')"
      ],
      "metadata": {
        "colab": {
          "base_uri": "https://localhost:8080/"
        },
        "id": "OuDt5BwKNHft",
        "outputId": "66b3a1fe-af74-40d6-b3f7-871adbc149cc"
      },
      "execution_count": null,
      "outputs": [
        {
          "output_type": "stream",
          "name": "stdout",
          "text": [
            "0 is zero\n",
            "1 is positive\n",
            "-1 is negative\n"
          ]
        }
      ]
    },
    {
      "cell_type": "markdown",
      "source": [
        "# bool function"
      ],
      "metadata": {
        "id": "vWs5dRGdNHh_"
      }
    },
    {
      "cell_type": "code",
      "source": [
        "print(bool(1))\n",
        "print(bool(0))\n",
        "print(bool(\"asf\"))\n",
        "print(bool(\"\"))\n"
      ],
      "metadata": {
        "colab": {
          "base_uri": "https://localhost:8080/"
        },
        "id": "rApZbu0UNHkl",
        "outputId": "e94228ff-1655-44b7-d7d3-a55ce94f99e2"
      },
      "execution_count": null,
      "outputs": [
        {
          "output_type": "stream",
          "name": "stdout",
          "text": [
            "True\n",
            "False\n",
            "True\n",
            "False\n"
          ]
        }
      ]
    },
    {
      "cell_type": "code",
      "source": [
        "if 0:\n",
        "    print(0)\n",
        "elif \"spam\":\n",
        "    print(\"spam\")\n"
      ],
      "metadata": {
        "colab": {
          "base_uri": "https://localhost:8080/"
        },
        "id": "Ut_3v0NPNHnM",
        "outputId": "89194ed7-70e6-4e58-b65a-5dfc63bbdcae"
      },
      "execution_count": null,
      "outputs": [
        {
          "output_type": "stream",
          "name": "stdout",
          "text": [
            "spam\n"
          ]
        }
      ]
    },
    {
      "cell_type": "code",
      "source": [
        "def sign(x):\n",
        "    if x > 0:\n",
        "        y = 1\n",
        "    elif x < 0:\n",
        "        y = -1\n",
        "    else:\n",
        "        y = 0\n",
        "    return(y)\n",
        "\n",
        "print((sign(1), sign(0), sign(-1)))"
      ],
      "metadata": {
        "colab": {
          "base_uri": "https://localhost:8080/"
        },
        "id": "Ajbx0s5UNHpi",
        "outputId": "e70dc737-5f66-4850-dff7-61d615c0fe19"
      },
      "execution_count": null,
      "outputs": [
        {
          "output_type": "stream",
          "name": "stdout",
          "text": [
            "(1, 0, -1)\n"
          ]
        }
      ]
    },
    {
      "cell_type": "code",
      "source": [
        "def to_smash(total_candies):\n",
        "    \"\"\"Return the number of leftover candies that must be smashed after distributing\n",
        "    the given number of candies evenly between 3 friends.\n",
        "\n",
        "    >>> to_smash(91)\n",
        "    1\n",
        "    \"\"\"\n",
        "\n",
        "    if total_candies > 1:\n",
        "        print(\"Splitting\", total_candies, \"candies\")\n",
        "    else:\n",
        "        print(\"Splitting\", total_candies, \"candy\")\n",
        "\n",
        "    return total_candies % 3\n",
        "\n",
        "\n",
        "to_smash(91)\n",
        "to_smash(1)"
      ],
      "metadata": {
        "colab": {
          "base_uri": "https://localhost:8080/"
        },
        "id": "O6tuOGiiNHsJ",
        "outputId": "62834d92-51a7-4729-e24a-1d2f139ef661"
      },
      "execution_count": null,
      "outputs": [
        {
          "output_type": "stream",
          "name": "stdout",
          "text": [
            "Splitting 91 candies\n",
            "Splitting 1 candy\n"
          ]
        },
        {
          "output_type": "execute_result",
          "data": {
            "text/plain": [
              "1"
            ]
          },
          "metadata": {},
          "execution_count": 24
        }
      ]
    },
    {
      "cell_type": "code",
      "source": [
        "def is_negative(number):\n",
        "  return True if number < 0 else False\n",
        "\n",
        "print(is_negative(-1))\n",
        "print(is_negative(1))\n"
      ],
      "metadata": {
        "colab": {
          "base_uri": "https://localhost:8080/"
        },
        "id": "Ct6rzi6JNHuv",
        "outputId": "816be829-ab66-4a64-e3a1-a2d01519f159"
      },
      "execution_count": null,
      "outputs": [
        {
          "output_type": "stream",
          "name": "stdout",
          "text": [
            "True\n",
            "False\n"
          ]
        }
      ]
    },
    {
      "cell_type": "markdown",
      "source": [
        "# Lists"
      ],
      "metadata": {
        "id": "WVcqwgh1NHxn"
      }
    },
    {
      "cell_type": "code",
      "source": [
        "primes = [2, 3, 5, 7]\n",
        "print(primes)\n",
        "print(primes[0])\n",
        "print(primes[1])\n",
        "print(primes[2])\n",
        "print(primes[3])"
      ],
      "metadata": {
        "id": "9IlKs0VsLEp_",
        "colab": {
          "base_uri": "https://localhost:8080/"
        },
        "outputId": "52581af5-4e2e-453f-f68f-67f6be9fdb52"
      },
      "execution_count": null,
      "outputs": [
        {
          "output_type": "stream",
          "name": "stdout",
          "text": [
            "[2, 3, 5, 7]\n",
            "2\n",
            "3\n",
            "5\n",
            "7\n"
          ]
        }
      ]
    },
    {
      "cell_type": "code",
      "source": [
        "planets = ['Mercury', 'Venus', 'Earth', 'Mars']\n",
        "print(planets)\n",
        "print(planets[0])\n",
        "print(planets[1])\n",
        "print(planets[2])\n",
        "print(planets[3])"
      ],
      "metadata": {
        "id": "5khYowe-LEsU",
        "colab": {
          "base_uri": "https://localhost:8080/"
        },
        "outputId": "c642a0da-ef28-4713-97f2-f6bbd5fdb73a"
      },
      "execution_count": null,
      "outputs": [
        {
          "output_type": "stream",
          "name": "stdout",
          "text": [
            "['Mercury', 'Venus', 'Earth', 'Mars']\n",
            "Mercury\n",
            "Venus\n",
            "Earth\n",
            "Mars\n"
          ]
        }
      ]
    },
    {
      "cell_type": "markdown",
      "source": [
        "# A list of lists"
      ],
      "metadata": {
        "id": "ZekFINbzY9rR"
      }
    },
    {
      "cell_type": "code",
      "source": [
        "hands = [\n",
        "        ['J','Q','K'],\n",
        "        ['2','2','2'],\n",
        "        ['6','A','K'],\n",
        "        ]\n",
        "\n",
        "print(hands)\n",
        "print(hands[0])\n",
        "print(hands[1])\n",
        "print(hands[2])"
      ],
      "metadata": {
        "colab": {
          "base_uri": "https://localhost:8080/"
        },
        "id": "-FGNqA35Y9t0",
        "outputId": "31488750-0eae-4c50-ff37-fc7562d8016f"
      },
      "execution_count": null,
      "outputs": [
        {
          "output_type": "stream",
          "name": "stdout",
          "text": [
            "[['J', 'Q', 'K'], ['2', '2', '2'], ['6', 'A', 'K']]\n",
            "['J', 'Q', 'K']\n",
            "['2', '2', '2']\n",
            "['6', 'A', 'K']\n"
          ]
        }
      ]
    },
    {
      "cell_type": "markdown",
      "source": [
        "# Mix of different types of variables"
      ],
      "metadata": {
        "id": "kvYNzROKY9wa"
      }
    },
    {
      "cell_type": "code",
      "source": [
        "my_list = [32, 'raindops on roses', help]\n",
        "print(my_list)"
      ],
      "metadata": {
        "id": "w6akA6KXY9zS",
        "colab": {
          "base_uri": "https://localhost:8080/"
        },
        "outputId": "fb336e74-0967-4699-c56b-919e74f33d7c"
      },
      "execution_count": null,
      "outputs": [
        {
          "output_type": "stream",
          "name": "stdout",
          "text": [
            "[32, 'raindops on roses', Type help() for interactive help, or help(object) for help about object.]\n"
          ]
        }
      ]
    },
    {
      "cell_type": "code",
      "source": [
        "planets = ['Mercury', 'Venus', 'Earth', 'Mars', 'Jupiter', 'Saturn', 'Uranus', 'Neptune']\n",
        "print(planets)\n",
        "print(planets[0])\n",
        "print(planets[1])\n",
        "print(planets[2])\n",
        "print(planets[3])"
      ],
      "metadata": {
        "id": "Fl6cLjWGY92J",
        "colab": {
          "base_uri": "https://localhost:8080/"
        },
        "outputId": "28df391f-4554-47e5-925b-b4d5339a799f"
      },
      "execution_count": null,
      "outputs": [
        {
          "output_type": "stream",
          "name": "stdout",
          "text": [
            "['Mercury', 'Venus', 'Earth', 'Mars', 'Jupiter', 'Saturn', 'Uranus', 'Neptune']\n",
            "Mercury\n",
            "Venus\n",
            "Earth\n",
            "Mars\n"
          ]
        }
      ]
    },
    {
      "cell_type": "code",
      "source": [
        "planets[-1]"
      ],
      "metadata": {
        "id": "Xuumc-QwY95B",
        "colab": {
          "base_uri": "https://localhost:8080/",
          "height": 36
        },
        "outputId": "3e252c6e-1b90-465b-c46b-c9d53f2a0f6c"
      },
      "execution_count": null,
      "outputs": [
        {
          "output_type": "execute_result",
          "data": {
            "text/plain": [
              "'Neptune'"
            ],
            "application/vnd.google.colaboratory.intrinsic+json": {
              "type": "string"
            }
          },
          "metadata": {},
          "execution_count": 5
        }
      ]
    },
    {
      "cell_type": "code",
      "source": [
        "planets[-2]"
      ],
      "metadata": {
        "id": "SKAh-iF7Y98Z",
        "colab": {
          "base_uri": "https://localhost:8080/",
          "height": 36
        },
        "outputId": "291478a9-504d-4f93-ee5e-172d30137a7e"
      },
      "execution_count": null,
      "outputs": [
        {
          "output_type": "execute_result",
          "data": {
            "text/plain": [
              "'Uranus'"
            ],
            "application/vnd.google.colaboratory.intrinsic+json": {
              "type": "string"
            }
          },
          "metadata": {},
          "execution_count": 6
        }
      ]
    },
    {
      "cell_type": "markdown",
      "source": [
        "# Slicing"
      ],
      "metadata": {
        "id": "oUNyCB8eY9_h"
      }
    },
    {
      "cell_type": "code",
      "source": [
        "planets[0:4] # Not including index 4!"
      ],
      "metadata": {
        "colab": {
          "base_uri": "https://localhost:8080/"
        },
        "id": "1-3CsVsyijgM",
        "outputId": "1942d1a5-f816-465d-d50e-7462a9825127"
      },
      "execution_count": null,
      "outputs": [
        {
          "output_type": "execute_result",
          "data": {
            "text/plain": [
              "['Mercury', 'Venus', 'Earth', 'Mars']"
            ]
          },
          "metadata": {},
          "execution_count": 7
        }
      ]
    },
    {
      "cell_type": "code",
      "source": [
        "planets[:4]"
      ],
      "metadata": {
        "colab": {
          "base_uri": "https://localhost:8080/"
        },
        "id": "MGvjaUXuijiv",
        "outputId": "f98d9ae2-ac7f-4dc3-9e2a-0df151b63bb6"
      },
      "execution_count": null,
      "outputs": [
        {
          "output_type": "execute_result",
          "data": {
            "text/plain": [
              "['Mercury', 'Venus', 'Earth', 'Mars']"
            ]
          },
          "metadata": {},
          "execution_count": 8
        }
      ]
    },
    {
      "cell_type": "code",
      "source": [
        "planets[4:]"
      ],
      "metadata": {
        "colab": {
          "base_uri": "https://localhost:8080/"
        },
        "id": "5BLgRzShijlF",
        "outputId": "29fb8709-c393-4742-a322-9e46802b0e98"
      },
      "execution_count": null,
      "outputs": [
        {
          "output_type": "execute_result",
          "data": {
            "text/plain": [
              "['Jupiter', 'Saturn', 'Uranus', 'Neptune']"
            ]
          },
          "metadata": {},
          "execution_count": 9
        }
      ]
    },
    {
      "cell_type": "markdown",
      "source": [
        "# All the planetrs except first and last"
      ],
      "metadata": {
        "id": "K_Ox52SSijns"
      }
    },
    {
      "cell_type": "code",
      "source": [
        "planets[1:-1]"
      ],
      "metadata": {
        "colab": {
          "base_uri": "https://localhost:8080/"
        },
        "id": "8uNDptZIijqS",
        "outputId": "a9b4e1a4-8ed6-43bc-d39d-1d8fc2d82f24"
      },
      "execution_count": null,
      "outputs": [
        {
          "output_type": "execute_result",
          "data": {
            "text/plain": [
              "['Venus', 'Earth', 'Mars', 'Jupiter', 'Saturn', 'Uranus']"
            ]
          },
          "metadata": {},
          "execution_count": 10
        }
      ]
    },
    {
      "cell_type": "code",
      "source": [
        "# The last 3 planets\n",
        "planets[-3:]"
      ],
      "metadata": {
        "id": "N0wjjRHzijs5"
      },
      "execution_count": null,
      "outputs": []
    },
    {
      "cell_type": "markdown",
      "source": [
        "# Changing lists\n",
        "# ** lists are mutable **"
      ],
      "metadata": {
        "id": "kT1QtVNoijwB"
      }
    },
    {
      "cell_type": "code",
      "source": [
        "planets[3] = 'Malcacndra'\n",
        "print(planets)"
      ],
      "metadata": {
        "colab": {
          "base_uri": "https://localhost:8080/"
        },
        "id": "Na90m-z5ijyo",
        "outputId": "8b885ed0-c05a-4e3b-b6f7-b0368adf8234"
      },
      "execution_count": null,
      "outputs": [
        {
          "output_type": "stream",
          "name": "stdout",
          "text": [
            "['Mercury', 'Venus', 'Earth', 'Malcacndra', 'Jupiter', 'Saturn', 'Uranus', 'Neptune']\n"
          ]
        }
      ]
    },
    {
      "cell_type": "markdown",
      "source": [
        "# List functions"
      ],
      "metadata": {
        "id": "1dnVlS0skeT9"
      }
    },
    {
      "cell_type": "code",
      "source": [
        "# How manu planets is there?\n",
        "len(planets)\n"
      ],
      "metadata": {
        "colab": {
          "base_uri": "https://localhost:8080/"
        },
        "id": "K5uAbOAykeWz",
        "outputId": "531d5220-a365-4f0e-805d-69d954a6db8b"
      },
      "execution_count": null,
      "outputs": [
        {
          "output_type": "execute_result",
          "data": {
            "text/plain": [
              "8"
            ]
          },
          "metadata": {},
          "execution_count": 13
        }
      ]
    },
    {
      "cell_type": "code",
      "source": [
        "# Sorted in alphabetica order\n",
        "sorted(planets)"
      ],
      "metadata": {
        "colab": {
          "base_uri": "https://localhost:8080/"
        },
        "id": "9Xwt5FYbkeZ7",
        "outputId": "bbd4a964-20cf-4954-d875-e34e2a656d13"
      },
      "execution_count": null,
      "outputs": [
        {
          "output_type": "execute_result",
          "data": {
            "text/plain": [
              "['Earth',\n",
              " 'Jupiter',\n",
              " 'Malcacndra',\n",
              " 'Mercury',\n",
              " 'Neptune',\n",
              " 'Saturn',\n",
              " 'Uranus',\n",
              " 'Venus']"
            ]
          },
          "metadata": {},
          "execution_count": 14
        }
      ]
    },
    {
      "cell_type": "code",
      "source": [
        "# Sum, min, max\n",
        "primes = [2, 3, 5, 7]\n",
        "print(sum(primes))\n",
        "print(min(primes))\n",
        "print(max(primes))\n",
        "\n",
        "min1 = min(primes)\n",
        "max1 = max(primes)\n",
        "\n",
        "index_of_min1 = primes.index(min1)\n",
        "index_of_max1 = primes.index(max1)\n",
        "\n",
        "print(index_of_max1)\n",
        "print(index_of_min1)\n"
      ],
      "metadata": {
        "colab": {
          "base_uri": "https://localhost:8080/"
        },
        "id": "VFp3duy5kedm",
        "outputId": "86548037-49b0-417a-f75f-e3f05ff275ef"
      },
      "execution_count": null,
      "outputs": [
        {
          "output_type": "stream",
          "name": "stdout",
          "text": [
            "17\n",
            "2\n",
            "7\n",
            "3\n",
            "0\n",
            "2\n"
          ]
        }
      ]
    },
    {
      "cell_type": "code",
      "source": [
        "a = primes[2]\n",
        "ind_a = primes.index(a)\n",
        "print(ind_a)"
      ],
      "metadata": {
        "colab": {
          "base_uri": "https://localhost:8080/"
        },
        "id": "WG6ciE3Nm98V",
        "outputId": "9fde2d02-7e5c-4c60-c81b-b66f5dead6a1"
      },
      "execution_count": null,
      "outputs": [
        {
          "output_type": "stream",
          "name": "stdout",
          "text": [
            "2\n"
          ]
        }
      ]
    },
    {
      "cell_type": "markdown",
      "source": [
        "# Objects\n",
        "Carry some things aruond. You access that stuff using dot syntax."
      ],
      "metadata": {
        "id": "gBdBaDbGm9-1"
      }
    },
    {
      "cell_type": "code",
      "source": [
        "# Commplex numbers\n",
        "c = 3 + 4j\n",
        "print(c)\n",
        "print(type(c))\n"
      ],
      "metadata": {
        "colab": {
          "base_uri": "https://localhost:8080/"
        },
        "id": "a7LI2xRQm-Bb",
        "outputId": "f12d53f4-1b5e-4318-ccf2-c18eb96f5917"
      },
      "execution_count": null,
      "outputs": [
        {
          "output_type": "stream",
          "name": "stdout",
          "text": [
            "(3+4j)\n",
            "<class 'complex'>\n"
          ]
        }
      ]
    },
    {
      "cell_type": "code",
      "source": [
        "print(f\"real part of c = {c.real}\")\n",
        "print(f\"imaginary part of c = {c.imag}\")"
      ],
      "metadata": {
        "colab": {
          "base_uri": "https://localhost:8080/"
        },
        "id": "Du3gxDjtm-Dy",
        "outputId": "facf3842-ba10-4fce-95b5-a8e6454d1066"
      },
      "execution_count": null,
      "outputs": [
        {
          "output_type": "stream",
          "name": "stdout",
          "text": [
            "real part of c = 3.0\n",
            "imaginary part of c = 4.0\n"
          ]
        }
      ]
    },
    {
      "cell_type": "markdown",
      "source": [
        "# A function attached to an object is called *method*\n",
        "# Non-function thing attached to an object is called *atribute*"
      ],
      "metadata": {
        "id": "sfjX9_S3m-Gp"
      }
    },
    {
      "cell_type": "code",
      "source": [
        "x = 12\n",
        "print(x.bit_length())\n",
        "print(type(x.bit_length()))"
      ],
      "metadata": {
        "colab": {
          "base_uri": "https://localhost:8080/"
        },
        "id": "Ws3-ZaCvm-Jg",
        "outputId": "74a4388a-7d30-4a43-d39f-5a7b6da106e4"
      },
      "execution_count": null,
      "outputs": [
        {
          "output_type": "stream",
          "name": "stdout",
          "text": [
            "4\n",
            "<class 'int'>\n"
          ]
        }
      ]
    },
    {
      "cell_type": "code",
      "source": [
        "# Passing function to a method\n",
        "help(x.bit_length)"
      ],
      "metadata": {
        "colab": {
          "base_uri": "https://localhost:8080/"
        },
        "id": "t4BgOOKmm-MH",
        "outputId": "5a095022-17f5-47f1-98b6-7e1b3fad0a7f"
      },
      "execution_count": null,
      "outputs": [
        {
          "output_type": "stream",
          "name": "stdout",
          "text": [
            "Help on built-in function bit_length:\n",
            "\n",
            "bit_length() method of builtins.int instance\n",
            "    Number of bits necessary to represent self in binary.\n",
            "    \n",
            "    >>> bin(37)\n",
            "    '0b100101'\n",
            "    >>> (37).bit_length()\n",
            "    6\n",
            "\n"
          ]
        }
      ]
    },
    {
      "cell_type": "markdown",
      "source": [
        "# List methods"
      ],
      "metadata": {
        "id": "w7Lmt7J-m-PP"
      }
    },
    {
      "cell_type": "code",
      "source": [
        "# list.append - adds an item to the end of a list\n",
        "planets.append('Pluto')\n",
        "planets"
      ],
      "metadata": {
        "colab": {
          "base_uri": "https://localhost:8080/"
        },
        "id": "ndzOXpKhkegt",
        "outputId": "5cdcd027-8e43-4cbc-e949-cc17d3399cca"
      },
      "execution_count": null,
      "outputs": [
        {
          "output_type": "execute_result",
          "data": {
            "text/plain": [
              "['Mercury',\n",
              " 'Venus',\n",
              " 'Earth',\n",
              " 'Malcacndra',\n",
              " 'Jupiter',\n",
              " 'Saturn',\n",
              " 'Uranus',\n",
              " 'Neptune',\n",
              " 'Pluto',\n",
              " 'Pluto']"
            ]
          },
          "metadata": {},
          "execution_count": 34
        }
      ]
    },
    {
      "cell_type": "code",
      "source": [
        "# list.pop - reterurs and remove the last element of a list\n",
        "planets.pop()\n"
      ],
      "metadata": {
        "colab": {
          "base_uri": "https://localhost:8080/",
          "height": 36
        },
        "id": "l8ASgKS3kejD",
        "outputId": "d588a022-81f5-4145-9632-55d2d6d18237"
      },
      "execution_count": null,
      "outputs": [
        {
          "output_type": "execute_result",
          "data": {
            "text/plain": [
              "'Pluto'"
            ],
            "application/vnd.google.colaboratory.intrinsic+json": {
              "type": "string"
            }
          },
          "metadata": {},
          "execution_count": 36
        }
      ]
    },
    {
      "cell_type": "code",
      "source": [
        "planets"
      ],
      "metadata": {
        "colab": {
          "base_uri": "https://localhost:8080/"
        },
        "id": "BdpuyDUZkel6",
        "outputId": "eb00461f-42b2-467c-f12a-9c128c783452"
      },
      "execution_count": null,
      "outputs": [
        {
          "output_type": "execute_result",
          "data": {
            "text/plain": [
              "['Mercury',\n",
              " 'Venus',\n",
              " 'Earth',\n",
              " 'Malcacndra',\n",
              " 'Jupiter',\n",
              " 'Saturn',\n",
              " 'Uranus',\n",
              " 'Neptune']"
            ]
          },
          "metadata": {},
          "execution_count": 37
        }
      ]
    },
    {
      "cell_type": "code",
      "source": [
        "# list.index - give us the index of an element in the list\n",
        "planets.index('Earth')"
      ],
      "metadata": {
        "colab": {
          "base_uri": "https://localhost:8080/"
        },
        "id": "GWZYarOjij1w",
        "outputId": "7d5fe218-7b6f-44d5-e8a3-e0cb992e4475"
      },
      "execution_count": null,
      "outputs": [
        {
          "output_type": "execute_result",
          "data": {
            "text/plain": [
              "2"
            ]
          },
          "metadata": {},
          "execution_count": 38
        }
      ]
    },
    {
      "cell_type": "code",
      "source": [
        "# in operator\n",
        "\"Earth\" in planets"
      ],
      "metadata": {
        "colab": {
          "base_uri": "https://localhost:8080/"
        },
        "id": "cmO5Csuurtf2",
        "outputId": "a6b3c845-2778-494f-e89c-837ff9fa62a0"
      },
      "execution_count": null,
      "outputs": [
        {
          "output_type": "execute_result",
          "data": {
            "text/plain": [
              "True"
            ]
          },
          "metadata": {},
          "execution_count": 39
        }
      ]
    },
    {
      "cell_type": "code",
      "source": [
        "\"Calbefraqyes\" in planets"
      ],
      "metadata": {
        "colab": {
          "base_uri": "https://localhost:8080/"
        },
        "id": "CKtgHeX1rtiX",
        "outputId": "9d5629ae-50f2-4663-a104-00fe4d6f1fb2"
      },
      "execution_count": null,
      "outputs": [
        {
          "output_type": "execute_result",
          "data": {
            "text/plain": [
              "False"
            ]
          },
          "metadata": {},
          "execution_count": 40
        }
      ]
    },
    {
      "cell_type": "code",
      "source": [
        "# All list methods\n",
        "help(planets)"
      ],
      "metadata": {
        "colab": {
          "base_uri": "https://localhost:8080/"
        },
        "id": "7JakfkUxrtk-",
        "outputId": "6d0172c7-e1c0-4a5a-cf65-e64ceead56a7"
      },
      "execution_count": null,
      "outputs": [
        {
          "output_type": "stream",
          "name": "stdout",
          "text": [
            "Help on list object:\n",
            "\n",
            "class list(object)\n",
            " |  list(iterable=(), /)\n",
            " |  \n",
            " |  Built-in mutable sequence.\n",
            " |  \n",
            " |  If no argument is given, the constructor creates a new empty list.\n",
            " |  The argument must be an iterable if specified.\n",
            " |  \n",
            " |  Methods defined here:\n",
            " |  \n",
            " |  __add__(self, value, /)\n",
            " |      Return self+value.\n",
            " |  \n",
            " |  __contains__(self, key, /)\n",
            " |      Return key in self.\n",
            " |  \n",
            " |  __delitem__(self, key, /)\n",
            " |      Delete self[key].\n",
            " |  \n",
            " |  __eq__(self, value, /)\n",
            " |      Return self==value.\n",
            " |  \n",
            " |  __ge__(self, value, /)\n",
            " |      Return self>=value.\n",
            " |  \n",
            " |  __getattribute__(self, name, /)\n",
            " |      Return getattr(self, name).\n",
            " |  \n",
            " |  __getitem__(...)\n",
            " |      x.__getitem__(y) <==> x[y]\n",
            " |  \n",
            " |  __gt__(self, value, /)\n",
            " |      Return self>value.\n",
            " |  \n",
            " |  __iadd__(self, value, /)\n",
            " |      Implement self+=value.\n",
            " |  \n",
            " |  __imul__(self, value, /)\n",
            " |      Implement self*=value.\n",
            " |  \n",
            " |  __init__(self, /, *args, **kwargs)\n",
            " |      Initialize self.  See help(type(self)) for accurate signature.\n",
            " |  \n",
            " |  __iter__(self, /)\n",
            " |      Implement iter(self).\n",
            " |  \n",
            " |  __le__(self, value, /)\n",
            " |      Return self<=value.\n",
            " |  \n",
            " |  __len__(self, /)\n",
            " |      Return len(self).\n",
            " |  \n",
            " |  __lt__(self, value, /)\n",
            " |      Return self<value.\n",
            " |  \n",
            " |  __mul__(self, value, /)\n",
            " |      Return self*value.\n",
            " |  \n",
            " |  __ne__(self, value, /)\n",
            " |      Return self!=value.\n",
            " |  \n",
            " |  __repr__(self, /)\n",
            " |      Return repr(self).\n",
            " |  \n",
            " |  __reversed__(self, /)\n",
            " |      Return a reverse iterator over the list.\n",
            " |  \n",
            " |  __rmul__(self, value, /)\n",
            " |      Return value*self.\n",
            " |  \n",
            " |  __setitem__(self, key, value, /)\n",
            " |      Set self[key] to value.\n",
            " |  \n",
            " |  __sizeof__(self, /)\n",
            " |      Return the size of the list in memory, in bytes.\n",
            " |  \n",
            " |  append(self, object, /)\n",
            " |      Append object to the end of the list.\n",
            " |  \n",
            " |  clear(self, /)\n",
            " |      Remove all items from list.\n",
            " |  \n",
            " |  copy(self, /)\n",
            " |      Return a shallow copy of the list.\n",
            " |  \n",
            " |  count(self, value, /)\n",
            " |      Return number of occurrences of value.\n",
            " |  \n",
            " |  extend(self, iterable, /)\n",
            " |      Extend list by appending elements from the iterable.\n",
            " |  \n",
            " |  index(self, value, start=0, stop=9223372036854775807, /)\n",
            " |      Return first index of value.\n",
            " |      \n",
            " |      Raises ValueError if the value is not present.\n",
            " |  \n",
            " |  insert(self, index, object, /)\n",
            " |      Insert object before index.\n",
            " |  \n",
            " |  pop(self, index=-1, /)\n",
            " |      Remove and return item at index (default last).\n",
            " |      \n",
            " |      Raises IndexError if list is empty or index is out of range.\n",
            " |  \n",
            " |  remove(self, value, /)\n",
            " |      Remove first occurrence of value.\n",
            " |      \n",
            " |      Raises ValueError if the value is not present.\n",
            " |  \n",
            " |  reverse(self, /)\n",
            " |      Reverse *IN PLACE*.\n",
            " |  \n",
            " |  sort(self, /, *, key=None, reverse=False)\n",
            " |      Sort the list in ascending order and return None.\n",
            " |      \n",
            " |      The sort is in-place (i.e. the list itself is modified) and stable (i.e. the\n",
            " |      order of two equal elements is maintained).\n",
            " |      \n",
            " |      If a key function is given, apply it once to each list item and sort them,\n",
            " |      ascending or descending, according to their function values.\n",
            " |      \n",
            " |      The reverse flag can be set to sort in descending order.\n",
            " |  \n",
            " |  ----------------------------------------------------------------------\n",
            " |  Class methods defined here:\n",
            " |  \n",
            " |  __class_getitem__(...) from builtins.type\n",
            " |      See PEP 585\n",
            " |  \n",
            " |  ----------------------------------------------------------------------\n",
            " |  Static methods defined here:\n",
            " |  \n",
            " |  __new__(*args, **kwargs) from builtins.type\n",
            " |      Create and return a new object.  See help(type) for accurate signature.\n",
            " |  \n",
            " |  ----------------------------------------------------------------------\n",
            " |  Data and other attributes defined here:\n",
            " |  \n",
            " |  __hash__ = None\n",
            "\n"
          ]
        }
      ]
    },
    {
      "cell_type": "markdown",
      "source": [
        "# Tuples"
      ],
      "metadata": {
        "id": "YPcGWtq6rtnm"
      }
    },
    {
      "cell_type": "code",
      "source": [
        "# 1. Use parentheses instead of square brackets\n",
        "t = (1, 2, 3)\n",
        "print(t)\n",
        "print(type(t))"
      ],
      "metadata": {
        "colab": {
          "base_uri": "https://localhost:8080/"
        },
        "id": "UM6Sh4R_rtqM",
        "outputId": "eeee5767-05fd-4203-c1ed-2c0e319c6319"
      },
      "execution_count": null,
      "outputs": [
        {
          "output_type": "stream",
          "name": "stdout",
          "text": [
            "(1, 2, 3)\n",
            "<class 'tuple'>\n"
          ]
        }
      ]
    },
    {
      "cell_type": "code",
      "source": [
        "# 2. They cannot be modified (immutable)\n",
        "t[0] = 4"
      ],
      "metadata": {
        "colab": {
          "base_uri": "https://localhost:8080/",
          "height": 158
        },
        "id": "XDVwAcZ4rttD",
        "outputId": "0ff80169-d086-42c6-a263-76eac75cff85"
      },
      "execution_count": null,
      "outputs": [
        {
          "output_type": "error",
          "ename": "TypeError",
          "evalue": "'tuple' object does not support item assignment",
          "traceback": [
            "\u001b[0;31m---------------------------------------------------------------------------\u001b[0m",
            "\u001b[0;31mTypeError\u001b[0m                                 Traceback (most recent call last)",
            "\u001b[0;32m<ipython-input-43-e55938348c0b>\u001b[0m in \u001b[0;36m<cell line: 2>\u001b[0;34m()\u001b[0m\n\u001b[1;32m      1\u001b[0m \u001b[0;31m# 2. They cannot be modified (immutable)\u001b[0m\u001b[0;34m\u001b[0m\u001b[0;34m\u001b[0m\u001b[0m\n\u001b[0;32m----> 2\u001b[0;31m \u001b[0mt\u001b[0m\u001b[0;34m[\u001b[0m\u001b[0;36m0\u001b[0m\u001b[0;34m]\u001b[0m \u001b[0;34m=\u001b[0m \u001b[0;36m4\u001b[0m\u001b[0;34m\u001b[0m\u001b[0;34m\u001b[0m\u001b[0m\n\u001b[0m",
            "\u001b[0;31mTypeError\u001b[0m: 'tuple' object does not support item assignment"
          ]
        }
      ]
    },
    {
      "cell_type": "code",
      "source": [
        "# Tuples are often used for functions that have multiple return values\n",
        "x = 0.125\n",
        "x.as_integer_ratio()"
      ],
      "metadata": {
        "colab": {
          "base_uri": "https://localhost:8080/"
        },
        "id": "zJ8aRNRHuLJ2",
        "outputId": "497b7352-ede1-46bf-9bb0-13fdfef22392"
      },
      "execution_count": null,
      "outputs": [
        {
          "output_type": "execute_result",
          "data": {
            "text/plain": [
              "(1, 8)"
            ]
          },
          "metadata": {},
          "execution_count": 44
        }
      ]
    },
    {
      "cell_type": "code",
      "source": [
        "nominator, denominator = x.as_integer_ratio()\n",
        "print(nominator / denominator)\n"
      ],
      "metadata": {
        "colab": {
          "base_uri": "https://localhost:8080/"
        },
        "id": "l623IytXuLMV",
        "outputId": "b394aaf6-4684-4892-ff6d-49553adde52a"
      },
      "execution_count": null,
      "outputs": [
        {
          "output_type": "stream",
          "name": "stdout",
          "text": [
            "0.125\n"
          ]
        }
      ]
    },
    {
      "cell_type": "code",
      "source": [
        "# Swapping two variables\n",
        "a = 1\n",
        "b = 0\n",
        "a, b = b, a\n",
        "print(a, b)"
      ],
      "metadata": {
        "colab": {
          "base_uri": "https://localhost:8080/"
        },
        "id": "GYaKjgdtuLOs",
        "outputId": "97f767ce-545f-4bc8-94c4-393164c27282"
      },
      "execution_count": null,
      "outputs": [
        {
          "output_type": "stream",
          "name": "stdout",
          "text": [
            "0 1\n"
          ]
        }
      ]
    },
    {
      "cell_type": "markdown",
      "source": [
        "# Tests"
      ],
      "metadata": {
        "id": "Xt9LbpYnrtwb"
      }
    },
    {
      "cell_type": "code",
      "source": [
        "atest = [1, 2]\n",
        "print(len(atest))"
      ],
      "metadata": {
        "colab": {
          "base_uri": "https://localhost:8080/"
        },
        "id": "L4IWfHNhuLRj",
        "outputId": "2c1a5751-bc73-49a7-810e-4c5d44cfd2dc"
      },
      "execution_count": null,
      "outputs": [
        {
          "output_type": "stream",
          "name": "stdout",
          "text": [
            "2\n"
          ]
        }
      ]
    },
    {
      "cell_type": "code",
      "source": [
        "a=[1]\n",
        "print(len(a))"
      ],
      "metadata": {
        "colab": {
          "base_uri": "https://localhost:8080/"
        },
        "id": "9SBY_QdWuLUa",
        "outputId": "4d3b4ef4-b80d-411f-a9a0-36b2884789e6"
      },
      "execution_count": null,
      "outputs": [
        {
          "output_type": "stream",
          "name": "stdout",
          "text": [
            "1\n"
          ]
        }
      ]
    },
    {
      "cell_type": "code",
      "source": [
        "a = [1, 3, 8, 10, 15]\n",
        "if len(a) > 1:\n",
        "  print(a[1])\n",
        "else:\n",
        "  print(None)"
      ],
      "metadata": {
        "colab": {
          "base_uri": "https://localhost:8080/"
        },
        "id": "J7yv0UJlyyJm",
        "outputId": "02efcfed-3366-45bd-ce35-eebb55f3a48c"
      },
      "execution_count": null,
      "outputs": [
        {
          "output_type": "stream",
          "name": "stdout",
          "text": [
            "3\n"
          ]
        }
      ]
    },
    {
      "cell_type": "code",
      "source": [
        "t1 = [1, 2, 3]\n",
        "t2 = [4, 5, 6]\n",
        "t3 = [7, 8, 9]\n",
        "list = [t1 ,t2, t3]\n",
        "\n",
        "print(list[0][1])\n"
      ],
      "metadata": {
        "colab": {
          "base_uri": "https://localhost:8080/"
        },
        "id": "44D4eRFoyyK6",
        "outputId": "8ed9f54b-41b0-4e77-b286-63a22daf85e1"
      },
      "execution_count": null,
      "outputs": [
        {
          "output_type": "stream",
          "name": "stdout",
          "text": [
            "2\n"
          ]
        }
      ]
    },
    {
      "cell_type": "code",
      "source": [
        "a = [1, 2, 3]\n",
        "len(a)\n",
        "b = [1, [2, 3]]\n",
        "len(b)\n",
        "c = []\n",
        "len(c)\n",
        "d = [1, 2, 3][1:]\n",
        "len(d)"
      ],
      "metadata": {
        "colab": {
          "base_uri": "https://localhost:8080/"
        },
        "id": "j07ax_pN2JFr",
        "outputId": "ce3777ad-eec5-4808-df5f-68c7d6a4ded5"
      },
      "execution_count": null,
      "outputs": [
        {
          "output_type": "execute_result",
          "data": {
            "text/plain": [
              "2"
            ]
          },
          "metadata": {},
          "execution_count": 61
        }
      ]
    },
    {
      "cell_type": "code",
      "source": [
        "a = [1, 2, 3]\n",
        "a2 = [[1, 2, 3],[4, 5, 6]]\n",
        "len(a2)\n",
        "d = [1, 2, 3][1:]\n",
        "print(d)"
      ],
      "metadata": {
        "colab": {
          "base_uri": "https://localhost:8080/"
        },
        "id": "d0HNca3Y2JG1",
        "outputId": "734c887a-e503-4068-b970-aa87881e5346"
      },
      "execution_count": null,
      "outputs": [
        {
          "output_type": "stream",
          "name": "stdout",
          "text": [
            "[2, 3]\n"
          ]
        }
      ]
    },
    {
      "cell_type": "code",
      "source": [
        "d = [1, 2, 3][-1]\n",
        "print(d)"
      ],
      "metadata": {
        "colab": {
          "base_uri": "https://localhost:8080/"
        },
        "id": "u6vA-95i2JJa",
        "outputId": "63d00abe-5f31-46f2-d294-a3bb1047b439"
      },
      "execution_count": null,
      "outputs": [
        {
          "output_type": "stream",
          "name": "stdout",
          "text": [
            "3\n"
          ]
        }
      ]
    },
    {
      "cell_type": "code",
      "source": [
        "d2 =[[1, 2, 3],[4, 5, 6]][1][:]\n",
        "print(d2)"
      ],
      "metadata": {
        "colab": {
          "base_uri": "https://localhost:8080/"
        },
        "id": "zp9CTXcq2JMA",
        "outputId": "59bc0762-148d-4afd-8faf-b19a3d9d5575"
      },
      "execution_count": null,
      "outputs": [
        {
          "output_type": "stream",
          "name": "stdout",
          "text": [
            "[4, 5, 6]\n"
          ]
        }
      ]
    },
    {
      "cell_type": "code",
      "source": [
        "attendies = ['Joe', 'Bill','John']\n",
        "name = 'John'\n",
        "j = attendies.index(name)\n",
        "print(j)\n",
        "print(len(attendies))"
      ],
      "metadata": {
        "id": "bOuBZCdI2JO4",
        "colab": {
          "base_uri": "https://localhost:8080/"
        },
        "outputId": "e44d9126-7321-4e91-e231-a19f658d5349"
      },
      "execution_count": null,
      "outputs": [
        {
          "output_type": "stream",
          "name": "stdout",
          "text": [
            "2\n",
            "3\n"
          ]
        }
      ]
    },
    {
      "cell_type": "code",
      "source": [
        "q = [1, 2, 3, 4]\n",
        "q.index(1)"
      ],
      "metadata": {
        "id": "rkIOWIGb2JRe",
        "colab": {
          "base_uri": "https://localhost:8080/"
        },
        "outputId": "0a0a8ab9-7c67-45b6-8321-eae031bc0bcb"
      },
      "execution_count": null,
      "outputs": [
        {
          "output_type": "execute_result",
          "data": {
            "text/plain": [
              "0"
            ]
          },
          "metadata": {},
          "execution_count": 83
        }
      ]
    },
    {
      "cell_type": "code",
      "source": [
        "arrivals = ['Paul', 'John', 'Ringo', 'George']\n",
        "print(arrivals.index('Ringo'))\n",
        "\n",
        "def fashionable_late(arrivals, name):\n",
        "  jj = arrivals.index(name)\n",
        "  if (jj >= len(arrivals)/2) and (jj < len(arrivals)-1 ):\n",
        "    return True\n",
        "  else:\n",
        "    return False\n",
        "\n",
        "print(fashionable_late(arrivals, 'Ringo'))"
      ],
      "metadata": {
        "id": "NOn-HybN2JUn",
        "colab": {
          "base_uri": "https://localhost:8080/"
        },
        "outputId": "e28a0204-d3bd-43e4-b565-86d24a6f158e"
      },
      "execution_count": null,
      "outputs": [
        {
          "output_type": "stream",
          "name": "stdout",
          "text": [
            "2\n",
            "True\n"
          ]
        }
      ]
    },
    {
      "cell_type": "markdown",
      "source": [
        "# Loops and List Comprehension"
      ],
      "metadata": {
        "id": "71ELkdqR2JZk"
      }
    },
    {
      "cell_type": "code",
      "source": [
        "planets = ['Mercury', 'Venus', 'Earth', 'Mars', 'Jupiter', 'Saturn', 'Uranus', 'Neptune']\n",
        "for planet in planets:\n",
        "  print(planet, end= ' ')"
      ],
      "metadata": {
        "id": "fv4Ayr5SyyPW",
        "colab": {
          "base_uri": "https://localhost:8080/"
        },
        "outputId": "c9043c6d-b053-4b56-d721-84db9826fbb8"
      },
      "execution_count": null,
      "outputs": [
        {
          "output_type": "stream",
          "name": "stdout",
          "text": [
            "Mercury Venus Earth Mars Jupiter Saturn Uranus Neptune "
          ]
        }
      ]
    },
    {
      "cell_type": "code",
      "source": [
        "multiplicants =(2, 2, 2, 3, 3, 5)\n",
        "procudt = 1\n",
        "for multiplier in multiplicants:\n",
        "  procudt *= multiplier\n",
        "print(procudt)"
      ],
      "metadata": {
        "id": "HwBnE2d_yyRr",
        "colab": {
          "base_uri": "https://localhost:8080/"
        },
        "outputId": "7ce8ef68-07db-4bc2-bece-00a31b4ee67d"
      },
      "execution_count": null,
      "outputs": [
        {
          "output_type": "stream",
          "name": "stdout",
          "text": [
            "360\n"
          ]
        }
      ]
    },
    {
      "cell_type": "code",
      "source": [
        "# Looping through characters in a string\n",
        "\n",
        "s = 'steganograpHy is the practicE of conceaLing a file, message, image, or video within another fiLe, message, image, Or video.'\n",
        "msg = ''\n",
        "# print all the uppercase letters in s, one at a time\n",
        "for char in s:\n",
        "    if char.isupper():\n",
        "        print(char, end='')"
      ],
      "metadata": {
        "id": "TbbdlszGyyUS",
        "colab": {
          "base_uri": "https://localhost:8080/"
        },
        "outputId": "19a6f5e8-257e-4b9f-9b1c-42a9bc882d9a"
      },
      "execution_count": null,
      "outputs": [
        {
          "output_type": "stream",
          "name": "stdout",
          "text": [
            "HELLO"
          ]
        }
      ]
    },
    {
      "cell_type": "markdown",
      "source": [
        "# range() - returns a seuqence of numbers"
      ],
      "metadata": {
        "id": "NV8agLYy0CfZ"
      }
    },
    {
      "cell_type": "code",
      "source": [
        "for i in range(10):\n",
        "  print(f\"i = {i}\")\n"
      ],
      "metadata": {
        "colab": {
          "base_uri": "https://localhost:8080/"
        },
        "id": "xrHF262V0Cix",
        "outputId": "7761cb6d-39d7-4fc0-b94b-361c893087e5"
      },
      "execution_count": null,
      "outputs": [
        {
          "output_type": "stream",
          "name": "stdout",
          "text": [
            "i = 0\n",
            "i = 1\n",
            "i = 2\n",
            "i = 3\n",
            "i = 4\n",
            "i = 5\n",
            "i = 6\n",
            "i = 7\n",
            "i = 8\n",
            "i = 9\n"
          ]
        }
      ]
    },
    {
      "cell_type": "markdown",
      "source": [
        "# while loops"
      ],
      "metadata": {
        "id": "7BPKXMrr0CmG"
      }
    },
    {
      "cell_type": "code",
      "source": [
        "i = 0\n",
        "while i < 10:\n",
        "  print(f\"i = {i}\")\n",
        "  i += 1"
      ],
      "metadata": {
        "colab": {
          "base_uri": "https://localhost:8080/"
        },
        "id": "EIBhcsAC0Cpj",
        "outputId": "fa521a2b-7946-43b7-c024-72305aa7e1ee"
      },
      "execution_count": null,
      "outputs": [
        {
          "output_type": "stream",
          "name": "stdout",
          "text": [
            "i = 0\n",
            "i = 1\n",
            "i = 2\n",
            "i = 3\n",
            "i = 4\n",
            "i = 5\n",
            "i = 6\n",
            "i = 7\n",
            "i = 8\n",
            "i = 9\n"
          ]
        }
      ]
    },
    {
      "cell_type": "markdown",
      "source": [
        "# List comprehension"
      ],
      "metadata": {
        "id": "YissQLDuAh3x"
      }
    },
    {
      "cell_type": "code",
      "source": [
        "squares = [n**2 for n in range(10)]\n",
        "print(squares)"
      ],
      "metadata": {
        "colab": {
          "base_uri": "https://localhost:8080/"
        },
        "id": "FXgO0GUMA8gA",
        "outputId": "b707220c-d4f3-43be-f406-1f0dd720d04b"
      },
      "execution_count": null,
      "outputs": [
        {
          "output_type": "stream",
          "name": "stdout",
          "text": [
            "[0, 1, 4, 9, 16, 25, 36, 49, 64, 81]\n"
          ]
        }
      ]
    },
    {
      "cell_type": "code",
      "source": [
        "squares = []\n",
        "for n in range(10):\n",
        "  squares.append(n**2)\n",
        "print(squares)"
      ],
      "metadata": {
        "colab": {
          "base_uri": "https://localhost:8080/"
        },
        "id": "aPXhNXwmA8iw",
        "outputId": "76e8441f-0c3e-4f1f-dc65-d83aac252024"
      },
      "execution_count": null,
      "outputs": [
        {
          "output_type": "stream",
          "name": "stdout",
          "text": [
            "[0, 1, 4, 9, 16, 25, 36, 49, 64, 81]\n"
          ]
        }
      ]
    },
    {
      "cell_type": "code",
      "source": [
        "# We can add 'if' condition\n",
        "planets = ['Mercury', 'Venus', 'Earth', 'Mars', 'Jupiter', 'Saturn', 'Uranus', 'Neptune']\n",
        "\n",
        "short_planets = [planet for planet in planets if len(planet) < 6]\n",
        "short_planets"
      ],
      "metadata": {
        "id": "WE3BkPTTA8n-",
        "colab": {
          "base_uri": "https://localhost:8080/"
        },
        "outputId": "30d069d8-992a-4af8-a926-49eec86e8f0d"
      },
      "execution_count": null,
      "outputs": [
        {
          "output_type": "execute_result",
          "data": {
            "text/plain": [
              "['Venus', 'Earth', 'Mars']"
            ]
          },
          "metadata": {},
          "execution_count": 4
        }
      ]
    },
    {
      "cell_type": "code",
      "source": [
        "# str_upper\n",
        "upper_planets = [planet.upper() + '!' for planet in planets if len(planet) < 6]\n",
        "upper_planets"
      ],
      "metadata": {
        "colab": {
          "base_uri": "https://localhost:8080/"
        },
        "id": "7ZtXZeMTTKV2",
        "outputId": "55494d76-ca38-4880-d04a-30ac7c032a3d"
      },
      "execution_count": null,
      "outputs": [
        {
          "output_type": "execute_result",
          "data": {
            "text/plain": [
              "['VENUS!', 'EARTH!', 'MARS!']"
            ]
          },
          "metadata": {},
          "execution_count": 7
        }
      ]
    },
    {
      "cell_type": "code",
      "source": [
        "[\n",
        "    planet.upper()+ '!'\n",
        "    for planet in planets\n",
        "    if len(planet) < 6\n",
        "]"
      ],
      "metadata": {
        "id": "0v9u-2SNA8qy",
        "colab": {
          "base_uri": "https://localhost:8080/"
        },
        "outputId": "e94fd8ca-943f-42a7-a69c-bad8dcdfa43a"
      },
      "execution_count": null,
      "outputs": [
        {
          "output_type": "execute_result",
          "data": {
            "text/plain": [
              "['VENUS!', 'EARTH!', 'MARS!']"
            ]
          },
          "metadata": {},
          "execution_count": 8
        }
      ]
    },
    {
      "cell_type": "code",
      "source": [
        "[32 for planet in planets]\n"
      ],
      "metadata": {
        "id": "fEqBTMe9A8t_",
        "colab": {
          "base_uri": "https://localhost:8080/"
        },
        "outputId": "b825edcd-948d-42e8-8801-156f3a6e9500"
      },
      "execution_count": null,
      "outputs": [
        {
          "output_type": "execute_result",
          "data": {
            "text/plain": [
              "[32, 32, 32, 32, 32, 32, 32, 32]"
            ]
          },
          "metadata": {},
          "execution_count": 9
        }
      ]
    },
    {
      "cell_type": "code",
      "source": [
        "def count_negatives(nums):\n",
        "    \"\"\"Return the number of negative numbers in the list nums.\"\"\"\n",
        "    count = 0\n",
        "    for num in nums:\n",
        "        if num < 0:\n",
        "            count += 1\n",
        "    return count\n",
        "\n",
        "nnums = [-1, 2, -3, 4, -5, 7]\n",
        "print(count_negatives(nnums))"
      ],
      "metadata": {
        "id": "IPYDrC8qA8w2",
        "colab": {
          "base_uri": "https://localhost:8080/"
        },
        "outputId": "5a676b67-6c47-4137-9d2f-80fb20895a32"
      },
      "execution_count": null,
      "outputs": [
        {
          "output_type": "stream",
          "name": "stdout",
          "text": [
            "3\n"
          ]
        }
      ]
    },
    {
      "cell_type": "code",
      "source": [
        "# The same using list comprehension\n",
        "def count_negatives(nums):\n",
        "    \"\"\"Return the number of negative numbers in the list nums.\"\"\"\n",
        "    return len([num for num in nums if num < 0])\n",
        "print(count_negatives(nnums))"
      ],
      "metadata": {
        "id": "b5RfxizwA80B",
        "colab": {
          "base_uri": "https://localhost:8080/"
        },
        "outputId": "4dc74b0c-2793-40fa-d217-1f8ad14eb629"
      },
      "execution_count": null,
      "outputs": [
        {
          "output_type": "stream",
          "name": "stdout",
          "text": [
            "3\n"
          ]
        }
      ]
    },
    {
      "cell_type": "markdown",
      "source": [
        "# Exercies"
      ],
      "metadata": {
        "id": "7ZzNsm43Ah6i"
      }
    },
    {
      "cell_type": "code",
      "source": [
        "def has_lucky_number(nums):\n",
        "  for num in nums:\n",
        "    if num % 7 == 0:\n",
        "      return True\n",
        "  return False\n",
        "\n",
        "\n",
        "print(has_lucky_number([ 1, 2, 3, 4, 5, 6, 8, 9, 13, 14]))"
      ],
      "metadata": {
        "colab": {
          "base_uri": "https://localhost:8080/"
        },
        "id": "S2bmLtj-WuXn",
        "outputId": "2135d09e-5e39-4825-84c0-bc1a5f301447"
      },
      "execution_count": null,
      "outputs": [
        {
          "output_type": "stream",
          "name": "stdout",
          "text": [
            "True\n"
          ]
        }
      ]
    },
    {
      "cell_type": "code",
      "source": [
        "def elementwise_greater_than(L, thresh):\n",
        "  res = []\n",
        "  for num in L:\n",
        "    if num > thresh:\n",
        "      res.append(True)\n",
        "    else:\n",
        "      res.append(False)\n",
        "  return res\n",
        "\n",
        "print(elementwise_greater_than([1, 2, 3, 4], 2))"
      ],
      "metadata": {
        "colab": {
          "base_uri": "https://localhost:8080/"
        },
        "id": "TjoQLNzrWuaQ",
        "outputId": "9bd68b3b-f56e-4575-9a62-cbe705068ceb"
      },
      "execution_count": null,
      "outputs": [
        {
          "output_type": "stream",
          "name": "stdout",
          "text": [
            "[False, False, True, True]\n"
          ]
        }
      ]
    },
    {
      "cell_type": "code",
      "source": [
        "def menu_is_boring(meals):\n",
        "  for i in range(1:len(meals)):\n",
        "    if meals[i] == meals[i-1]:\n",
        "      return True\n",
        "  return False\n",
        "\n",
        "\n",
        "\n",
        "print(menu_is_boring(['eggs', 'spam', 'bacon', 'spinach', 'bread']))"
      ],
      "metadata": {
        "id": "tmWAX-yiWucx"
      },
      "execution_count": null,
      "outputs": []
    },
    {
      "cell_type": "code",
      "source": [
        "a = [1, 2, 3, 4]\n",
        "b = a.pop(0)\n",
        "print(b)\n",
        "print(a)"
      ],
      "metadata": {
        "colab": {
          "base_uri": "https://localhost:8080/"
        },
        "id": "32cLdq-EWufX",
        "outputId": "ff32aa03-8b9b-4ef2-baa8-df593be3c19c"
      },
      "execution_count": null,
      "outputs": [
        {
          "output_type": "stream",
          "name": "stdout",
          "text": [
            "1\n",
            "[2, 3, 4]\n"
          ]
        }
      ]
    },
    {
      "cell_type": "code",
      "source": [
        "meals = ['eggs', 'spam', 'bacon', 'spinach', 'bread']\n",
        "\n",
        "for i in range(len(meals)):\n",
        "  for j in range(len(meals)):\n",
        "    if (meals[i] == meals[j]) and (i != j):\n",
        "      return True\n",
        "\n"
      ],
      "metadata": {
        "colab": {
          "base_uri": "https://localhost:8080/"
        },
        "id": "x8TwqtS4Wuh-",
        "outputId": "5b102e8b-0ef6-4f45-aa8d-511338ad5099"
      },
      "execution_count": null,
      "outputs": [
        {
          "output_type": "stream",
          "name": "stdout",
          "text": [
            "spam eggs\n",
            "bacon spam\n",
            "spinach bacon\n",
            "bread spinach\n"
          ]
        }
      ]
    },
    {
      "cell_type": "code",
      "source": [
        "meals = ['eggs', 'spam', 'bacon', 'spinach', 'bread']\n",
        "print(len(meals))\n",
        "for i in range(len(meals)):\n",
        "  print(i, meals[i])"
      ],
      "metadata": {
        "colab": {
          "base_uri": "https://localhost:8080/"
        },
        "id": "o9SZFxAjWukY",
        "outputId": "a38244d6-172d-4fce-9fd5-adc61e0e18ee"
      },
      "execution_count": null,
      "outputs": [
        {
          "output_type": "stream",
          "name": "stdout",
          "text": [
            "5\n",
            "0 eggs\n",
            "1 spam\n",
            "2 bacon\n",
            "3 spinach\n",
            "4 bread\n"
          ]
        }
      ]
    },
    {
      "cell_type": "code",
      "source": [
        "\n",
        "def menu_is_boring(meals):\n",
        "\n",
        "  num = len(meals)\n",
        "  meals_c = meals.copy()\n",
        "\n",
        "  for i in range(1,num):\n",
        "    if meals[i] == meals[i-1] :\n",
        "      return True\n",
        "  return False\n",
        "\n",
        "\n",
        "\n",
        "meals = ['Spam', 'Eggs', 'Spam', 'Spam', 'Bacon', 'Spam']\n",
        "menu_is_boring(meals)\n"
      ],
      "metadata": {
        "colab": {
          "base_uri": "https://localhost:8080/"
        },
        "id": "ZCK9LV5eWunE",
        "outputId": "a0c117b2-53fe-4df3-a2d3-3b07b5c11e39"
      },
      "execution_count": null,
      "outputs": [
        {
          "output_type": "execute_result",
          "data": {
            "text/plain": [
              "True"
            ]
          },
          "metadata": {},
          "execution_count": 107
        }
      ]
    },
    {
      "cell_type": "code",
      "source": [],
      "metadata": {
        "id": "_jVT8gAJMTSE"
      },
      "execution_count": null,
      "outputs": []
    },
    {
      "cell_type": "code",
      "source": [
        "meal = ['eggs', 'spam', 'bacon', 'spinach', 'bread']\n",
        "meal.pop(0)\n",
        "print(meal)"
      ],
      "metadata": {
        "colab": {
          "base_uri": "https://localhost:8080/"
        },
        "id": "47yDqduZWuqK",
        "outputId": "60ef7723-d7c0-4255-cc64-f1ca1eac9d2c"
      },
      "execution_count": null,
      "outputs": [
        {
          "output_type": "stream",
          "name": "stdout",
          "text": [
            "['spam', 'bacon', 'spinach', 'bread']\n"
          ]
        }
      ]
    },
    {
      "cell_type": "code",
      "source": [
        "n_runs = 10\n",
        "for i in range(n_runs):\n",
        "  print(i)"
      ],
      "metadata": {
        "id": "cpT_BW6hAh9O",
        "colab": {
          "base_uri": "https://localhost:8080/"
        },
        "outputId": "ce70f6d9-4e97-46fa-86a8-788023dc013c"
      },
      "execution_count": null,
      "outputs": [
        {
          "output_type": "stream",
          "name": "stdout",
          "text": [
            "0\n",
            "1\n",
            "2\n",
            "3\n",
            "4\n",
            "5\n",
            "6\n",
            "7\n",
            "8\n",
            "9\n"
          ]
        }
      ]
    },
    {
      "cell_type": "markdown",
      "source": [
        "# Strings and Dictionaries"
      ],
      "metadata": {
        "id": "ZxWZ9obUAh_w"
      }
    },
    {
      "cell_type": "code",
      "source": [],
      "metadata": {
        "id": "iX-KCoTbBQbI"
      },
      "execution_count": null,
      "outputs": []
    },
    {
      "cell_type": "code",
      "source": [],
      "metadata": {
        "id": "U-5no5GkBQdu"
      },
      "execution_count": null,
      "outputs": []
    },
    {
      "cell_type": "code",
      "source": [
        "from numpy import random\n",
        "\n",
        "random.seed(1234)\n",
        "2* random.random((2,2)) -1"
      ],
      "metadata": {
        "id": "FQZpP7LBBQgD",
        "colab": {
          "base_uri": "https://localhost:8080/"
        },
        "outputId": "0ac44918-7523-4383-850b-c586f041ca1e"
      },
      "execution_count": null,
      "outputs": [
        {
          "output_type": "execute_result",
          "data": {
            "text/plain": [
              "array([[-0.6169611 ,  0.24421754],\n",
              "       [-0.12454452,  0.57071717]])"
            ]
          },
          "metadata": {},
          "execution_count": 8
        }
      ]
    },
    {
      "cell_type": "markdown",
      "source": [
        "# Exercises Functions"
      ],
      "metadata": {
        "id": "TzGsizstBQix"
      }
    },
    {
      "cell_type": "code",
      "source": [
        "def round_to_two_places(num):\n",
        "  \"\"\"Round the given number to two decimal places.\"\"\"\n",
        "  num = num * 100\n",
        "  num = round(num)\n",
        "  num = num / 100\n",
        "  return round(num, 2)\n",
        "\n",
        "print(round_to_two_places(3.1415926))"
      ],
      "metadata": {
        "id": "u-HCGZk1BQlU",
        "colab": {
          "base_uri": "https://localhost:8080/"
        },
        "outputId": "69ce34ff-e9e4-43e6-db8b-07245d4c42ea"
      },
      "execution_count": null,
      "outputs": [
        {
          "output_type": "stream",
          "name": "stdout",
          "text": [
            "3.14\n"
          ]
        }
      ]
    },
    {
      "cell_type": "code",
      "source": [
        "round(759.5444,-3)"
      ],
      "metadata": {
        "id": "6fCHWKTRBQn4",
        "colab": {
          "base_uri": "https://localhost:8080/"
        },
        "outputId": "cc5c5585-5565-4299-d6a9-44940600bcdc"
      },
      "execution_count": null,
      "outputs": [
        {
          "output_type": "execute_result",
          "data": {
            "text/plain": [
              "1000.0"
            ]
          },
          "metadata": {},
          "execution_count": 20
        }
      ]
    },
    {
      "cell_type": "markdown",
      "source": [
        "# Strings and Dictionaries"
      ],
      "metadata": {
        "id": "FHsUu9qMBQqj"
      }
    },
    {
      "cell_type": "code",
      "source": [
        "x = 'Pluto is a planet'\n",
        "y = 'Pluto is a planet'\n",
        "x == y\n"
      ],
      "metadata": {
        "id": "yKU2K4roBQtF",
        "colab": {
          "base_uri": "https://localhost:8080/"
        },
        "outputId": "db7b3a05-9748-4ff1-e37f-278a62942f8e"
      },
      "execution_count": null,
      "outputs": [
        {
          "output_type": "execute_result",
          "data": {
            "text/plain": [
              "True"
            ]
          },
          "metadata": {},
          "execution_count": 21
        }
      ]
    },
    {
      "cell_type": "code",
      "source": [
        "\"Pluto\\'s a planet\""
      ],
      "metadata": {
        "id": "vY_QS7h-BQvr",
        "colab": {
          "base_uri": "https://localhost:8080/",
          "height": 35
        },
        "outputId": "1f74e89a-2388-41df-db28-15932887c948"
      },
      "execution_count": null,
      "outputs": [
        {
          "output_type": "execute_result",
          "data": {
            "text/plain": [
              "\"Pluto's a planet\""
            ],
            "application/vnd.google.colaboratory.intrinsic+json": {
              "type": "string"
            }
          },
          "metadata": {},
          "execution_count": 23
        }
      ]
    },
    {
      "cell_type": "code",
      "source": [
        "hello = 'Hello\\nworld'\n",
        "print(hello)"
      ],
      "metadata": {
        "id": "zyySQ2OGBQyt",
        "colab": {
          "base_uri": "https://localhost:8080/"
        },
        "outputId": "9f627282-ca71-470a-8cc5-156186764c21"
      },
      "execution_count": null,
      "outputs": [
        {
          "output_type": "stream",
          "name": "stdout",
          "text": [
            "Hello\n",
            "world\n"
          ]
        }
      ]
    },
    {
      "cell_type": "code",
      "source": [
        "triplequated_hello = \"\"\"Hello\n",
        "world\"\"\"\n",
        "print(triplequated_hello)\n",
        "triplequated_hello == hello"
      ],
      "metadata": {
        "id": "-NGQ5AQ_AiCY",
        "colab": {
          "base_uri": "https://localhost:8080/"
        },
        "outputId": "0cffa7a6-6671-4a4e-d11c-657e47469249"
      },
      "execution_count": null,
      "outputs": [
        {
          "output_type": "stream",
          "name": "stdout",
          "text": [
            "Hello\n",
            "world\n"
          ]
        },
        {
          "output_type": "execute_result",
          "data": {
            "text/plain": [
              "True"
            ]
          },
          "metadata": {},
          "execution_count": 9
        }
      ]
    },
    {
      "cell_type": "code",
      "source": [
        "# Indexing\n",
        "planet = 'Pluto'\n",
        "planet[0]"
      ],
      "metadata": {
        "id": "gd-4NCPpAiE9",
        "colab": {
          "base_uri": "https://localhost:8080/",
          "height": 35
        },
        "outputId": "19973b35-ac74-4bf1-8ac9-0d3c041d4177"
      },
      "execution_count": null,
      "outputs": [
        {
          "output_type": "execute_result",
          "data": {
            "text/plain": [
              "'P'"
            ],
            "application/vnd.google.colaboratory.intrinsic+json": {
              "type": "string"
            }
          },
          "metadata": {},
          "execution_count": 10
        }
      ]
    },
    {
      "cell_type": "code",
      "source": [
        "# Slicing\n",
        "planet[-3:]"
      ],
      "metadata": {
        "id": "jOjaCqG9AiIL",
        "colab": {
          "base_uri": "https://localhost:8080/",
          "height": 35
        },
        "outputId": "8da933f3-1d7b-4c9a-e066-be2ef5129cbc"
      },
      "execution_count": null,
      "outputs": [
        {
          "output_type": "execute_result",
          "data": {
            "text/plain": [
              "'uto'"
            ],
            "application/vnd.google.colaboratory.intrinsic+json": {
              "type": "string"
            }
          },
          "metadata": {},
          "execution_count": 11
        }
      ]
    },
    {
      "cell_type": "code",
      "source": [
        "len(planet)\n"
      ],
      "metadata": {
        "colab": {
          "base_uri": "https://localhost:8080/"
        },
        "id": "DzpZPDF9cyWp",
        "outputId": "2052ff7f-27a1-4e95-8059-2084a86367f5"
      },
      "execution_count": null,
      "outputs": [
        {
          "output_type": "execute_result",
          "data": {
            "text/plain": [
              "5"
            ]
          },
          "metadata": {},
          "execution_count": 12
        }
      ]
    },
    {
      "cell_type": "code",
      "source": [
        "# Loooing over characters\n",
        "[char+'!' for char in planet]"
      ],
      "metadata": {
        "colab": {
          "base_uri": "https://localhost:8080/"
        },
        "id": "vqA7egLhcyZO",
        "outputId": "189a3481-15cb-4e5c-fb79-350dcdea5976"
      },
      "execution_count": null,
      "outputs": [
        {
          "output_type": "execute_result",
          "data": {
            "text/plain": [
              "['P!', 'l!', 'u!', 't!', 'o!']"
            ]
          },
          "metadata": {},
          "execution_count": 13
        }
      ]
    },
    {
      "cell_type": "code",
      "source": [
        "# Stringa are immutable - we cannot change them\n",
        "planet[0] = 'B'"
      ],
      "metadata": {
        "colab": {
          "base_uri": "https://localhost:8080/",
          "height": 159
        },
        "id": "H7o1UmIHcybj",
        "outputId": "953d41ce-ffaa-4830-8db8-6a3a517093ad"
      },
      "execution_count": null,
      "outputs": [
        {
          "output_type": "error",
          "ename": "TypeError",
          "evalue": "'str' object does not support item assignment",
          "traceback": [
            "\u001b[0;31m---------------------------------------------------------------------------\u001b[0m",
            "\u001b[0;31mTypeError\u001b[0m                                 Traceback (most recent call last)",
            "\u001b[0;32m<ipython-input-14-cc1baa923dcf>\u001b[0m in \u001b[0;36m<cell line: 2>\u001b[0;34m()\u001b[0m\n\u001b[1;32m      1\u001b[0m \u001b[0;31m# Stringa are immutable - we cannot change them\u001b[0m\u001b[0;34m\u001b[0m\u001b[0;34m\u001b[0m\u001b[0m\n\u001b[0;32m----> 2\u001b[0;31m \u001b[0mplanet\u001b[0m\u001b[0;34m[\u001b[0m\u001b[0;36m0\u001b[0m\u001b[0;34m]\u001b[0m \u001b[0;34m=\u001b[0m \u001b[0;34m'B'\u001b[0m\u001b[0;34m\u001b[0m\u001b[0;34m\u001b[0m\u001b[0m\n\u001b[0m",
            "\u001b[0;31mTypeError\u001b[0m: 'str' object does not support item assignment"
          ]
        }
      ]
    },
    {
      "cell_type": "markdown",
      "source": [
        "# String methods"
      ],
      "metadata": {
        "id": "FR35DM0tdSO7"
      }
    },
    {
      "cell_type": "code",
      "source": [
        "# ALL CAPS\n",
        "claim = 'Pluto is a planet'\n",
        "claim.upper()"
      ],
      "metadata": {
        "colab": {
          "base_uri": "https://localhost:8080/",
          "height": 35
        },
        "id": "TYYJ6KiDdSRc",
        "outputId": "69992a65-e318-419f-ce43-11021f3f5271"
      },
      "execution_count": null,
      "outputs": [
        {
          "output_type": "execute_result",
          "data": {
            "text/plain": [
              "'PLUTO IS A PLANET'"
            ],
            "application/vnd.google.colaboratory.intrinsic+json": {
              "type": "string"
            }
          },
          "metadata": {},
          "execution_count": 15
        }
      ]
    },
    {
      "cell_type": "code",
      "source": [
        "# All lowercawe\n",
        "claim.lower()"
      ],
      "metadata": {
        "colab": {
          "base_uri": "https://localhost:8080/",
          "height": 35
        },
        "id": "GyfJcMSRdrfq",
        "outputId": "0144181f-007b-4e3e-c2b5-848d5eed99b3"
      },
      "execution_count": null,
      "outputs": [
        {
          "output_type": "execute_result",
          "data": {
            "text/plain": [
              "'pluto is a planet'"
            ],
            "application/vnd.google.colaboratory.intrinsic+json": {
              "type": "string"
            }
          },
          "metadata": {},
          "execution_count": 16
        }
      ]
    },
    {
      "cell_type": "code",
      "source": [
        "# Serching for the first string of a substring\n",
        "claim.find('plane')"
      ],
      "metadata": {
        "colab": {
          "base_uri": "https://localhost:8080/"
        },
        "id": "6d9Et3z5drhM",
        "outputId": "2720548b-cc75-43e1-dc54-54b0c36939b6"
      },
      "execution_count": null,
      "outputs": [
        {
          "output_type": "execute_result",
          "data": {
            "text/plain": [
              "11"
            ]
          },
          "metadata": {},
          "execution_count": 17
        }
      ]
    },
    {
      "cell_type": "code",
      "source": [
        "claim.startswith(planet)"
      ],
      "metadata": {
        "colab": {
          "base_uri": "https://localhost:8080/"
        },
        "id": "5zJpf_3Ddrjf",
        "outputId": "7ac211c2-dd18-487b-9db8-c63c0f145182"
      },
      "execution_count": null,
      "outputs": [
        {
          "output_type": "execute_result",
          "data": {
            "text/plain": [
              "True"
            ]
          },
          "metadata": {},
          "execution_count": 18
        }
      ]
    },
    {
      "cell_type": "code",
      "source": [
        "claim.endswith('planet')\n"
      ],
      "metadata": {
        "colab": {
          "base_uri": "https://localhost:8080/"
        },
        "id": "briucwxndrmA",
        "outputId": "0cb02a59-e31f-40ba-80a5-ad71392aba47"
      },
      "execution_count": null,
      "outputs": [
        {
          "output_type": "execute_result",
          "data": {
            "text/plain": [
              "True"
            ]
          },
          "metadata": {},
          "execution_count": 19
        }
      ]
    },
    {
      "cell_type": "code",
      "source": [
        "words = claim.split()\n",
        "print(words)"
      ],
      "metadata": {
        "colab": {
          "base_uri": "https://localhost:8080/"
        },
        "id": "R8GrPej5droj",
        "outputId": "afbb9252-c269-44e1-d361-a25ab3536a87"
      },
      "execution_count": null,
      "outputs": [
        {
          "output_type": "stream",
          "name": "stdout",
          "text": [
            "['Pluto', 'is', 'a', 'planet']\n"
          ]
        }
      ]
    },
    {
      "cell_type": "code",
      "source": [
        "datastr = '123,456,789'\n",
        "datastr.split(',')\n"
      ],
      "metadata": {
        "colab": {
          "base_uri": "https://localhost:8080/"
        },
        "id": "TEgonFLQdrre",
        "outputId": "072e0d84-80ce-4f18-8803-e068c2c9617d"
      },
      "execution_count": null,
      "outputs": [
        {
          "output_type": "execute_result",
          "data": {
            "text/plain": [
              "['123', '456', '789']"
            ]
          },
          "metadata": {},
          "execution_count": 21
        }
      ]
    },
    {
      "cell_type": "code",
      "source": [
        "'/'.join(words)"
      ],
      "metadata": {
        "colab": {
          "base_uri": "https://localhost:8080/",
          "height": 35
        },
        "id": "x0Ql89FydruT",
        "outputId": "c9322afd-ca5c-4f86-bd99-c2d8aaef8a7a"
      },
      "execution_count": null,
      "outputs": [
        {
          "output_type": "execute_result",
          "data": {
            "text/plain": [
              "'Pluto/is/a/planet'"
            ],
            "application/vnd.google.colaboratory.intrinsic+json": {
              "type": "string"
            }
          },
          "metadata": {},
          "execution_count": 22
        }
      ]
    },
    {
      "cell_type": "markdown",
      "source": [
        "# Building strings with .format"
      ],
      "metadata": {
        "id": "nasGJrsudrxG"
      }
    },
    {
      "cell_type": "code",
      "source": [
        "planet + ', we miss you'"
      ],
      "metadata": {
        "colab": {
          "base_uri": "https://localhost:8080/",
          "height": 35
        },
        "id": "dSYeUcxkdSUA",
        "outputId": "f96f7fd5-7ad4-4c7c-9e85-20e57df3a6ce"
      },
      "execution_count": null,
      "outputs": [
        {
          "output_type": "execute_result",
          "data": {
            "text/plain": [
              "'Pluto, we miss you'"
            ],
            "application/vnd.google.colaboratory.intrinsic+json": {
              "type": "string"
            }
          },
          "metadata": {},
          "execution_count": 23
        }
      ]
    },
    {
      "cell_type": "code",
      "source": [
        "position = 0\n",
        "planet + \", you'll alawys be the \"+ str(position) + \"t planet to me\""
      ],
      "metadata": {
        "colab": {
          "base_uri": "https://localhost:8080/",
          "height": 35
        },
        "id": "fAdYmmLDdSWy",
        "outputId": "a4c09d16-6401-4dcb-af86-996785ea7441"
      },
      "execution_count": null,
      "outputs": [
        {
          "output_type": "execute_result",
          "data": {
            "text/plain": [
              "\"Pluto, you'll alawys be the 0t planet to me\""
            ],
            "application/vnd.google.colaboratory.intrinsic+json": {
              "type": "string"
            }
          },
          "metadata": {},
          "execution_count": 25
        }
      ]
    },
    {
      "cell_type": "code",
      "source": [
        "# Or\n",
        "\"{}, you'll alawys be the {}t planet to me\".format(planet, position)"
      ],
      "metadata": {
        "colab": {
          "base_uri": "https://localhost:8080/",
          "height": 35
        },
        "id": "7FHjF4BFdSZl",
        "outputId": "acc28334-c637-4c22-c785-7ad4587f4234"
      },
      "execution_count": null,
      "outputs": [
        {
          "output_type": "execute_result",
          "data": {
            "text/plain": [
              "\"Pluto, you'll alawys be the 0t planet to me\""
            ],
            "application/vnd.google.colaboratory.intrinsic+json": {
              "type": "string"
            }
          },
          "metadata": {},
          "execution_count": 26
        }
      ]
    },
    {
      "cell_type": "code",
      "source": [
        "\"England : Serbia = {} : {}\".format(3, 1)"
      ],
      "metadata": {
        "colab": {
          "base_uri": "https://localhost:8080/",
          "height": 35
        },
        "id": "mOe5DPDZdSca",
        "outputId": "e752610d-dc61-4fd4-d689-468da7bea0f8"
      },
      "execution_count": null,
      "outputs": [
        {
          "output_type": "execute_result",
          "data": {
            "text/plain": [
              "'England : Serbia = 3 : 1'"
            ],
            "application/vnd.google.colaboratory.intrinsic+json": {
              "type": "string"
            }
          },
          "metadata": {},
          "execution_count": 27
        }
      ]
    },
    {
      "cell_type": "code",
      "source": [],
      "metadata": {
        "id": "EssOB0IDdSfL"
      },
      "execution_count": null,
      "outputs": []
    },
    {
      "cell_type": "code",
      "source": [],
      "metadata": {
        "id": "BfjdMljidSh6"
      },
      "execution_count": null,
      "outputs": []
    },
    {
      "cell_type": "code",
      "source": [],
      "metadata": {
        "id": "RTVpbqsUcyd_"
      },
      "execution_count": null,
      "outputs": []
    },
    {
      "cell_type": "code",
      "source": [],
      "metadata": {
        "id": "-7v_J0z7cygk"
      },
      "execution_count": null,
      "outputs": []
    },
    {
      "cell_type": "code",
      "source": [],
      "metadata": {
        "id": "x6ICcz5PcyjD"
      },
      "execution_count": null,
      "outputs": []
    },
    {
      "cell_type": "code",
      "source": [],
      "metadata": {
        "id": "JFtQkkXTcymB"
      },
      "execution_count": null,
      "outputs": []
    }
  ],
  "metadata": {
    "colab": {
      "provenance": [],
      "toc_visible": true,
      "authorship_tag": "ABX9TyNNMlSys4UZMK+mQwMsmPhA",
      "include_colab_link": true
    },
    "kernelspec": {
      "display_name": "Python 3",
      "name": "python3"
    },
    "language_info": {
      "name": "python"
    }
  },
  "nbformat": 4,
  "nbformat_minor": 0
}