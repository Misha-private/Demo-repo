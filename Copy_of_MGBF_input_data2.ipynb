{
  "nbformat": 4,
  "nbformat_minor": 0,
  "metadata": {
    "colab": {
      "provenance": [],
      "authorship_tag": "ABX9TyN+HuIibm3lYZylt5DfAiBj",
      "include_colab_link": true
    },
    "kernelspec": {
      "name": "python3",
      "display_name": "Python 3"
    },
    "language_info": {
      "name": "python"
    }
  },
  "cells": [
    {
      "cell_type": "markdown",
      "metadata": {
        "id": "view-in-github",
        "colab_type": "text"
      },
      "source": [
        "<a href=\"https://colab.research.google.com/github/Misha-private/Demo-repo/blob/main/Copy_of_MGBF_input_data2.ipynb\" target=\"_parent\"><img src=\"https://colab.research.google.com/assets/colab-badge.svg\" alt=\"Open In Colab\"/></a>"
      ]
    },
    {
      "cell_type": "code",
      "execution_count": null,
      "metadata": {
        "colab": {
          "base_uri": "https://localhost:8080/",
          "height": 223
        },
        "id": "Cdz8ztUQPprx",
        "outputId": "88d7e63a-5d54-4d1e-9b30-8bd45b2938f1"
      },
      "outputs": [
        {
          "output_type": "stream",
          "name": "stdout",
          "text": [
            "Mounted at /content/drive\n"
          ]
        },
        {
          "output_type": "execute_result",
          "data": {
            "text/plain": [
              "       Tmax      Tmin      umax      umin      vmax      vmin      qmax  \\\n",
              "0  0.860626 -0.584259  5.698839 -3.247985  2.960909 -3.492116  0.000477   \n",
              "1  0.923737 -0.696594  3.315393 -1.868390  2.536789 -2.216322  0.000563   \n",
              "2  0.715912 -0.416290  4.907865 -2.375417  3.071500 -2.785084  0.000445   \n",
              "3  0.850525 -0.851349  5.925714 -3.385446  3.062413 -3.690240  0.000418   \n",
              "4  0.873657 -0.861298  2.749681 -1.840218  2.330765 -2.251137  0.000467   \n",
              "\n",
              "       qmin  \n",
              "0 -0.000224  \n",
              "1 -0.000253  \n",
              "2 -0.000167  \n",
              "3 -0.000240  \n",
              "4 -0.000268  "
            ],
            "text/html": [
              "\n",
              "  <div id=\"df-d8a8b9b9-0856-43b9-b3ea-b99d1caff4fa\" class=\"colab-df-container\">\n",
              "    <div>\n",
              "<style scoped>\n",
              "    .dataframe tbody tr th:only-of-type {\n",
              "        vertical-align: middle;\n",
              "    }\n",
              "\n",
              "    .dataframe tbody tr th {\n",
              "        vertical-align: top;\n",
              "    }\n",
              "\n",
              "    .dataframe thead th {\n",
              "        text-align: right;\n",
              "    }\n",
              "</style>\n",
              "<table border=\"1\" class=\"dataframe\">\n",
              "  <thead>\n",
              "    <tr style=\"text-align: right;\">\n",
              "      <th></th>\n",
              "      <th>Tmax</th>\n",
              "      <th>Tmin</th>\n",
              "      <th>umax</th>\n",
              "      <th>umin</th>\n",
              "      <th>vmax</th>\n",
              "      <th>vmin</th>\n",
              "      <th>qmax</th>\n",
              "      <th>qmin</th>\n",
              "    </tr>\n",
              "  </thead>\n",
              "  <tbody>\n",
              "    <tr>\n",
              "      <th>0</th>\n",
              "      <td>0.860626</td>\n",
              "      <td>-0.584259</td>\n",
              "      <td>5.698839</td>\n",
              "      <td>-3.247985</td>\n",
              "      <td>2.960909</td>\n",
              "      <td>-3.492116</td>\n",
              "      <td>0.000477</td>\n",
              "      <td>-0.000224</td>\n",
              "    </tr>\n",
              "    <tr>\n",
              "      <th>1</th>\n",
              "      <td>0.923737</td>\n",
              "      <td>-0.696594</td>\n",
              "      <td>3.315393</td>\n",
              "      <td>-1.868390</td>\n",
              "      <td>2.536789</td>\n",
              "      <td>-2.216322</td>\n",
              "      <td>0.000563</td>\n",
              "      <td>-0.000253</td>\n",
              "    </tr>\n",
              "    <tr>\n",
              "      <th>2</th>\n",
              "      <td>0.715912</td>\n",
              "      <td>-0.416290</td>\n",
              "      <td>4.907865</td>\n",
              "      <td>-2.375417</td>\n",
              "      <td>3.071500</td>\n",
              "      <td>-2.785084</td>\n",
              "      <td>0.000445</td>\n",
              "      <td>-0.000167</td>\n",
              "    </tr>\n",
              "    <tr>\n",
              "      <th>3</th>\n",
              "      <td>0.850525</td>\n",
              "      <td>-0.851349</td>\n",
              "      <td>5.925714</td>\n",
              "      <td>-3.385446</td>\n",
              "      <td>3.062413</td>\n",
              "      <td>-3.690240</td>\n",
              "      <td>0.000418</td>\n",
              "      <td>-0.000240</td>\n",
              "    </tr>\n",
              "    <tr>\n",
              "      <th>4</th>\n",
              "      <td>0.873657</td>\n",
              "      <td>-0.861298</td>\n",
              "      <td>2.749681</td>\n",
              "      <td>-1.840218</td>\n",
              "      <td>2.330765</td>\n",
              "      <td>-2.251137</td>\n",
              "      <td>0.000467</td>\n",
              "      <td>-0.000268</td>\n",
              "    </tr>\n",
              "  </tbody>\n",
              "</table>\n",
              "</div>\n",
              "    <div class=\"colab-df-buttons\">\n",
              "\n",
              "  <div class=\"colab-df-container\">\n",
              "    <button class=\"colab-df-convert\" onclick=\"convertToInteractive('df-d8a8b9b9-0856-43b9-b3ea-b99d1caff4fa')\"\n",
              "            title=\"Convert this dataframe to an interactive table.\"\n",
              "            style=\"display:none;\">\n",
              "\n",
              "  <svg xmlns=\"http://www.w3.org/2000/svg\" height=\"24px\" viewBox=\"0 -960 960 960\">\n",
              "    <path d=\"M120-120v-720h720v720H120Zm60-500h600v-160H180v160Zm220 220h160v-160H400v160Zm0 220h160v-160H400v160ZM180-400h160v-160H180v160Zm440 0h160v-160H620v160ZM180-180h160v-160H180v160Zm440 0h160v-160H620v160Z\"/>\n",
              "  </svg>\n",
              "    </button>\n",
              "\n",
              "  <style>\n",
              "    .colab-df-container {\n",
              "      display:flex;\n",
              "      gap: 12px;\n",
              "    }\n",
              "\n",
              "    .colab-df-convert {\n",
              "      background-color: #E8F0FE;\n",
              "      border: none;\n",
              "      border-radius: 50%;\n",
              "      cursor: pointer;\n",
              "      display: none;\n",
              "      fill: #1967D2;\n",
              "      height: 32px;\n",
              "      padding: 0 0 0 0;\n",
              "      width: 32px;\n",
              "    }\n",
              "\n",
              "    .colab-df-convert:hover {\n",
              "      background-color: #E2EBFA;\n",
              "      box-shadow: 0px 1px 2px rgba(60, 64, 67, 0.3), 0px 1px 3px 1px rgba(60, 64, 67, 0.15);\n",
              "      fill: #174EA6;\n",
              "    }\n",
              "\n",
              "    .colab-df-buttons div {\n",
              "      margin-bottom: 4px;\n",
              "    }\n",
              "\n",
              "    [theme=dark] .colab-df-convert {\n",
              "      background-color: #3B4455;\n",
              "      fill: #D2E3FC;\n",
              "    }\n",
              "\n",
              "    [theme=dark] .colab-df-convert:hover {\n",
              "      background-color: #434B5C;\n",
              "      box-shadow: 0px 1px 3px 1px rgba(0, 0, 0, 0.15);\n",
              "      filter: drop-shadow(0px 1px 2px rgba(0, 0, 0, 0.3));\n",
              "      fill: #FFFFFF;\n",
              "    }\n",
              "  </style>\n",
              "\n",
              "    <script>\n",
              "      const buttonEl =\n",
              "        document.querySelector('#df-d8a8b9b9-0856-43b9-b3ea-b99d1caff4fa button.colab-df-convert');\n",
              "      buttonEl.style.display =\n",
              "        google.colab.kernel.accessAllowed ? 'block' : 'none';\n",
              "\n",
              "      async function convertToInteractive(key) {\n",
              "        const element = document.querySelector('#df-d8a8b9b9-0856-43b9-b3ea-b99d1caff4fa');\n",
              "        const dataTable =\n",
              "          await google.colab.kernel.invokeFunction('convertToInteractive',\n",
              "                                                    [key], {});\n",
              "        if (!dataTable) return;\n",
              "\n",
              "        const docLinkHtml = 'Like what you see? Visit the ' +\n",
              "          '<a target=\"_blank\" href=https://colab.research.google.com/notebooks/data_table.ipynb>data table notebook</a>'\n",
              "          + ' to learn more about interactive tables.';\n",
              "        element.innerHTML = '';\n",
              "        dataTable['output_type'] = 'display_data';\n",
              "        await google.colab.output.renderOutput(dataTable, element);\n",
              "        const docLink = document.createElement('div');\n",
              "        docLink.innerHTML = docLinkHtml;\n",
              "        element.appendChild(docLink);\n",
              "      }\n",
              "    </script>\n",
              "  </div>\n",
              "\n",
              "\n",
              "<div id=\"df-2b5c95c1-964c-4f6b-a8f3-930839bc0551\">\n",
              "  <button class=\"colab-df-quickchart\" onclick=\"quickchart('df-2b5c95c1-964c-4f6b-a8f3-930839bc0551')\"\n",
              "            title=\"Suggest charts\"\n",
              "            style=\"display:none;\">\n",
              "\n",
              "<svg xmlns=\"http://www.w3.org/2000/svg\" height=\"24px\"viewBox=\"0 0 24 24\"\n",
              "     width=\"24px\">\n",
              "    <g>\n",
              "        <path d=\"M19 3H5c-1.1 0-2 .9-2 2v14c0 1.1.9 2 2 2h14c1.1 0 2-.9 2-2V5c0-1.1-.9-2-2-2zM9 17H7v-7h2v7zm4 0h-2V7h2v10zm4 0h-2v-4h2v4z\"/>\n",
              "    </g>\n",
              "</svg>\n",
              "  </button>\n",
              "\n",
              "<style>\n",
              "  .colab-df-quickchart {\n",
              "      --bg-color: #E8F0FE;\n",
              "      --fill-color: #1967D2;\n",
              "      --hover-bg-color: #E2EBFA;\n",
              "      --hover-fill-color: #174EA6;\n",
              "      --disabled-fill-color: #AAA;\n",
              "      --disabled-bg-color: #DDD;\n",
              "  }\n",
              "\n",
              "  [theme=dark] .colab-df-quickchart {\n",
              "      --bg-color: #3B4455;\n",
              "      --fill-color: #D2E3FC;\n",
              "      --hover-bg-color: #434B5C;\n",
              "      --hover-fill-color: #FFFFFF;\n",
              "      --disabled-bg-color: #3B4455;\n",
              "      --disabled-fill-color: #666;\n",
              "  }\n",
              "\n",
              "  .colab-df-quickchart {\n",
              "    background-color: var(--bg-color);\n",
              "    border: none;\n",
              "    border-radius: 50%;\n",
              "    cursor: pointer;\n",
              "    display: none;\n",
              "    fill: var(--fill-color);\n",
              "    height: 32px;\n",
              "    padding: 0;\n",
              "    width: 32px;\n",
              "  }\n",
              "\n",
              "  .colab-df-quickchart:hover {\n",
              "    background-color: var(--hover-bg-color);\n",
              "    box-shadow: 0 1px 2px rgba(60, 64, 67, 0.3), 0 1px 3px 1px rgba(60, 64, 67, 0.15);\n",
              "    fill: var(--button-hover-fill-color);\n",
              "  }\n",
              "\n",
              "  .colab-df-quickchart-complete:disabled,\n",
              "  .colab-df-quickchart-complete:disabled:hover {\n",
              "    background-color: var(--disabled-bg-color);\n",
              "    fill: var(--disabled-fill-color);\n",
              "    box-shadow: none;\n",
              "  }\n",
              "\n",
              "  .colab-df-spinner {\n",
              "    border: 2px solid var(--fill-color);\n",
              "    border-color: transparent;\n",
              "    border-bottom-color: var(--fill-color);\n",
              "    animation:\n",
              "      spin 1s steps(1) infinite;\n",
              "  }\n",
              "\n",
              "  @keyframes spin {\n",
              "    0% {\n",
              "      border-color: transparent;\n",
              "      border-bottom-color: var(--fill-color);\n",
              "      border-left-color: var(--fill-color);\n",
              "    }\n",
              "    20% {\n",
              "      border-color: transparent;\n",
              "      border-left-color: var(--fill-color);\n",
              "      border-top-color: var(--fill-color);\n",
              "    }\n",
              "    30% {\n",
              "      border-color: transparent;\n",
              "      border-left-color: var(--fill-color);\n",
              "      border-top-color: var(--fill-color);\n",
              "      border-right-color: var(--fill-color);\n",
              "    }\n",
              "    40% {\n",
              "      border-color: transparent;\n",
              "      border-right-color: var(--fill-color);\n",
              "      border-top-color: var(--fill-color);\n",
              "    }\n",
              "    60% {\n",
              "      border-color: transparent;\n",
              "      border-right-color: var(--fill-color);\n",
              "    }\n",
              "    80% {\n",
              "      border-color: transparent;\n",
              "      border-right-color: var(--fill-color);\n",
              "      border-bottom-color: var(--fill-color);\n",
              "    }\n",
              "    90% {\n",
              "      border-color: transparent;\n",
              "      border-bottom-color: var(--fill-color);\n",
              "    }\n",
              "  }\n",
              "</style>\n",
              "\n",
              "  <script>\n",
              "    async function quickchart(key) {\n",
              "      const quickchartButtonEl =\n",
              "        document.querySelector('#' + key + ' button');\n",
              "      quickchartButtonEl.disabled = true;  // To prevent multiple clicks.\n",
              "      quickchartButtonEl.classList.add('colab-df-spinner');\n",
              "      try {\n",
              "        const charts = await google.colab.kernel.invokeFunction(\n",
              "            'suggestCharts', [key], {});\n",
              "      } catch (error) {\n",
              "        console.error('Error during call to suggestCharts:', error);\n",
              "      }\n",
              "      quickchartButtonEl.classList.remove('colab-df-spinner');\n",
              "      quickchartButtonEl.classList.add('colab-df-quickchart-complete');\n",
              "    }\n",
              "    (() => {\n",
              "      let quickchartButtonEl =\n",
              "        document.querySelector('#df-2b5c95c1-964c-4f6b-a8f3-930839bc0551 button');\n",
              "      quickchartButtonEl.style.display =\n",
              "        google.colab.kernel.accessAllowed ? 'block' : 'none';\n",
              "    })();\n",
              "  </script>\n",
              "</div>\n",
              "\n",
              "    </div>\n",
              "  </div>\n"
            ],
            "application/vnd.google.colaboratory.intrinsic+json": {
              "type": "dataframe",
              "variable_name": "df",
              "summary": "{\n  \"name\": \"df\",\n  \"rows\": 52,\n  \"fields\": [\n    {\n      \"column\": \"Tmax\",\n      \"properties\": {\n        \"dtype\": \"number\",\n        \"std\": 0.08687500414242957,\n        \"min\": 0.59487915,\n        \"max\": 0.9416809,\n        \"num_unique_values\": 52,\n        \"samples\": [\n          0.78463745,\n          0.7321167,\n          0.88009644\n        ],\n        \"semantic_type\": \"\",\n        \"description\": \"\"\n      }\n    },\n    {\n      \"column\": \"Tmin\",\n      \"properties\": {\n        \"dtype\": \"number\",\n        \"std\": 0.23448003024812183,\n        \"min\": -1.2322083,\n        \"max\": -0.2732849,\n        \"num_unique_values\": 52,\n        \"samples\": [\n          -0.43341064,\n          -0.50665283,\n          -0.91815186\n        ],\n        \"semantic_type\": \"\",\n        \"description\": \"\"\n      }\n    },\n    {\n      \"column\": \"umax\",\n      \"properties\": {\n        \"dtype\": \"number\",\n        \"std\": 1.262378036364969,\n        \"min\": 1.5478783,\n        \"max\": 6.441467,\n        \"num_unique_values\": 52,\n        \"samples\": [\n          6.441467,\n          6.3680096,\n          5.1976566\n        ],\n        \"semantic_type\": \"\",\n        \"description\": \"\"\n      }\n    },\n    {\n      \"column\": \"umin\",\n      \"properties\": {\n        \"dtype\": \"number\",\n        \"std\": 0.6268892531968004,\n        \"min\": -3.56453,\n        \"max\": -1.3660116,\n        \"num_unique_values\": 52,\n        \"samples\": [\n          -3.5618925,\n          -3.56453,\n          -2.878067\n        ],\n        \"semantic_type\": \"\",\n        \"description\": \"\"\n      }\n    },\n    {\n      \"column\": \"vmax\",\n      \"properties\": {\n        \"dtype\": \"number\",\n        \"std\": 0.41024351936043285,\n        \"min\": 1.6885233,\n        \"max\": 3.3877926,\n        \"num_unique_values\": 52,\n        \"samples\": [\n          3.3877926,\n          3.366269,\n          2.893077\n        ],\n        \"semantic_type\": \"\",\n        \"description\": \"\"\n      }\n    },\n    {\n      \"column\": \"vmin\",\n      \"properties\": {\n        \"dtype\": \"number\",\n        \"std\": 0.5743193240367962,\n        \"min\": -3.9123821,\n        \"max\": -1.569582,\n        \"num_unique_values\": 52,\n        \"samples\": [\n          -3.6956139,\n          -3.6400833,\n          -3.117796\n        ],\n        \"semantic_type\": \"\",\n        \"description\": \"\"\n      }\n    },\n    {\n      \"column\": \"qmax\",\n      \"properties\": {\n        \"dtype\": \"number\",\n        \"std\": 5.740349688912294e-05,\n        \"min\": 0.000311054,\n        \"max\": 0.000568651,\n        \"num_unique_values\": 52,\n        \"samples\": [\n          0.000547063,\n          0.000358971,\n          0.000458202\n        ],\n        \"semantic_type\": \"\",\n        \"description\": \"\"\n      }\n    },\n    {\n      \"column\": \"qmin\",\n      \"properties\": {\n        \"dtype\": \"number\",\n        \"std\": 4.502687352316521e-05,\n        \"min\": -0.000319462,\n        \"max\": -0.000129608,\n        \"num_unique_values\": 52,\n        \"samples\": [\n          -0.000153835,\n          -0.000184097,\n          -0.000275396\n        ],\n        \"semantic_type\": \"\",\n        \"description\": \"\"\n      }\n    }\n  ]\n}"
            }
          },
          "metadata": {},
          "execution_count": 1
        }
      ],
      "source": [
        "# Import MGBF dataset and try to get data from it\n",
        "from google.colab import drive\n",
        "import pandas as pd\n",
        "import numpy as np\n",
        "import matplotlib.pyplot as plt\n",
        "\n",
        "drive.mount('/content/drive')\n",
        "df = pd.read_csv('/content/drive/MyDrive/Datasets/MGBF_features.csv')\n",
        "df.head()"
      ]
    },
    {
      "cell_type": "code",
      "source": [
        "t_min = df['Tmin'].to_numpy()\n",
        "t_min"
      ],
      "metadata": {
        "colab": {
          "base_uri": "https://localhost:8080/"
        },
        "id": "Cf4YRh6_RQgQ",
        "outputId": "7405fa56-7d19-4fde-cf9b-0e4f0d9f4a89"
      },
      "execution_count": null,
      "outputs": [
        {
          "output_type": "execute_result",
          "data": {
            "text/plain": [
              "array([-0.58425903, -0.69659424, -0.41629028, -0.8513489 , -0.8612976 ,\n",
              "       -0.79833984, -1.0110474 , -0.77175903, -1.2322083 , -0.73999023,\n",
              "       -0.47357178, -0.80197144, -0.7706299 , -0.4547119 , -0.8447876 ,\n",
              "       -0.78118896, -0.65756226, -0.6734314 , -0.71765137, -0.43341064,\n",
              "       -0.6322937 , -0.857666  , -0.89260864, -1.2016602 , -0.6005249 ,\n",
              "       -0.5922241 , -0.89419556, -0.87231445, -0.7501831 , -0.3781128 ,\n",
              "       -1.1863098 , -1.027771  , -1.1754456 , -0.6882019 , -0.7702942 ,\n",
              "       -0.6916504 , -0.70443726, -0.2732849 , -0.56033325, -1.1870117 ,\n",
              "       -0.35757446, -0.50665283, -0.8138428 , -0.7921448 , -0.8062439 ,\n",
              "       -0.617218  , -0.41482544, -0.91815186, -0.44213867, -0.6369629 ,\n",
              "       -0.32913208, -0.8676758 ])"
            ]
          },
          "metadata": {},
          "execution_count": 9
        }
      ]
    },
    {
      "cell_type": "code",
      "source": [
        "t_max = df['Tmax'].to_numpy()\n",
        "t_max"
      ],
      "metadata": {
        "colab": {
          "base_uri": "https://localhost:8080/"
        },
        "id": "RryN5drvRQkx",
        "outputId": "5e8ba263-19ac-4f92-f29a-773830eeb3bf"
      },
      "execution_count": null,
      "outputs": [
        {
          "output_type": "execute_result",
          "data": {
            "text/plain": [
              "array([0.8606262 , 0.9237366 , 0.71591187, 0.8505249 , 0.8736572 ,\n",
              "       0.86395264, 0.8956909 , 0.8916321 , 0.933197  , 0.8616028 ,\n",
              "       0.7277527 , 0.9227905 , 0.884552  , 0.6768799 , 0.8988037 ,\n",
              "       0.8506775 , 0.90200806, 0.91989136, 0.8456421 , 0.78463745,\n",
              "       0.88494873, 0.9373169 , 0.8824158 , 0.8639221 , 0.8583069 ,\n",
              "       0.8180847 , 0.93136597, 0.89611816, 0.8690491 , 0.6867981 ,\n",
              "       0.94091797, 0.9416809 , 0.92892456, 0.9139709 , 0.90966797,\n",
              "       0.8373108 , 0.82839966, 0.59487915, 0.82055664, 0.83688354,\n",
              "       0.6459656 , 0.7321167 , 0.87664795, 0.87091064, 0.8551636 ,\n",
              "       0.8845215 , 0.68927   , 0.88009644, 0.756958  , 0.87228394,\n",
              "       0.6375122 , 0.90463257])"
            ]
          },
          "metadata": {},
          "execution_count": 12
        }
      ]
    },
    {
      "cell_type": "code",
      "source": [
        "u_max = df['umax'].to_numpy()\n",
        "u_max"
      ],
      "metadata": {
        "colab": {
          "base_uri": "https://localhost:8080/"
        },
        "id": "FnpL6UM2QURu",
        "outputId": "06b227db-cf8c-40eb-fc3a-8176bda761df"
      },
      "execution_count": null,
      "outputs": [
        {
          "output_type": "execute_result",
          "data": {
            "text/plain": [
              "array([5.698839 , 3.3153934, 4.9078646, 5.925714 , 2.7496805, 5.828377 ,\n",
              "       5.675585 , 6.232878 , 2.192258 , 5.321192 , 6.204939 , 3.951807 ,\n",
              "       5.0588665, 5.8716564, 5.502674 , 1.5478783, 5.833477 , 3.9141178,\n",
              "       4.14058  , 6.441467 , 5.0422907, 3.7176418, 5.2838554, 3.2995396,\n",
              "       5.303894 , 3.7520733, 3.536891 , 5.8233166, 5.979781 , 5.4033613,\n",
              "       4.062804 , 4.5485344, 2.003849 , 5.4183025, 5.0237665, 3.9303017,\n",
              "       5.6237717, 5.427249 , 5.3237343, 1.8125477, 4.8658524, 6.3680096,\n",
              "       5.315467 , 5.851023 , 3.2242336, 6.2807617, 5.6334467, 5.1976566,\n",
              "       5.9141207, 5.076928 , 5.6238337, 5.9230046])"
            ]
          },
          "metadata": {},
          "execution_count": 6
        }
      ]
    },
    {
      "cell_type": "code",
      "source": [
        "v_max = df['vmax'].to_numpy()\n",
        "v_max"
      ],
      "metadata": {
        "colab": {
          "base_uri": "https://localhost:8080/"
        },
        "id": "m9qTxLbURQoT",
        "outputId": "85172298-68e2-46b6-98b7-f9dec43b099e"
      },
      "execution_count": null,
      "outputs": [
        {
          "output_type": "execute_result",
          "data": {
            "text/plain": [
              "array([2.960909 , 2.5367894, 3.0714998, 3.0624132, 2.3307648, 3.2634287,\n",
              "       2.996233 , 3.1666145, 2.0240297, 3.160656 , 3.3637676, 2.4132376,\n",
              "       2.8079586, 3.2086906, 3.1644745, 1.6885233, 3.004634 , 2.656446 ,\n",
              "       2.7017422, 3.3877926, 2.8472395, 2.330697 , 3.064393 , 2.25247  ,\n",
              "       3.0601292, 2.815846 , 2.3729935, 3.2007713, 3.2571163, 3.2114973,\n",
              "       2.5995245, 2.9208164, 1.9277687, 2.9750128, 2.776228 , 2.798533 ,\n",
              "       2.949748 , 3.0250053, 2.9594917, 1.8302097, 2.8689728, 3.366269 ,\n",
              "       3.1014614, 3.2666283, 2.2637396, 3.2722769, 3.0611963, 2.893077 ,\n",
              "       3.0183306, 2.912818 , 3.1552534, 3.038453 ])"
            ]
          },
          "metadata": {},
          "execution_count": 13
        }
      ]
    },
    {
      "cell_type": "code",
      "source": [
        "v_min = df['vmin'].to_numpy()\n",
        "v_min"
      ],
      "metadata": {
        "colab": {
          "base_uri": "https://localhost:8080/"
        },
        "id": "I-gg_jmURQrp",
        "outputId": "64839031-b82a-4909-ab32-d60f467c289d"
      },
      "execution_count": null,
      "outputs": [
        {
          "output_type": "execute_result",
          "data": {
            "text/plain": [
              "array([-3.492116 , -2.216322 , -2.7850842, -3.69024  , -2.2511368,\n",
              "       -3.14853  , -3.5654716, -3.7839613, -1.9949875, -2.915545 ,\n",
              "       -3.4840317, -2.4233189, -2.883338 , -3.368534 , -2.9635925,\n",
              "       -1.569582 , -3.6546621, -2.460721 , -2.4638176, -3.6956139,\n",
              "       -2.8004613, -2.3464098, -2.8905516, -2.1326628, -2.8970118,\n",
              "       -2.4080477, -2.3065686, -3.348691 , -3.3766499, -2.9178944,\n",
              "       -2.5058227, -2.6870255, -1.8408813, -3.2143726, -3.009708 ,\n",
              "       -2.453886 , -3.3953   , -3.0608597, -3.0707102, -1.9103603,\n",
              "       -2.7380147, -3.6400833, -2.8833618, -3.2180414, -2.1984377,\n",
              "       -3.6962461, -3.3231754, -3.117796 , -3.9123821, -2.8119774,\n",
              "       -3.0788326, -3.7818003])"
            ]
          },
          "metadata": {},
          "execution_count": 15
        }
      ]
    },
    {
      "cell_type": "code",
      "source": [
        "u_min = df['umin'].to_numpy()\n",
        "u_min"
      ],
      "metadata": {
        "colab": {
          "base_uri": "https://localhost:8080/"
        },
        "id": "_NSK1qnUUsjr",
        "outputId": "aad00a05-c1b7-40de-c4bd-3ebe92308974"
      },
      "execution_count": null,
      "outputs": [
        {
          "output_type": "execute_result",
          "data": {
            "text/plain": [
              "array([-3.2479854, -1.8683901, -2.3754168, -3.385446 , -1.8402176,\n",
              "       -3.1517076, -3.2258234, -3.5555596, -1.6444807, -2.74118  ,\n",
              "       -3.392467 , -2.169137 , -2.766831 , -3.2417898, -2.8972292,\n",
              "       -1.3660116, -3.3501372, -2.0738602, -2.0220203, -3.5618925,\n",
              "       -2.6896915, -1.9812193, -2.7873406, -1.8472967, -2.7868347,\n",
              "       -2.0435963, -1.949173 , -3.197661 , -3.2943053, -2.773151 ,\n",
              "       -2.1074066, -2.233801 , -1.5582991, -2.9870238, -2.7938147,\n",
              "       -2.0753536, -3.1977553, -2.9183187, -2.910225 , -1.5846424,\n",
              "       -2.5077467, -3.56453  , -2.8160658, -3.1777787, -1.8710375,\n",
              "       -3.5333805, -3.1091995, -2.878067 , -3.4212575, -2.7168126,\n",
              "       -3.0028362, -3.4134254])"
            ]
          },
          "metadata": {},
          "execution_count": 32
        }
      ]
    },
    {
      "cell_type": "code",
      "source": [
        "def plot_data(data):\n",
        "  plt.plot(data)\n",
        "  plt.show()\n",
        "\n",
        "plot_data(t_min)"
      ],
      "metadata": {
        "colab": {
          "base_uri": "https://localhost:8080/",
          "height": 430
        },
        "id": "3wTETEA0RQvK",
        "outputId": "e5c801f5-b1ee-49d3-8e07-f7326a3074b0"
      },
      "execution_count": null,
      "outputs": [
        {
          "output_type": "display_data",
          "data": {
            "text/plain": [
              "<Figure size 640x480 with 1 Axes>"
            ],
            "image/png": "[encoded data removed]"
          },
          "metadata": {}
        }
      ]
    },
    {
      "cell_type": "code",
      "source": [
        "def normalize_data(data):\n",
        "  print(f\"np.min(data)= {np.min(data)},  np.max(data)= {np.max(data)}\")\n",
        "  return (data - np.min(data)) / (np.max(data) - np.min(data))\n",
        "\n",
        "normalize_data(t_min)"
      ],
      "metadata": {
        "colab": {
          "base_uri": "https://localhost:8080/"
        },
        "id": "OUWaO0SSS4iH",
        "outputId": "5808b88e-0c9a-41f1-e640-6211922dcead"
      },
      "execution_count": null,
      "outputs": [
        {
          "output_type": "stream",
          "name": "stdout",
          "text": [
            "np.min(data)= -1.2322083,  np.max(data)= -0.2732849\n"
          ]
        },
        {
          "output_type": "execute_result",
          "data": {
            "text/plain": [
              "array([0.67570493, 0.55855771, 0.85086882, 0.39717396, 0.38679909,\n",
              "       0.45245372, 0.23063458, 0.48017315, 0.        , 0.5133028 ,\n",
              "       0.7911336 , 0.44866656, 0.48135065, 0.81080136, 0.40401632,\n",
              "       0.47033928, 0.59926167, 0.58271276, 0.53659858, 0.83301509,\n",
              "       0.62561264, 0.39058626, 0.35414681, 0.03185666, 0.65874229,\n",
              "       0.66739867, 0.35249191, 0.37531032, 0.50267331, 0.89068167,\n",
              "       0.04786462, 0.21319461, 0.0591942 , 0.56730955, 0.48170073,\n",
              "       0.56371333, 0.55037873, 1.        , 0.7006556 , 0.04713265,\n",
              "       0.9120998 , 0.75663548, 0.43628667, 0.45891413, 0.44421108,\n",
              "       0.64133413, 0.85239641, 0.32750941, 0.82391318, 0.62074343,\n",
              "       0.94176054, 0.38014767])"
            ]
          },
          "metadata": {},
          "execution_count": 28
        }
      ]
    },
    {
      "cell_type": "code",
      "source": [],
      "metadata": {
        "id": "EjtYHmGPWyli"
      },
      "execution_count": null,
      "outputs": []
    },
    {
      "cell_type": "code",
      "source": [
        "normalize_data(t_max)"
      ],
      "metadata": {
        "colab": {
          "base_uri": "https://localhost:8080/"
        },
        "id": "U-FkUnn7S4kh",
        "outputId": "537eab54-4305-42fe-8385-a343b93aef5f"
      },
      "execution_count": null,
      "outputs": [
        {
          "output_type": "stream",
          "name": "stdout",
          "text": [
            "np.min(data)= 0.59487915,  np.max(data)= 0.9416809\n"
          ]
        },
        {
          "output_type": "execute_result",
          "data": {
            "text/plain": [
              "array([0.76627944, 0.94825776, 0.34899685, 0.73715242, 0.80385422,\n",
              "       0.7758712 , 0.86738821, 0.8556847 , 0.97553674, 0.76909546,\n",
              "       0.38313979, 0.94552969, 0.83526929, 0.23644849, 0.87636395,\n",
              "       0.73759244, 0.88560369, 0.93717004, 0.72307291, 0.5471665 ,\n",
              "       0.83641325, 0.98741644, 0.82910957, 0.77578314, 0.75959176,\n",
              "       0.64361137, 0.97025698, 0.86862021, 0.7905668 , 0.26504754,\n",
              "       0.9978001 , 1.        , 0.9632172 , 0.92009844, 0.90769098,\n",
              "       0.69904967, 0.67335447, 0.        , 0.65073919, 0.69781767,\n",
              "       0.14730736, 0.39572335, 0.81247802, 0.79593454, 0.75052808,\n",
              "       0.83518134, 0.27217524, 0.82242171, 0.46735303, 0.79989444,\n",
              "       0.12293205, 0.89317144])"
            ]
          },
          "metadata": {},
          "execution_count": 30
        }
      ]
    },
    {
      "cell_type": "code",
      "source": [
        "normalize_data(u_min)"
      ],
      "metadata": {
        "colab": {
          "base_uri": "https://localhost:8080/"
        },
        "id": "DneJbVJzS4m9",
        "outputId": "d23d094b-1a6b-4849-eb86-c08e2b280054"
      },
      "execution_count": null,
      "outputs": [
        {
          "output_type": "stream",
          "name": "stdout",
          "text": [
            "np.min(data)= -3.56453,  np.max(data)= -1.3660116\n"
          ]
        },
        {
          "output_type": "execute_result",
          "data": {
            "text/plain": [
              "array([0.14398087, 0.77149225, 0.54087025, 0.08145668, 0.78430656,\n",
              "       0.187773  , 0.1540613 , 0.0040802 , 0.87333784, 0.37450221,\n",
              "       0.07826316, 0.63469699, 0.36283481, 0.14679895, 0.30352295,\n",
              "       1.        , 0.09751695, 0.67803381, 0.70161328, 0.00119967,\n",
              "       0.39792185, 0.72017168, 0.35350598, 0.78108662, 0.35373609,\n",
              "       0.6917994 , 0.734748  , 0.16687102, 0.12291218, 0.35996014,\n",
              "       0.66277517, 0.60528445, 0.91253769, 0.26267972, 0.35056122,\n",
              "       0.67735453, 0.16682812, 0.29393036, 0.29761179, 0.90055539,\n",
              "       0.48067976, 0.        , 0.34044027, 0.17591452, 0.77028807,\n",
              "       0.01416841, 0.20710789, 0.31223892, 0.06516775, 0.38558577,\n",
              "       0.25548742, 0.0687302 ])"
            ]
          },
          "metadata": {},
          "execution_count": 33
        }
      ]
    },
    {
      "cell_type": "code",
      "source": [
        "normalize_data(u_max)"
      ],
      "metadata": {
        "colab": {
          "base_uri": "https://localhost:8080/"
        },
        "id": "oss5CWG2S4pv",
        "outputId": "a166b78f-2745-4f31-8558-ab1d9facdc90"
      },
      "execution_count": null,
      "outputs": [
        {
          "output_type": "stream",
          "name": "stdout",
          "text": [
            "np.min(data)= 1.5478783,  np.max(data)= 6.441467\n"
          ]
        },
        {
          "output_type": "execute_result",
          "data": {
            "text/plain": [
              "array([0.8482447 , 0.36118996, 0.68660987, 0.89460639, 0.24558709,\n",
              "       0.87471567, 0.84349277, 0.95737504, 0.13167835, 0.77107291,\n",
              "       0.95166574, 0.49124045, 0.71746696, 0.88355977, 0.80815858,\n",
              "       0.        , 0.87575785, 0.4835387 , 0.52981602, 1.        ,\n",
              "       0.71407971, 0.44338902, 0.76344322, 0.35795025, 0.76753809,\n",
              "       0.45042506, 0.40645277, 0.87368158, 0.90565492, 0.78786413,\n",
              "       0.51392257, 0.6131811 , 0.09317716, 0.79091735, 0.71029431,\n",
              "       0.48684586, 0.83290478, 0.79274556, 0.77159243, 0.05408493,\n",
              "       0.67802472, 0.98498905, 0.76990302, 0.87934335, 0.34256154,\n",
              "       0.96716003, 0.83488185, 0.74582858, 0.89223731, 0.72115781,\n",
              "       0.83291745, 0.89405272])"
            ]
          },
          "metadata": {},
          "execution_count": 34
        }
      ]
    },
    {
      "cell_type": "code",
      "source": [
        "normalize_data(v_min)"
      ],
      "metadata": {
        "colab": {
          "base_uri": "https://localhost:8080/"
        },
        "id": "4OycDMnYS4sk",
        "outputId": "f18c4814-7c9b-4439-8bc5-d12b92a2bb30"
      },
      "execution_count": null,
      "outputs": [
        {
          "output_type": "stream",
          "name": "stdout",
          "text": [
            "np.min(data)= -3.9123821,  np.max(data)= -1.569582\n"
          ]
        },
        {
          "output_type": "execute_result",
          "data": {
            "text/plain": [
              "array([0.17938624, 0.72394572, 0.48117545, 0.09481906, 0.70908538,\n",
              "       0.32604237, 0.14807516, 0.05481509, 0.81842006, 0.42548961,\n",
              "       0.18283694, 0.63559123, 0.43923683, 0.23213594, 0.40498103,\n",
              "       1.        , 0.11000512, 0.61962653, 0.61830478, 0.09252526,\n",
              "       0.4746119 , 0.66841909, 0.43615778, 0.75965478, 0.43340031,\n",
              "       0.64210959, 0.68542489, 0.24060572, 0.22867175, 0.42448679,\n",
              "       0.60037534, 0.5230308 , 0.8841987 , 0.29793814, 0.38529711,\n",
              "       0.62254398, 0.22071115, 0.36346353, 0.35925895, 0.85454231,\n",
              "       0.50126658, 0.11622793, 0.43922668, 0.29637215, 0.73157945,\n",
              "       0.09225542, 0.25149679, 0.33916086, 0.        , 0.46969637,\n",
              "       0.35579199, 0.05573749])"
            ]
          },
          "metadata": {},
          "execution_count": 35
        }
      ]
    },
    {
      "cell_type": "code",
      "source": [
        "normalize_data(v_max)"
      ],
      "metadata": {
        "colab": {
          "base_uri": "https://localhost:8080/"
        },
        "id": "Je5-LA1xS4wG",
        "outputId": "686f35c3-7f7b-40ab-c2e2-43d91ac42276"
      },
      "execution_count": null,
      "outputs": [
        {
          "output_type": "stream",
          "name": "stdout",
          "text": [
            "np.min(data)= 1.6885233,  np.max(data)= 3.3877926\n"
          ]
        },
        {
          "output_type": "execute_result",
          "data": {
            "text/plain": [
              "array([0.74878402, 0.49919462, 0.81386541, 0.80851805, 0.37795157,\n",
              "       0.92681331, 0.76957178, 0.86983929, 0.19744157, 0.86633278,\n",
              "       0.98586157, 0.42648584, 0.65877451, 0.89460058, 0.86857992,\n",
              "       0.        , 0.77451567, 0.56961113, 0.59626741, 1.        ,\n",
              "       0.68189086, 0.37791167, 0.80968314, 0.331876  , 0.80717394,\n",
              "       0.66341615, 0.40280266, 0.88994016, 0.92309853, 0.89625229,\n",
              "       0.53611349, 0.72519   , 0.1407931 , 0.75708394, 0.64010142,\n",
              "       0.65322765, 0.7422159 , 0.78650394, 0.74794996, 0.08338078,\n",
              "       0.69468065, 0.98733361, 0.83149746, 0.92869623, 0.33850803,\n",
              "       0.93202037, 0.80780192, 0.70886569, 0.78257596, 0.72048303,\n",
              "       0.86315342, 0.79441775])"
            ]
          },
          "metadata": {},
          "execution_count": 38
        }
      ]
    },
    {
      "cell_type": "code",
      "source": [
        "def denormalize_data (data, data_min, data_max):\n",
        "  return (data - data_min) / (data_max - data_min)\n",
        "\n",
        "denormalize_data(t_min, np.min(t_min), np.max(t_min))"
      ],
      "metadata": {
        "id": "MsVPdPewVVMm"
      },
      "execution_count": null,
      "outputs": []
    },
    {
      "cell_type": "code",
      "source": [
        "def normalize_data(data):\n",
        "  print(f\"np.min(data)= {np.min(data)},  np.max(data)= {np.max(data)}\")\n",
        "  norm_data = (data - np.min(data)) / (np.max(data) - np.min(data))\n",
        "  return norm_data\n",
        "\n",
        "normalize_data(t_min)\n",
        "\n",
        "\n",
        "\n"
      ],
      "metadata": {
        "colab": {
          "base_uri": "https://localhost:8080/"
        },
        "id": "ZighqaJpW4-2",
        "outputId": "fab28ba3-6f18-4275-a9cb-ce9aaa943b53"
      },
      "execution_count": null,
      "outputs": [
        {
          "output_type": "stream",
          "name": "stdout",
          "text": [
            "np.min(data)= -1.2322083,  np.max(data)= -0.2732849\n"
          ]
        },
        {
          "output_type": "execute_result",
          "data": {
            "text/plain": [
              "array([0.67570493, 0.55855771, 0.85086882, 0.39717396, 0.38679909,\n",
              "       0.45245372, 0.23063458, 0.48017315, 0.        , 0.5133028 ,\n",
              "       0.7911336 , 0.44866656, 0.48135065, 0.81080136, 0.40401632,\n",
              "       0.47033928, 0.59926167, 0.58271276, 0.53659858, 0.83301509,\n",
              "       0.62561264, 0.39058626, 0.35414681, 0.03185666, 0.65874229,\n",
              "       0.66739867, 0.35249191, 0.37531032, 0.50267331, 0.89068167,\n",
              "       0.04786462, 0.21319461, 0.0591942 , 0.56730955, 0.48170073,\n",
              "       0.56371333, 0.55037873, 1.        , 0.7006556 , 0.04713265,\n",
              "       0.9120998 , 0.75663548, 0.43628667, 0.45891413, 0.44421108,\n",
              "       0.64133413, 0.85239641, 0.32750941, 0.82391318, 0.62074343,\n",
              "       0.94176054, 0.38014767])"
            ]
          },
          "metadata": {},
          "execution_count": 41
        }
      ]
    },
    {
      "cell_type": "code",
      "source": [
        "norm_t_min =  np.array([0.67570493, 0.55855771, 0.85086882, 0.39717396, 0.38679909,\n",
        "       0.45245372, 0.23063458, 0.48017315, 0.        , 0.5133028 ,\n",
        "       0.7911336 , 0.44866656, 0.48135065, 0.81080136, 0.40401632,\n",
        "       0.47033928, 0.59926167, 0.58271276, 0.53659858, 0.83301509,\n",
        "       0.62561264, 0.39058626, 0.35414681, 0.03185666, 0.65874229,\n",
        "       0.66739867, 0.35249191, 0.37531032, 0.50267331, 0.89068167,\n",
        "       0.04786462, 0.21319461, 0.0591942 , 0.56730955, 0.48170073,\n",
        "       0.56371333, 0.55037873, 1.        , 0.7006556 , 0.04713265,\n",
        "       0.9120998 , 0.75663548, 0.43628667, 0.45891413, 0.44421108,\n",
        "       0.64133413, 0.85239641, 0.32750941, 0.82391318, 0.62074343,\n",
        "       0.94176054, 0.38014767])"
      ],
      "metadata": {
        "id": "ToE9yJNGW5IV"
      },
      "execution_count": null,
      "outputs": []
    },
    {
      "cell_type": "code",
      "source": [
        "norm_t_min"
      ],
      "metadata": {
        "colab": {
          "base_uri": "https://localhost:8080/"
        },
        "id": "4hLwvMmpW5MU",
        "outputId": "c28cf871-feff-485b-b0f3-f4da0bb6c4f4"
      },
      "execution_count": null,
      "outputs": [
        {
          "output_type": "execute_result",
          "data": {
            "text/plain": [
              "array([0.67570493, 0.55855771, 0.85086882, 0.39717396, 0.38679909,\n",
              "       0.45245372, 0.23063458, 0.48017315, 0.        , 0.5133028 ,\n",
              "       0.7911336 , 0.44866656, 0.48135065, 0.81080136, 0.40401632,\n",
              "       0.47033928, 0.59926167, 0.58271276, 0.53659858, 0.83301509,\n",
              "       0.62561264, 0.39058626, 0.35414681, 0.03185666, 0.65874229,\n",
              "       0.66739867, 0.35249191, 0.37531032, 0.50267331, 0.89068167,\n",
              "       0.04786462, 0.21319461, 0.0591942 , 0.56730955, 0.48170073,\n",
              "       0.56371333, 0.55037873, 1.        , 0.7006556 , 0.04713265,\n",
              "       0.9120998 , 0.75663548, 0.43628667, 0.45891413, 0.44421108,\n",
              "       0.64133413, 0.85239641, 0.32750941, 0.82391318, 0.62074343,\n",
              "       0.94176054, 0.38014767])"
            ]
          },
          "metadata": {},
          "execution_count": 53
        }
      ]
    },
    {
      "cell_type": "code",
      "source": [
        "def denormalize_data (data, data_min, data_max):\n",
        "  return data_min + data * (data_max - data_min)\n",
        "\n",
        "\n",
        "denormalize_data(norm_t_min, -1.2322083, -0.2732849)"
      ],
      "metadata": {
        "colab": {
          "base_uri": "https://localhost:8080/"
        },
        "id": "F_S2SdLIW5Qe",
        "outputId": "42cc2b27-8871-4b2c-e682-5a06c2c97f7e"
      },
      "execution_count": null,
      "outputs": [
        {
          "output_type": "execute_result",
          "data": {
            "text/plain": [
              "array([-0.58425903, -0.69659424, -0.41629028, -0.8513489 , -0.8612976 ,\n",
              "       -0.79833984, -1.0110474 , -0.77175903, -1.2322083 , -0.73999023,\n",
              "       -0.47357178, -0.80197144, -0.7706299 , -0.4547119 , -0.8447876 ,\n",
              "       -0.78118896, -0.65756226, -0.6734314 , -0.71765137, -0.43341064,\n",
              "       -0.6322937 , -0.857666  , -0.89260864, -1.2016602 , -0.6005249 ,\n",
              "       -0.5922241 , -0.89419556, -0.87231445, -0.7501831 , -0.3781128 ,\n",
              "       -1.1863098 , -1.027771  , -1.1754456 , -0.6882019 , -0.7702942 ,\n",
              "       -0.6916504 , -0.70443726, -0.2732849 , -0.56033325, -1.1870117 ,\n",
              "       -0.35757446, -0.50665283, -0.8138428 , -0.7921448 , -0.8062439 ,\n",
              "       -0.617218  , -0.41482544, -0.91815186, -0.44213867, -0.6369629 ,\n",
              "       -0.32913208, -0.8676758 ])"
            ]
          },
          "metadata": {},
          "execution_count": 65
        }
      ]
    },
    {
      "cell_type": "code",
      "source": [
        "df.Tmin"
      ],
      "metadata": {
        "colab": {
          "base_uri": "https://localhost:8080/"
        },
        "id": "DlRjJ-gAb0M5",
        "outputId": "4847fa3b-5509-4d08-ac8e-7d4f412a7f7e"
      },
      "execution_count": null,
      "outputs": [
        {
          "output_type": "execute_result",
          "data": {
            "text/plain": [
              "0    -0.584259\n",
              "1    -0.696594\n",
              "2    -0.416290\n",
              "3    -0.851349\n",
              "4    -0.861298\n",
              "5    -0.798340\n",
              "6    -1.011047\n",
              "7    -0.771759\n",
              "8    -1.232208\n",
              "9    -0.739990\n",
              "10   -0.473572\n",
              "11   -0.801971\n",
              "12   -0.770630\n",
              "13   -0.454712\n",
              "14   -0.844788\n",
              "15   -0.781189\n",
              "16   -0.657562\n",
              "17   -0.673431\n",
              "18   -0.717651\n",
              "19   -0.433411\n",
              "20   -0.632294\n",
              "21   -0.857666\n",
              "22   -0.892609\n",
              "23   -1.201660\n",
              "24   -0.600525\n",
              "25   -0.592224\n",
              "26   -0.894196\n",
              "27   -0.872314\n",
              "28   -0.750183\n",
              "29   -0.378113\n",
              "30   -1.186310\n",
              "31   -1.027771\n",
              "32   -1.175446\n",
              "33   -0.688202\n",
              "34   -0.770294\n",
              "35   -0.691650\n",
              "36   -0.704437\n",
              "37   -0.273285\n",
              "38   -0.560333\n",
              "39   -1.187012\n",
              "40   -0.357574\n",
              "41   -0.506653\n",
              "42   -0.813843\n",
              "43   -0.792145\n",
              "44   -0.806244\n",
              "45   -0.617218\n",
              "46   -0.414825\n",
              "47   -0.918152\n",
              "48   -0.442139\n",
              "49   -0.636963\n",
              "50   -0.329132\n",
              "51   -0.867676\n",
              "Name: Tmin, dtype: float64"
            ]
          },
          "metadata": {},
          "execution_count": 57
        }
      ]
    },
    {
      "cell_type": "code",
      "source": [
        "t_min"
      ],
      "metadata": {
        "colab": {
          "base_uri": "https://localhost:8080/"
        },
        "id": "rZIayK8Qb0Pr",
        "outputId": "f676e837-5602-4105-dece-a9f80453fe4e"
      },
      "execution_count": null,
      "outputs": [
        {
          "output_type": "execute_result",
          "data": {
            "text/plain": [
              "array([-0.58425903, -0.69659424, -0.41629028, -0.8513489 , -0.8612976 ,\n",
              "       -0.79833984, -1.0110474 , -0.77175903, -1.2322083 , -0.73999023,\n",
              "       -0.47357178, -0.80197144, -0.7706299 , -0.4547119 , -0.8447876 ,\n",
              "       -0.78118896, -0.65756226, -0.6734314 , -0.71765137, -0.43341064,\n",
              "       -0.6322937 , -0.857666  , -0.89260864, -1.2016602 , -0.6005249 ,\n",
              "       -0.5922241 , -0.89419556, -0.87231445, -0.7501831 , -0.3781128 ,\n",
              "       -1.1863098 , -1.027771  , -1.1754456 , -0.6882019 , -0.7702942 ,\n",
              "       -0.6916504 , -0.70443726, -0.2732849 , -0.56033325, -1.1870117 ,\n",
              "       -0.35757446, -0.50665283, -0.8138428 , -0.7921448 , -0.8062439 ,\n",
              "       -0.617218  , -0.41482544, -0.91815186, -0.44213867, -0.6369629 ,\n",
              "       -0.32913208, -0.8676758 ])"
            ]
          },
          "metadata": {},
          "execution_count": 58
        }
      ]
    },
    {
      "cell_type": "code",
      "source": [
        "def normalize_data(data):\n",
        "  print(f\"np.min(data)= {np.min(data)},  np.max(data)= {np.max(data)}\")\n",
        "  return (data - np.min(data)) / (np.max(data) - np.min(data))\n",
        "\n",
        "\n",
        "normalize_data(t_min)\n"
      ],
      "metadata": {
        "colab": {
          "base_uri": "https://localhost:8080/"
        },
        "id": "Wvv9dwEJb0SR",
        "outputId": "986ce392-675b-4697-f130-c2b66a07713c"
      },
      "execution_count": null,
      "outputs": [
        {
          "output_type": "stream",
          "name": "stdout",
          "text": [
            "np.min(data)= -1.2322083,  np.max(data)= -0.2732849\n"
          ]
        },
        {
          "output_type": "execute_result",
          "data": {
            "text/plain": [
              "array([0.67570493, 0.55855771, 0.85086882, 0.39717396, 0.38679909,\n",
              "       0.45245372, 0.23063458, 0.48017315, 0.        , 0.5133028 ,\n",
              "       0.7911336 , 0.44866656, 0.48135065, 0.81080136, 0.40401632,\n",
              "       0.47033928, 0.59926167, 0.58271276, 0.53659858, 0.83301509,\n",
              "       0.62561264, 0.39058626, 0.35414681, 0.03185666, 0.65874229,\n",
              "       0.66739867, 0.35249191, 0.37531032, 0.50267331, 0.89068167,\n",
              "       0.04786462, 0.21319461, 0.0591942 , 0.56730955, 0.48170073,\n",
              "       0.56371333, 0.55037873, 1.        , 0.7006556 , 0.04713265,\n",
              "       0.9120998 , 0.75663548, 0.43628667, 0.45891413, 0.44421108,\n",
              "       0.64133413, 0.85239641, 0.32750941, 0.82391318, 0.62074343,\n",
              "       0.94176054, 0.38014767])"
            ]
          },
          "metadata": {},
          "execution_count": 62
        }
      ]
    },
    {
      "cell_type": "code",
      "source": [
        "norm_t_min = np.array([0.67570493, 0.55855771, 0.85086882, 0.39717396, 0.38679909,\n",
        "       0.45245372, 0.23063458, 0.48017315, 0.        , 0.5133028 ,\n",
        "       0.7911336 , 0.44866656, 0.48135065, 0.81080136, 0.40401632,\n",
        "       0.47033928, 0.59926167, 0.58271276, 0.53659858, 0.83301509,\n",
        "       0.62561264, 0.39058626, 0.35414681, 0.03185666, 0.65874229,\n",
        "       0.66739867, 0.35249191, 0.37531032, 0.50267331, 0.89068167,\n",
        "       0.04786462, 0.21319461, 0.0591942 , 0.56730955, 0.48170073,\n",
        "       0.56371333, 0.55037873, 1.        , 0.7006556 , 0.04713265,\n",
        "       0.9120998 , 0.75663548, 0.43628667, 0.45891413, 0.44421108,\n",
        "       0.64133413, 0.85239641, 0.32750941, 0.82391318, 0.62074343,\n",
        "       0.94176054, 0.38014767])"
      ],
      "metadata": {
        "id": "uEoH8s8PcySd"
      },
      "execution_count": null,
      "outputs": []
    },
    {
      "cell_type": "code",
      "source": [],
      "metadata": {
        "id": "LkgiBRxOc9QQ"
      },
      "execution_count": null,
      "outputs": []
    },
    {
      "cell_type": "code",
      "source": [
        "denormalize_data(norm_t_min, -1.2322083, -0.2732849)"
      ],
      "metadata": {
        "colab": {
          "base_uri": "https://localhost:8080/"
        },
        "id": "UOq3IjtJb0VG",
        "outputId": "8289891a-0ec4-4412-b1b8-34b1ebeb1e1d"
      },
      "execution_count": null,
      "outputs": [
        {
          "output_type": "execute_result",
          "data": {
            "text/plain": [
              "array([-0.58425903, -0.69659424, -0.41629028, -0.8513489 , -0.8612976 ,\n",
              "       -0.79833984, -1.0110474 , -0.77175903, -1.2322083 , -0.73999023,\n",
              "       -0.47357178, -0.80197144, -0.7706299 , -0.4547119 , -0.8447876 ,\n",
              "       -0.78118896, -0.65756226, -0.6734314 , -0.71765137, -0.43341064,\n",
              "       -0.6322937 , -0.857666  , -0.89260864, -1.2016602 , -0.6005249 ,\n",
              "       -0.5922241 , -0.89419556, -0.87231445, -0.7501831 , -0.3781128 ,\n",
              "       -1.1863098 , -1.027771  , -1.1754456 , -0.6882019 , -0.7702942 ,\n",
              "       -0.6916504 , -0.70443726, -0.2732849 , -0.56033325, -1.1870117 ,\n",
              "       -0.35757446, -0.50665283, -0.8138428 , -0.7921448 , -0.8062439 ,\n",
              "       -0.617218  , -0.41482544, -0.91815186, -0.44213867, -0.6369629 ,\n",
              "       -0.32913208, -0.8676758 ])"
            ]
          },
          "metadata": {},
          "execution_count": 66
        }
      ]
    },
    {
      "cell_type": "code",
      "source": [
        "\n",
        "import numpy as np\n",
        "\n",
        "training_set_inputs = np.array([[0.009, 0.048, 0.285, 0.018, 0.097, 0.571, 0.027, 0.145, 0.856],\n",
        "  [0.112, 0.162, 0.014, 0.409, 0.458, 0.310, 0.902, 0.952, 0.804],\n",
        "  [0.007, 0.006, 0.012, 0.000, 0.154, 0.309, 0.000, 0.500, 1.000],\n",
        "  [0.010, 0.070, 0.099, 0.070, 0.140, 0.169, 0.099, 0.169, 0.198],\n",
        "  [0.198, 0.148, 0.049, 0.148, 0.123, 0.074, 0.049, 0.074, 0.123],\n",
        "  [0.013, 0.036, 0.013, 0.036, 0.099, 0.036, 0.013, 0.036, 0.013],\n",
        "  [0.099, 0.049, 0.020, 0.049, 0.033, 0.016, 0.020, 0.016, 0.011],\n",
        "  [0.700, 0.049, 0.198, 0.049, 0.074, 0.148, 0.079, 0.089, 0.119],\n",
        "  [0.044, 0.083, 0.090, 0.000, 0.166, 0.148, 0.180, 0.249, 0.269],\n",
        "  [0.494, 0.329, 0.055,0.329, 0.226, 0.040, 0.165, 0.119, 0.023] ])\n",
        "\n",
        "training_set_inputs.shape\n"
      ],
      "metadata": {
        "colab": {
          "base_uri": "https://localhost:8080/"
        },
        "id": "LFrhvnJch-DU",
        "outputId": "2b69748c-1627-4feb-a010-6153cf05cff5"
      },
      "execution_count": null,
      "outputs": [
        {
          "output_type": "execute_result",
          "data": {
            "text/plain": [
              "(10, 9)"
            ]
          },
          "metadata": {},
          "execution_count": 72
        }
      ]
    },
    {
      "cell_type": "markdown",
      "source": [
        "# How to combine two 1d np arrays into one 2d np array"
      ],
      "metadata": {
        "id": "uFC_ToJKjQBw"
      }
    },
    {
      "cell_type": "code",
      "source": [
        "tp = np.array([1, 2, 3, 4, 5, 6, 7, 8, 9, 10])\n",
        "fp = np.array([11, 12, 13, 14, 15, 16, 17, 18, 19, 20])\n",
        "print(tp.shape)\n",
        "print(fp.shape)\n",
        "comb = np.array([tp, fp]).T\n",
        "print(comb.shape)\n",
        "print(comb)"
      ],
      "metadata": {
        "colab": {
          "base_uri": "https://localhost:8080/"
        },
        "id": "4fTtnCbvknqH",
        "outputId": "25d923d7-d4a3-44b9-f757-c505d7bffbc8"
      },
      "execution_count": null,
      "outputs": [
        {
          "output_type": "stream",
          "name": "stdout",
          "text": [
            "(10,)\n",
            "(10,)\n",
            "(10, 2)\n",
            "[[ 1 11]\n",
            " [ 2 12]\n",
            " [ 3 13]\n",
            " [ 4 14]\n",
            " [ 5 15]\n",
            " [ 6 16]\n",
            " [ 7 17]\n",
            " [ 8 18]\n",
            " [ 9 19]\n",
            " [10 20]]\n"
          ]
        }
      ]
    },
    {
      "cell_type": "code",
      "source": [
        "sp = np.array([21, 22, 23, 24, 25, 26, 27, 28, 29, 30])\n",
        "print(sp)\n",
        "print(sp.shape)\n",
        "print(tp.shape)\n",
        "print(fp.shape)\n",
        "comb = np.array([tp, fp, sp]).T\n",
        "print(comb)"
      ],
      "metadata": {
        "id": "mcVtdRHAknsg",
        "colab": {
          "base_uri": "https://localhost:8080/"
        },
        "outputId": "dc46216d-f302-4ce6-880f-592d13f95feb"
      },
      "execution_count": null,
      "outputs": [
        {
          "output_type": "stream",
          "name": "stdout",
          "text": [
            "[21 22 23 24 25 26 27 28 29 30]\n",
            "(10,)\n",
            "(10,)\n",
            "(10,)\n",
            "[[ 1 11 21]\n",
            " [ 2 12 22]\n",
            " [ 3 13 23]\n",
            " [ 4 14 24]\n",
            " [ 5 15 25]\n",
            " [ 6 16 26]\n",
            " [ 7 17 27]\n",
            " [ 8 18 28]\n",
            " [ 9 19 29]\n",
            " [10 20 30]]\n"
          ]
        }
      ]
    },
    {
      "cell_type": "code",
      "source": [
        "import numpy as np\n",
        "training_set_inputs = np.array(\n",
        "    [[0.009, 0.048, 0.285, 0.018, 0.097, 0.571, 0.027, 0.145, 0.856],\n",
        "     [0.112, 0.162, 0.014, 0.409, 0.458, 0.310, 0.902, 0.952, 0.804],\n",
        "     [0.007, 0.006, 0.012, 0.000, 0.154, 0.309, 0.000, 0.500, 1.000],\n",
        "     [0.010, 0.070, 0.099, 0.070, 0.140, 0.169, 0.099, 0.169, 0.198],\n",
        "     [0.198, 0.148, 0.049, 0.148, 0.123, 0.074, 0.049, 0.074, 0.123],\n",
        "     [0.013, 0.036, 0.013, 0.036, 0.099, 0.036, 0.013, 0.036, 0.013],\n",
        "     [0.099, 0.049, 0.020, 0.049, 0.033, 0.016, 0.020, 0.016, 0.011],\n",
        "     [0.700, 0.049, 0.198, 0.049, 0.074, 0.148, 0.079, 0.089, 0.119],\n",
        "     [0.044, 0.083, 0.090, 0.000, 0.166, 0.148, 0.180, 0.249, 0.269],\n",
        "     [0.494, 0.329, 0.055,0.329, 0.226, 0.040, 0.165, 0.119, 0.023] ])"
      ],
      "metadata": {
        "id": "WaaeRB3oknvD"
      },
      "execution_count": null,
      "outputs": []
    },
    {
      "cell_type": "code",
      "source": [
        "training_set_inputs.shape"
      ],
      "metadata": {
        "id": "Ns1Xz5FZknxs",
        "colab": {
          "base_uri": "https://localhost:8080/"
        },
        "outputId": "63b55741-0c57-404c-eadf-e5122b3680fc"
      },
      "execution_count": null,
      "outputs": [
        {
          "output_type": "execute_result",
          "data": {
            "text/plain": [
              "(10, 9)"
            ]
          },
          "metadata": {},
          "execution_count": 87
        }
      ]
    },
    {
      "cell_type": "code",
      "source": [
        "a = np.array([1, 2, 3, 4, 5, 6, 7, 8, 9, 10])\n",
        "print(a)\n",
        "print(a.shape)"
      ],
      "metadata": {
        "id": "UUfbD7CXkn0J",
        "colab": {
          "base_uri": "https://localhost:8080/"
        },
        "outputId": "404bbcfe-f1ad-4d8c-bccd-81d8674216ad"
      },
      "execution_count": null,
      "outputs": [
        {
          "output_type": "stream",
          "name": "stdout",
          "text": [
            "[ 1  2  3  4  5  6  7  8  9 10]\n",
            "(10,)\n"
          ]
        }
      ]
    },
    {
      "cell_type": "code",
      "source": [],
      "metadata": {
        "id": "eErI-azTkn2x"
      },
      "execution_count": null,
      "outputs": []
    },
    {
      "cell_type": "code",
      "source": [],
      "metadata": {
        "id": "_NFJ5W44kn5d"
      },
      "execution_count": null,
      "outputs": []
    },
    {
      "cell_type": "code",
      "source": [],
      "metadata": {
        "id": "LbdW5EDukn8W"
      },
      "execution_count": null,
      "outputs": []
    }
  ]
}