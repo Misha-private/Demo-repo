{
  "nbformat": 4,
  "nbformat_minor": 0,
  "metadata": {
    "colab": {
      "provenance": [],
      "authorship_tag": "ABX9TyPL346HmI6nghCURMlvdKUH",
      "include_colab_link": true
    },
    "kernelspec": {
      "name": "python3",
      "display_name": "Python 3"
    },
    "language_info": {
      "name": "python"
    }
  },
  "cells": [
    {
      "cell_type": "markdown",
      "metadata": {
        "id": "view-in-github",
        "colab_type": "text"
      },
      "source": [
        "<a href=\"https://colab.research.google.com/github/Misha-private/Demo-repo/blob/main/ML_LAM.ipynb\" target=\"_parent\"><img src=\"https://colab.research.google.com/assets/colab-badge.svg\" alt=\"Open In Colab\"/></a>"
      ]
    },
    {
      "cell_type": "markdown",
      "source": [
        "### Ting's code for conversion betwee lon-lat coordinates and conformal Lambert coordinates"
      ],
      "metadata": {
        "id": "vpMhLXKSHjEk"
      }
    },
    {
      "cell_type": "code",
      "source": [
        "!pip install netCDF4"
      ],
      "metadata": {
        "colab": {
          "base_uri": "https://localhost:8080/"
        },
        "id": "WvWM1iKQIc1W",
        "outputId": "f4d383d8-0a69-4a7d-f36b-7857a014f836"
      },
      "execution_count": 2,
      "outputs": [
        {
          "output_type": "stream",
          "name": "stdout",
          "text": [
            "Collecting netCDF4\n",
            "  Downloading netCDF4-1.7.1.post2-cp310-cp310-manylinux_2_17_x86_64.manylinux2014_x86_64.whl.metadata (1.8 kB)\n",
            "Collecting cftime (from netCDF4)\n",
            "  Downloading cftime-1.6.4-cp310-cp310-manylinux_2_17_x86_64.manylinux2014_x86_64.whl.metadata (8.7 kB)\n",
            "Requirement already satisfied: certifi in /usr/local/lib/python3.10/dist-packages (from netCDF4) (2024.8.30)\n",
            "Requirement already satisfied: numpy in /usr/local/lib/python3.10/dist-packages (from netCDF4) (1.26.4)\n",
            "Downloading netCDF4-1.7.1.post2-cp310-cp310-manylinux_2_17_x86_64.manylinux2014_x86_64.whl (9.0 MB)\n",
            "\u001b[2K   \u001b[90m━━━━━━━━━━━━━━━━━━━━━━━━━━━━━━━━━━━━━━━━\u001b[0m \u001b[32m9.0/9.0 MB\u001b[0m \u001b[31m51.7 MB/s\u001b[0m eta \u001b[36m0:00:00\u001b[0m\n",
            "\u001b[?25hDownloading cftime-1.6.4-cp310-cp310-manylinux_2_17_x86_64.manylinux2014_x86_64.whl (1.3 MB)\n",
            "\u001b[2K   \u001b[90m━━━━━━━━━━━━━━━━━━━━━━━━━━━━━━━━━━━━━━━━\u001b[0m \u001b[32m1.3/1.3 MB\u001b[0m \u001b[31m48.7 MB/s\u001b[0m eta \u001b[36m0:00:00\u001b[0m\n",
            "\u001b[?25hInstalling collected packages: cftime, netCDF4\n",
            "Successfully installed cftime-1.6.4 netCDF4-1.7.1.post2\n"
          ]
        }
      ]
    },
    {
      "cell_type": "code",
      "source": [
        "import yaml\n",
        "import numpy as np\n",
        "from pyproj import Transformer\n",
        "import netCDF4 as nc\n",
        "import matplotlib.pyplot as plt\n",
        "# Function to plot the domain using latitude and longitude\n",
        "def plot_domain(lat, lon, title=\"Domain Plot\"):\n",
        "    plt.figure(figsize=(8, 6))\n",
        "    plt.scatter(lon, lat, c='blue', marker='.', s=1)  # Plot the grid points\n",
        "    plt.xlabel('Longitude')\n",
        "    plt.ylabel('Latitude')\n",
        "    plt.title(title)\n",
        "    plt.grid(True)\n",
        "    plt.savefig(\"NA-grid_domain_latlon.png\")\n",
        "# Function to plot the domain using Lambert Conformal Conic projection\n",
        "def plot_lambert_domain(x, y, title=\"Domain Plot (Lambert Conformal Projection)\"):\n",
        "    plt.figure(figsize=(8, 6))\n",
        "    plt.scatter(x, y, c='red', marker='.', s=1)  # Plot the grid points\n",
        "    plt.xlabel('X (meters)')\n",
        "    plt.ylabel('Y (meters)')\n",
        "    plt.title(title)\n",
        "    plt.grid(True)\n",
        "    plt.savefig(\"NA-grid_domain_lambert_xy.png\")\n",
        "def convert_longitude_array(lon_array):\n",
        "    # Convert longitude from 0-360 to -180-180\n",
        "    lon_array = (lon_array + 180) % 360 - 180\n",
        "    return lon_array\n",
        "\n",
        "# Load the NetCDF file (replace 'your_file.nc' with your actual NetCDF file)\n",
        "file_path = 'fv3_grid_spec'\n",
        "dataset = nc.Dataset(file_path, mode='r')\n",
        "\n",
        "# Read in grid_xt (longitude) and grid_yt (latitude)\n",
        "lon = dataset.variables['grid_lont'][:]\n",
        "lat = dataset.variables['grid_latt'][:]\n",
        "\n",
        "lon=convert_longitude_array(lon)  #convert to -180 to 180\n",
        "# Plot the domain using the latitude and longitude values\n",
        "plot_domain(lat, lon, title=\"Grid Domain\")\n",
        "# Check the range of longitude and latitude\n",
        "print(f\"Longitude range: {lon.min()} to {lon.max()}\")\n",
        "print(f\"Latitude range: {lat.min()} to {lat.max()}\")\n",
        "\n",
        "# Ensure that the longitude and latitude values are within the range for EPSG:4326\n",
        "if lon.min() < -180 or lon.max() > 180:\n",
        "    raise ValueError(\"Longitude values are out of range for EPSG:4326 (-180 to 180 degrees).\")\n",
        "if lat.min() < -90 or lat.max() > 90:\n",
        "    raise ValueError(\"Latitude values are out of range for EPSG:4326 (-90 to 90 degrees).\")\n",
        "\n",
        "# Load the YAML projection setup (assuming it's in 'config.yaml')\n",
        "with open('data_config.yaml', 'r') as file:\n",
        "    yaml_data = yaml.safe_load(file)\n",
        "\n",
        "# Access the projection parameters directly from the dictionary\n",
        "central_longitude = yaml_data['projection']['kwargs']['central_longitude']\n",
        "central_latitude = yaml_data['projection']['kwargs']['central_latitude']\n",
        "standard_parallels = yaml_data['projection']['kwargs']['standard_parallels']\n",
        "\n",
        "# Create the CRS (Coordinate Reference System) string based on the YAML configuration\n",
        "mycrs = (f\"+proj=lcc +lat_0={central_latitude} +lon_0={central_longitude} \"\n",
        "         f\"+lat_1={standard_parallels[0]} +lat_2={standard_parallels[1]} \"\n",
        "         f\"+x_0=0 +y_0=0 +datum=WGS84 +units=m +no_defs\")\n",
        "\n",
        "# Set up the Transformer from WGS84 (lat/lon) to Lambert Conformal Conic projection\n",
        "crstrans = Transformer.from_crs(\"EPSG:4326\", mycrs, always_xy=True)\n",
        "\n",
        "# Perform the coordinate transformation\n",
        "x, y = crstrans.transform(lon, lat)\n",
        "# Plot the domain in the Lambert Conformal Conic projection\n",
        "plot_lambert_domain(x, y, title=\"Grid Domain (Lambert Conformal Conic Projection)\")\n",
        "\n",
        "# Combine the x and y coordinates into a single array\n",
        "xy = np.array([x, y])  # Shape will be (2, n_lon, n_lat)\n",
        "\n",
        "# Save the transformed coordinates to a .npy file\n",
        "np.save(\"NA-grid_xy_coordinates.npy\", xy)\n",
        "\n",
        "print(\"Transformation complete. Coordinates saved to 'grid_xy_coordinates.npy'.\")\n",
        "\n",
        "# Close the NetCDF dataset\n",
        "dataset.close()\n"
      ],
      "metadata": {
        "colab": {
          "base_uri": "https://localhost:8080/",
          "height": 280
        },
        "id": "_baBa8SwHqTr",
        "outputId": "137cbfa1-61a8-46cb-e64e-f758e577482a"
      },
      "execution_count": 3,
      "outputs": [
        {
          "output_type": "error",
          "ename": "FileNotFoundError",
          "evalue": "[Errno 2] No such file or directory: 'fv3_grid_spec'",
          "traceback": [
            "\u001b[0;31m---------------------------------------------------------------------------\u001b[0m",
            "\u001b[0;31mFileNotFoundError\u001b[0m                         Traceback (most recent call last)",
            "\u001b[0;32m<ipython-input-3-e173216692d9>\u001b[0m in \u001b[0;36m<cell line: 31>\u001b[0;34m()\u001b[0m\n\u001b[1;32m     29\u001b[0m \u001b[0;31m# Load the NetCDF file (replace 'your_file.nc' with your actual NetCDF file)\u001b[0m\u001b[0;34m\u001b[0m\u001b[0;34m\u001b[0m\u001b[0m\n\u001b[1;32m     30\u001b[0m \u001b[0mfile_path\u001b[0m \u001b[0;34m=\u001b[0m \u001b[0;34m'fv3_grid_spec'\u001b[0m\u001b[0;34m\u001b[0m\u001b[0;34m\u001b[0m\u001b[0m\n\u001b[0;32m---> 31\u001b[0;31m \u001b[0mdataset\u001b[0m \u001b[0;34m=\u001b[0m \u001b[0mnc\u001b[0m\u001b[0;34m.\u001b[0m\u001b[0mDataset\u001b[0m\u001b[0;34m(\u001b[0m\u001b[0mfile_path\u001b[0m\u001b[0;34m,\u001b[0m \u001b[0mmode\u001b[0m\u001b[0;34m=\u001b[0m\u001b[0;34m'r'\u001b[0m\u001b[0;34m)\u001b[0m\u001b[0;34m\u001b[0m\u001b[0;34m\u001b[0m\u001b[0m\n\u001b[0m\u001b[1;32m     32\u001b[0m \u001b[0;34m\u001b[0m\u001b[0m\n\u001b[1;32m     33\u001b[0m \u001b[0;31m# Read in grid_xt (longitude) and grid_yt (latitude)\u001b[0m\u001b[0;34m\u001b[0m\u001b[0;34m\u001b[0m\u001b[0m\n",
            "\u001b[0;32msrc/netCDF4/_netCDF4.pyx\u001b[0m in \u001b[0;36mnetCDF4._netCDF4.Dataset.__init__\u001b[0;34m()\u001b[0m\n",
            "\u001b[0;32msrc/netCDF4/_netCDF4.pyx\u001b[0m in \u001b[0;36mnetCDF4._netCDF4._ensure_nc_success\u001b[0;34m()\u001b[0m\n",
            "\u001b[0;31mFileNotFoundError\u001b[0m: [Errno 2] No such file or directory: 'fv3_grid_spec'"
          ]
        }
      ]
    }
  ]
}