{
  "nbformat": 4,
  "nbformat_minor": 0,
  "metadata": {
    "colab": {
      "provenance": [],
      "authorship_tag": "ABX9TyNhEyt8nH4TjFK5pP9cSQSW",
      "include_colab_link": true
    },
    "kernelspec": {
      "name": "python3",
      "display_name": "Python 3"
    },
    "language_info": {
      "name": "python"
    }
  },
  "cells": [
    {
      "cell_type": "markdown",
      "metadata": {
        "id": "view-in-github",
        "colab_type": "text"
      },
      "source": [
        "<a href=\"https://colab.research.google.com/github/Misha-private/Demo-repo/blob/main/MGBF_input_data4.ipynb\" target=\"_parent\"><img src=\"https://colab.research.google.com/assets/colab-badge.svg\" alt=\"Open In Colab\"/></a>"
      ]
    },
    {
      "cell_type": "markdown",
      "source": [
        "# Create csv file with features for given level (40 in this case)"
      ],
      "metadata": {
        "id": "veHRTMQ4OJnJ"
      }
    },
    {
      "cell_type": "code",
      "execution_count": null,
      "metadata": {
        "id": "NccxMV0wB2iT"
      },
      "outputs": [],
      "source": [
        "from google.colab import drive\n",
        "import pandas as pd\n",
        "import numpy as np\n",
        "import matplotlib.pyplot as plt\n",
        "import os\n",
        "\n",
        "\n",
        "def is_drive_mounted():\n",
        "  return os.path.exists('/content/drive')\n",
        "\n",
        "if not is_drive_mounted():\n",
        "  drive.mount('/content/drive')\n",
        "\n",
        "df0 = pd.read_csv('/content/drive/MyDrive/Datasets/m00.csv')\n",
        "df1 = pd.read_csv('/content/drive/MyDrive/Datasets/m01.csv')\n",
        "df2 = pd.read_csv('/content/drive/MyDrive/Datasets/m02.csv')\n",
        "df3 = pd.read_csv('/content/drive/MyDrive/Datasets/m03.csv')\n",
        "df4 = pd.read_csv('/content/drive/MyDrive/Datasets/m04.csv')\n",
        "df5 = pd.read_csv('/content/drive/MyDrive/Datasets/m05.csv', encoding='latin-1')\n",
        "df6 = pd.read_csv('/content/drive/MyDrive/Datasets/m06.csv', encoding='latin-1')\n",
        "df7 = pd.read_csv('/content/drive/MyDrive/Datasets/m07.csv', encoding='latin-1')"
      ]
    },
    {
      "cell_type": "code",
      "source": [
        "row_nm = 63"
      ],
      "metadata": {
        "id": "xn5pCovEJnhL"
      },
      "execution_count": null,
      "outputs": []
    },
    {
      "cell_type": "code",
      "source": [
        "dummy = pd.read_csv('/content/drive/MyDrive/Datasets/dummy.csv')"
      ],
      "metadata": {
        "id": "E4qamRrPEaP3"
      },
      "execution_count": null,
      "outputs": []
    },
    {
      "cell_type": "code",
      "source": [
        "df_list = [df0, df1, df2, df3, df4, df5, df6, df7]"
      ],
      "metadata": {
        "id": "ybDPsP_ZEcWU"
      },
      "execution_count": null,
      "outputs": []
    },
    {
      "cell_type": "code",
      "source": [
        "dummy.drop(dummy.index, inplace=True)\n",
        "dummy\n",
        "for df in df_list:\n",
        "  new_row = df.loc[[row_nm],['Tmax','Tmin','umax','umin','vmax','vmin','qmax','qmin']]\n",
        "  dummy = pd.concat([dummy, new_row], ignore_index=True)\n"
      ],
      "metadata": {
        "id": "FwtQTlw7EoZR"
      },
      "execution_count": null,
      "outputs": []
    },
    {
      "cell_type": "code",
      "source": [
        "df8 = pd.read_csv('/content/drive/MyDrive/Datasets/m08.csv', encoding='latin-1')\n",
        "df9 = pd.read_csv('/content/drive/MyDrive/Datasets/m09.csv', encoding='latin-1')\n",
        "df10 = pd.read_csv('/content/drive/MyDrive/Datasets/m10.csv', encoding='latin-1')\n",
        "df11 = pd.read_csv('/content/drive/MyDrive/Datasets/m11.csv', encoding='latin-1')\n",
        "df12 = pd.read_csv('/content/drive/MyDrive/Datasets/m12.csv', encoding='latin-1')\n",
        "df13 = pd.read_csv('/content/drive/MyDrive/Datasets/m13.csv', encoding='latin-1')\n",
        "df14 = pd.read_csv('/content/drive/MyDrive/Datasets/m14.csv', encoding='latin-1')\n",
        "df15 = pd.read_csv('/content/drive/MyDrive/Datasets/m15.csv', encoding='latin-1')\n",
        "df16 = pd.read_csv('/content/drive/MyDrive/Datasets/m16.csv', encoding='latin-1')\n",
        "df17 = pd.read_csv('/content/drive/MyDrive/Datasets/m17.csv', encoding='latin-1')\n",
        "df18 = pd.read_csv('/content/drive/MyDrive/Datasets/m18.csv', encoding='latin-1')\n",
        "df19 = pd.read_csv('/content/drive/MyDrive/Datasets/m19.csv', encoding='latin-1')\n",
        "df20 = pd.read_csv('/content/drive/MyDrive/Datasets/m20.csv', encoding='latin-1')\n",
        "df21 = pd.read_csv('/content/drive/MyDrive/Datasets/m21.csv', encoding='latin-1')\n",
        "df22 = pd.read_csv('/content/drive/MyDrive/Datasets/m22.csv', encoding='latin-1')\n"
      ],
      "metadata": {
        "id": "Sbi3k9EaE1g3"
      },
      "execution_count": null,
      "outputs": []
    },
    {
      "cell_type": "code",
      "source": [
        "df_list2 = [df8, df9, df10, df11, df12, df13, df14, df15, df16, df17, df18, df19, df20, df21, df22]\n",
        "for df in df_list2:\n",
        "  new_row = df.loc[[row_nm],['Tmax','Tmin','umax','umin','vmax','vmin','qmax','qmin']]\n",
        "  dummy = pd.concat([dummy, new_row], ignore_index=True)\n",
        "\n"
      ],
      "metadata": {
        "id": "UvcKcDyXFWLj"
      },
      "execution_count": null,
      "outputs": []
    },
    {
      "cell_type": "code",
      "source": [
        "df23 = pd.read_csv('/content/drive/MyDrive/Datasets/m23.csv', encoding='latin-1')\n",
        "df24 = pd.read_csv('/content/drive/MyDrive/Datasets/m24.csv', encoding='latin-1')\n",
        "df25 = pd.read_csv('/content/drive/MyDrive/Datasets/m25.csv', encoding='latin-1')\n",
        "df26 = pd.read_csv('/content/drive/MyDrive/Datasets/m26.csv', encoding='latin-1')\n",
        "df27 = pd.read_csv('/content/drive/MyDrive/Datasets/m27.csv', encoding='latin-1')\n",
        "df28 = pd.read_csv('/content/drive/MyDrive/Datasets/m28.csv', encoding='latin-1')\n",
        "df29 = pd.read_csv('/content/drive/MyDrive/Datasets/m29.csv', encoding='latin-1')\n",
        "df30 = pd.read_csv('/content/drive/MyDrive/Datasets/m30.csv', encoding='latin-1')\n",
        "df31 = pd.read_csv('/content/drive/MyDrive/Datasets/m31.csv', encoding='latin-1')\n",
        "\n"
      ],
      "metadata": {
        "id": "R6V8aAo0Gigh"
      },
      "execution_count": null,
      "outputs": []
    },
    {
      "cell_type": "code",
      "source": [
        "df_list3 = [df23, df24, df25, df26, df27, df28, df29, df30, df31]"
      ],
      "metadata": {
        "id": "lQ3u-sK_G083"
      },
      "execution_count": null,
      "outputs": []
    },
    {
      "cell_type": "code",
      "source": [
        "for df in df_list3:\n",
        "  new_row = df.loc[[row_nm],['Tmax','Tmin','umax','umin','vmax','vmin','qmax','qmin']]\n",
        "  dummy = pd.concat([dummy, new_row], ignore_index=True)"
      ],
      "metadata": {
        "id": "oXTPeDDnHBJm"
      },
      "execution_count": null,
      "outputs": []
    },
    {
      "cell_type": "code",
      "source": [
        "df32 = pd.read_csv('/content/drive/MyDrive/Datasets/m32.csv', encoding='latin-1')\n",
        "df32 = pd.read_csv('/content/drive/MyDrive/Datasets/m32.csv', encoding='latin-1')\n",
        "df33 = pd.read_csv('/content/drive/MyDrive/Datasets/m33.csv', encoding='latin-1')\n",
        "df34 = pd.read_csv('/content/drive/MyDrive/Datasets/m34.csv', encoding='latin-1')\n",
        "df35 = pd.read_csv('/content/drive/MyDrive/Datasets/m35.csv', encoding='latin-1')\n",
        "df36 = pd.read_csv('/content/drive/MyDrive/Datasets/m36.csv', encoding='latin-1')\n",
        "df37 = pd.read_csv('/content/drive/MyDrive/Datasets/m37.csv', encoding='latin-1')\n",
        "df38 = pd.read_csv('/content/drive/MyDrive/Datasets/m38.csv', encoding='latin-1')\n",
        "df39 = pd.read_csv('/content/drive/MyDrive/Datasets/m39.csv', encoding='latin-1')\n",
        "df40 = pd.read_csv('/content/drive/MyDrive/Datasets/m40.csv', encoding='latin-1')\n"
      ],
      "metadata": {
        "id": "T5n1GhC5HKdJ"
      },
      "execution_count": null,
      "outputs": []
    },
    {
      "cell_type": "code",
      "source": [
        "df_list4 = [df32, df33, df34, df35, df36, df37, df38, df39, df40]\n",
        "for df in df_list4:\n",
        "  new_row = df.loc[[row_nm],['Tmax','Tmin','umax','umin','vmax','vmin','qmax','qmin']]\n",
        "  dummy = pd.concat([dummy, new_row], ignore_index=True)"
      ],
      "metadata": {
        "id": "Et_foEByHKf2"
      },
      "execution_count": null,
      "outputs": []
    },
    {
      "cell_type": "code",
      "source": [
        "df41 = pd.read_csv('/content/drive/MyDrive/Datasets/m41.csv', encoding='latin-1')\n",
        "df42 = pd.read_csv('/content/drive/MyDrive/Datasets/m42.csv', encoding='latin-1')\n",
        "df43 = pd.read_csv('/content/drive/MyDrive/Datasets/m43.csv', encoding='latin-1')\n",
        "df44 = pd.read_csv('/content/drive/MyDrive/Datasets/m44.csv', encoding='latin-1')\n",
        "df45 = pd.read_csv('/content/drive/MyDrive/Datasets/m45.csv', encoding='latin-1')\n",
        "df46 = pd.read_csv('/content/drive/MyDrive/Datasets/m46.csv', encoding='latin-1')\n",
        "df47 = pd.read_csv('/content/drive/MyDrive/Datasets/m47.csv', encoding='latin-1')\n",
        "df48 = pd.read_csv('/content/drive/MyDrive/Datasets/m48.csv', encoding='latin-1')\n",
        "df49 = pd.read_csv('/content/drive/MyDrive/Datasets/m49.csv', encoding='latin-1')\n"
      ],
      "metadata": {
        "id": "WPIWw6yFHKiK"
      },
      "execution_count": null,
      "outputs": []
    },
    {
      "cell_type": "code",
      "source": [
        "df_list5 = [df41, df42, df43, df44, df45, df46, df47, df48, df49]"
      ],
      "metadata": {
        "id": "ZLQwBvZ-HKks"
      },
      "execution_count": null,
      "outputs": []
    },
    {
      "cell_type": "code",
      "source": [
        "for df in df_list5:\n",
        "  new_row = df.loc[[row_nm],['Tmax','Tmin','umax','umin','vmax','vmin','qmax','qmin']]\n",
        "  dummy = pd.concat([dummy, new_row], ignore_index=True)"
      ],
      "metadata": {
        "id": "d5T3mQwKHKnM"
      },
      "execution_count": null,
      "outputs": []
    },
    {
      "cell_type": "code",
      "source": [
        "df50 = pd.read_csv('/content/drive/MyDrive/Datasets/m50.csv', encoding='latin-1')\n",
        "df51 = pd.read_csv('/content/drive/MyDrive/Datasets/m51.csv', encoding='latin-1')\n",
        "df52 = pd.read_csv('/content/drive/MyDrive/Datasets/m52.csv', encoding='latin-1')\n",
        "df53 = pd.read_csv('/content/drive/MyDrive/Datasets/m53.csv', encoding='latin-1')\n",
        "df54 = pd.read_csv('/content/drive/MyDrive/Datasets/m54.csv', encoding='latin-1')\n",
        "df55 = pd.read_csv('/content/drive/MyDrive/Datasets/m55.csv', encoding='latin-1')\n",
        "df56 = pd.read_csv('/content/drive/MyDrive/Datasets/m56.csv', encoding='latin-1')\n",
        "df57 = pd.read_csv('/content/drive/MyDrive/Datasets/m57.csv', encoding='latin-1')\n",
        "df58 = pd.read_csv('/content/drive/MyDrive/Datasets/m58.csv', encoding='latin-1')\n"
      ],
      "metadata": {
        "id": "E6cClGJgJ08E"
      },
      "execution_count": null,
      "outputs": []
    },
    {
      "cell_type": "code",
      "source": [
        "df_list6 = [df50, df51, df52, df53, df54, df55, df56, df57, df58]"
      ],
      "metadata": {
        "id": "TvkDDehzJ0-T"
      },
      "execution_count": null,
      "outputs": []
    },
    {
      "cell_type": "code",
      "source": [
        "for df in df_list6:\n",
        "  new_row = df.loc[[row_nm],['Tmax','Tmin','umax','umin','vmax','vmin','qmax','qmin']]\n",
        "  dummy = pd.concat([dummy, new_row], ignore_index=True)"
      ],
      "metadata": {
        "id": "1aBVBlMjJ1Ak"
      },
      "execution_count": null,
      "outputs": []
    },
    {
      "cell_type": "code",
      "source": [
        "df59 = pd.read_csv('/content/drive/MyDrive/Datasets/m59.csv', encoding='latin-1')\n",
        "df60 = pd.read_csv('/content/drive/MyDrive/Datasets/m60.csv', encoding='latin-1')\n",
        "df61 = pd.read_csv('/content/drive/MyDrive/Datasets/m61.csv', encoding='latin-1')\n",
        "df62 = pd.read_csv('/content/drive/MyDrive/Datasets/m62.csv', encoding='latin-1')\n",
        "df63 = pd.read_csv('/content/drive/MyDrive/Datasets/m63.csv', encoding='latin-1')\n",
        "df64 = pd.read_csv('/content/drive/MyDrive/Datasets/m64.csv', encoding='latin-1')\n",
        "df65 = pd.read_csv('/content/drive/MyDrive/Datasets/m65.csv', encoding='latin-1')\n",
        "df66 = pd.read_csv('/content/drive/MyDrive/Datasets/m66.csv', encoding='latin-1')\n",
        "df67 = pd.read_csv('/content/drive/MyDrive/Datasets/m67.csv', encoding='latin-1')\n",
        "df68 = pd.read_csv('/content/drive/MyDrive/Datasets/m68.csv', encoding='latin-1')\n",
        "df69 = pd.read_csv('/content/drive/MyDrive/Datasets/m69.csv', encoding='latin-1')\n",
        "df70  = pd.read_csv('/content/drive/MyDrive/Datasets/m70.csv', encoding='latin-1')\n",
        "df71 = pd.read_csv('/content/drive/MyDrive/Datasets/m71.csv', encoding='latin-1')\n",
        "df72 = pd.read_csv('/content/drive/MyDrive/Datasets/m72.csv', encoding='latin-1')\n",
        "df73 = pd.read_csv('/content/drive/MyDrive/Datasets/m73.csv', encoding='latin-1')\n",
        "df74 = pd.read_csv('/content/drive/MyDrive/Datasets/m74.csv', encoding='latin-1')\n",
        "df75 = pd.read_csv('/content/drive/MyDrive/Datasets/m75.csv', encoding='latin-1')\n"
      ],
      "metadata": {
        "id": "qwNiyXQLJ1C_"
      },
      "execution_count": null,
      "outputs": []
    },
    {
      "cell_type": "code",
      "source": [
        "df_list7 = [df59, df60, df61, df62, df63, df64, df65, df66, df67, df68, df69, df70, df71, df72, df73, df74, df75]"
      ],
      "metadata": {
        "id": "OAY272RPJ1Fy"
      },
      "execution_count": null,
      "outputs": []
    },
    {
      "cell_type": "code",
      "source": [
        "for df in df_list7:\n",
        "  new_row = df.loc[[row_nm],['Tmax','Tmin','umax','umin','vmax','vmin','qmax','qmin']]\n",
        "  dummy = pd.concat([dummy, new_row], ignore_index=True)"
      ],
      "metadata": {
        "id": "znoL0SyLHKpv"
      },
      "execution_count": null,
      "outputs": []
    },
    {
      "cell_type": "code",
      "source": [
        "MGBF_features_lev65 = dummy"
      ],
      "metadata": {
        "id": "OYfwrRYHHKsh"
      },
      "execution_count": null,
      "outputs": []
    },
    {
      "cell_type": "markdown",
      "source": [],
      "metadata": {
        "id": "q8TAqcCqSmz8"
      }
    },
    {
      "cell_type": "code",
      "source": [
        "dummy.to_csv('/content/drive/MyDrive/Datasets/MGBF_features_lev65.csv')"
      ],
      "metadata": {
        "id": "i9tZjEaXNmAf"
      },
      "execution_count": null,
      "outputs": []
    },
    {
      "cell_type": "markdown",
      "source": [
        "## Normalization"
      ],
      "metadata": {
        "id": "BeO1IOhJdjTU"
      }
    },
    {
      "cell_type": "code",
      "source": [],
      "metadata": {
        "id": "8tCMIs68dsHt"
      },
      "execution_count": null,
      "outputs": []
    },
    {
      "cell_type": "code",
      "source": [],
      "metadata": {
        "id": "1hfgeda2dsPK"
      },
      "execution_count": null,
      "outputs": []
    },
    {
      "cell_type": "code",
      "source": [],
      "metadata": {
        "id": "qhUw6zd5dsSJ"
      },
      "execution_count": null,
      "outputs": []
    },
    {
      "cell_type": "code",
      "source": [],
      "metadata": {
        "id": "GDmWxWkPdsVW"
      },
      "execution_count": null,
      "outputs": []
    }
  ]
}